{
 "cells": [
  {
   "cell_type": "markdown",
   "id": "7a3eb51b-f69f-4b4b-aa2c-6fab8a6ff2fc",
   "metadata": {},
   "source": [
    "# Experiment B - Kaggle competition with Adaboost classifier model"
   ]
  },
  {
   "cell_type": "markdown",
   "id": "a2240710-796b-4fb9-aa8b-3c28bde119b2",
   "metadata": {},
   "source": [
    "### Thirada Tiamklang 14337188"
   ]
  },
  {
   "cell_type": "markdown",
   "id": "37194f57-4dfe-4417-bcbd-ca2f6bfb75d3",
   "metadata": {},
   "source": [
    "_24 August 2023_"
   ]
  },
  {
   "cell_type": "markdown",
   "id": "64813410-ba23-426f-b34d-a3f0177ac7cf",
   "metadata": {},
   "source": [
    "In this experiment, we will predict the probability of American college players being drafted to join NBA teams' rosters. We will use an Adaboost classifier model with hyperparameter tuning to aid in predicting the target outcome."
   ]
  },
  {
   "cell_type": "markdown",
   "id": "22c55d63-8234-483d-965d-2089ad4acdf8",
   "metadata": {},
   "source": [
    "__Tabel of contents__\n",
    "1. Load and explore data\n",
    "2. Train Adaboost classifier Model\n",
    "3. Hyperparameter Tuning\n",
    "4. Predict probability on Test Dataset"
   ]
  },
  {
   "cell_type": "markdown",
   "id": "91e3c41c-39d0-45ba-8559-6ebb9dd77bb4",
   "metadata": {},
   "source": [
    "## 1. Load and explore dataset"
   ]
  },
  {
   "cell_type": "code",
   "execution_count": 1,
   "id": "1f763ffe-0200-47eb-88cb-a0610417f650",
   "metadata": {},
   "outputs": [],
   "source": [
    "import pandas as pd\n",
    "import numpy as np\n",
    "from joblib import dump"
   ]
  },
  {
   "cell_type": "code",
   "execution_count": 2,
   "id": "8c9381b3-00e1-467d-b24b-a414eadc0a9a",
   "metadata": {},
   "outputs": [],
   "source": [
    "X_train = pd.read_csv('../data/processed/X_train.csv')\n",
    "X_val   = pd.read_csv('../data/processed/X_val.csv'  )\n",
    "X_test  = pd.read_csv('../data/processed/X_test.csv' )\n",
    "y_train = pd.read_csv('../data/processed/y_train.csv')\n",
    "y_val   = pd.read_csv('../data/processed/y_val.csv'  )\n",
    "y_test  = pd.read_csv('../data/processed/y_test.csv' )"
   ]
  },
  {
   "cell_type": "code",
   "execution_count": 3,
   "id": "8c579f3f-a0b9-42c8-8a9f-ab54e89110f9",
   "metadata": {},
   "outputs": [
    {
     "name": "stdout",
     "output_type": "stream",
     "text": [
      "(35897, 59)\n",
      "(8975, 59)\n",
      "(11219, 59)\n"
     ]
    }
   ],
   "source": [
    "print(X_train.shape)\n",
    "print(X_val.shape)\n",
    "print(X_test.shape)"
   ]
  },
  {
   "cell_type": "code",
   "execution_count": 4,
   "id": "11e1f348-38ca-468a-857c-8c3bd7824710",
   "metadata": {},
   "outputs": [
    {
     "name": "stdout",
     "output_type": "stream",
     "text": [
      "(35897, 1)\n",
      "(8975, 1)\n",
      "(11219, 1)\n"
     ]
    }
   ],
   "source": [
    "print(y_train.shape)\n",
    "print(y_val.shape)\n",
    "print(y_test.shape)"
   ]
  },
  {
   "cell_type": "markdown",
   "id": "fc7701bc-5901-4c5b-b4a2-473a4ea2be43",
   "metadata": {},
   "source": [
    "It seems like y is not in the right shape."
   ]
  },
  {
   "cell_type": "code",
   "execution_count": 5,
   "id": "f8adbd2a-3fed-461c-95ed-f5a4a5d47a0f",
   "metadata": {},
   "outputs": [
    {
     "data": {
      "text/html": [
       "<div>\n",
       "<style scoped>\n",
       "    .dataframe tbody tr th:only-of-type {\n",
       "        vertical-align: middle;\n",
       "    }\n",
       "\n",
       "    .dataframe tbody tr th {\n",
       "        vertical-align: top;\n",
       "    }\n",
       "\n",
       "    .dataframe thead th {\n",
       "        text-align: right;\n",
       "    }\n",
       "</style>\n",
       "<table border=\"1\" class=\"dataframe\">\n",
       "  <thead>\n",
       "    <tr style=\"text-align: right;\">\n",
       "      <th></th>\n",
       "      <th>drafted</th>\n",
       "    </tr>\n",
       "  </thead>\n",
       "  <tbody>\n",
       "    <tr>\n",
       "      <th>0</th>\n",
       "      <td>0.0</td>\n",
       "    </tr>\n",
       "    <tr>\n",
       "      <th>1</th>\n",
       "      <td>0.0</td>\n",
       "    </tr>\n",
       "    <tr>\n",
       "      <th>2</th>\n",
       "      <td>0.0</td>\n",
       "    </tr>\n",
       "    <tr>\n",
       "      <th>3</th>\n",
       "      <td>0.0</td>\n",
       "    </tr>\n",
       "    <tr>\n",
       "      <th>4</th>\n",
       "      <td>0.0</td>\n",
       "    </tr>\n",
       "  </tbody>\n",
       "</table>\n",
       "</div>"
      ],
      "text/plain": [
       "   drafted\n",
       "0      0.0\n",
       "1      0.0\n",
       "2      0.0\n",
       "3      0.0\n",
       "4      0.0"
      ]
     },
     "execution_count": 5,
     "metadata": {},
     "output_type": "execute_result"
    }
   ],
   "source": [
    "y_train.head()"
   ]
  },
  {
   "cell_type": "code",
   "execution_count": 6,
   "id": "53983352-6ba1-467f-acc7-e2fd30e7f752",
   "metadata": {},
   "outputs": [],
   "source": [
    "# Convert to a 1-dimensional array\n",
    "y_train = y_train.squeeze() \n",
    "y_val = y_val.squeeze() \n",
    "y_test = y_test.squeeze() "
   ]
  },
  {
   "cell_type": "code",
   "execution_count": 7,
   "id": "7c555dd1-2969-42e4-9c97-5b53c80c7880",
   "metadata": {},
   "outputs": [
    {
     "name": "stdout",
     "output_type": "stream",
     "text": [
      "(35897,)\n",
      "(8975,)\n",
      "(11219,)\n"
     ]
    }
   ],
   "source": [
    "print(y_train.shape)\n",
    "print(y_val.shape)\n",
    "print(y_test.shape)"
   ]
  },
  {
   "cell_type": "markdown",
   "id": "659bd5f7-522b-4b1a-8a69-cd67c709c8d2",
   "metadata": {},
   "source": [
    "To compare the AUROC score on the testing set with the results from the previous experiment_A, we will select the same features that were used to train both the baseline model and the polynomial logistic regression model."
   ]
  },
  {
   "cell_type": "code",
   "execution_count": 8,
   "id": "1390e8f0-ea7c-469c-a7ce-e22e3eff9022",
   "metadata": {},
   "outputs": [],
   "source": [
    "features_to_keep = ['adjoe', 'rimmade', 'dunks_ratio', 'adrtg']\n",
    "\n",
    "# Create new feature sets with selected features for training, validation, and testing\n",
    "X_train = X_train[features_to_keep]\n",
    "X_val = X_val[features_to_keep]\n",
    "X_test = X_test[features_to_keep]"
   ]
  },
  {
   "cell_type": "code",
   "execution_count": 9,
   "id": "0df6e78f-bd8a-467d-8d3d-46c1fd4c1e4b",
   "metadata": {},
   "outputs": [
    {
     "name": "stdout",
     "output_type": "stream",
     "text": [
      "(35897, 4)\n",
      "(8975, 4)\n",
      "(11219, 4)\n"
     ]
    }
   ],
   "source": [
    "print(X_train.shape)\n",
    "print(X_val.shape)\n",
    "print(X_test.shape)"
   ]
  },
  {
   "cell_type": "markdown",
   "id": "3f962c32-b626-4803-985a-3a59c470ac3a",
   "metadata": {},
   "source": [
    "There are 4 features that we will train with Adaboost model."
   ]
  },
  {
   "cell_type": "markdown",
   "id": "e6eaae35-d4e5-4ebf-94a7-4d8d9b2e75be",
   "metadata": {},
   "source": [
    "## 2. Train Adaboost classifier Model"
   ]
  },
  {
   "cell_type": "markdown",
   "id": "d78e8aa4-3e5c-4f0c-afff-f771ca9b5e9c",
   "metadata": {},
   "source": [
    "__AdaBoost classifier with default hyperparameter__"
   ]
  },
  {
   "cell_type": "code",
   "execution_count": 10,
   "id": "51c6781e-e8e6-4894-852b-49ce04441a25",
   "metadata": {},
   "outputs": [],
   "source": [
    "from sklearn.ensemble import AdaBoostClassifier\n",
    "from sklearn.metrics import roc_auc_score"
   ]
  },
  {
   "cell_type": "code",
   "execution_count": 11,
   "id": "16c8ec85-9bf4-4d73-83c7-79abf4094d5c",
   "metadata": {},
   "outputs": [],
   "source": [
    "adaboost_model = AdaBoostClassifier(random_state=None, n_estimators=50)"
   ]
  },
  {
   "cell_type": "code",
   "execution_count": 12,
   "id": "8db63f27-ddd7-43ee-baa4-b949c75b8401",
   "metadata": {},
   "outputs": [
    {
     "data": {
      "text/html": [
       "<style>#sk-container-id-1 {color: black;background-color: white;}#sk-container-id-1 pre{padding: 0;}#sk-container-id-1 div.sk-toggleable {background-color: white;}#sk-container-id-1 label.sk-toggleable__label {cursor: pointer;display: block;width: 100%;margin-bottom: 0;padding: 0.3em;box-sizing: border-box;text-align: center;}#sk-container-id-1 label.sk-toggleable__label-arrow:before {content: \"▸\";float: left;margin-right: 0.25em;color: #696969;}#sk-container-id-1 label.sk-toggleable__label-arrow:hover:before {color: black;}#sk-container-id-1 div.sk-estimator:hover label.sk-toggleable__label-arrow:before {color: black;}#sk-container-id-1 div.sk-toggleable__content {max-height: 0;max-width: 0;overflow: hidden;text-align: left;background-color: #f0f8ff;}#sk-container-id-1 div.sk-toggleable__content pre {margin: 0.2em;color: black;border-radius: 0.25em;background-color: #f0f8ff;}#sk-container-id-1 input.sk-toggleable__control:checked~div.sk-toggleable__content {max-height: 200px;max-width: 100%;overflow: auto;}#sk-container-id-1 input.sk-toggleable__control:checked~label.sk-toggleable__label-arrow:before {content: \"▾\";}#sk-container-id-1 div.sk-estimator input.sk-toggleable__control:checked~label.sk-toggleable__label {background-color: #d4ebff;}#sk-container-id-1 div.sk-label input.sk-toggleable__control:checked~label.sk-toggleable__label {background-color: #d4ebff;}#sk-container-id-1 input.sk-hidden--visually {border: 0;clip: rect(1px 1px 1px 1px);clip: rect(1px, 1px, 1px, 1px);height: 1px;margin: -1px;overflow: hidden;padding: 0;position: absolute;width: 1px;}#sk-container-id-1 div.sk-estimator {font-family: monospace;background-color: #f0f8ff;border: 1px dotted black;border-radius: 0.25em;box-sizing: border-box;margin-bottom: 0.5em;}#sk-container-id-1 div.sk-estimator:hover {background-color: #d4ebff;}#sk-container-id-1 div.sk-parallel-item::after {content: \"\";width: 100%;border-bottom: 1px solid gray;flex-grow: 1;}#sk-container-id-1 div.sk-label:hover label.sk-toggleable__label {background-color: #d4ebff;}#sk-container-id-1 div.sk-serial::before {content: \"\";position: absolute;border-left: 1px solid gray;box-sizing: border-box;top: 0;bottom: 0;left: 50%;z-index: 0;}#sk-container-id-1 div.sk-serial {display: flex;flex-direction: column;align-items: center;background-color: white;padding-right: 0.2em;padding-left: 0.2em;position: relative;}#sk-container-id-1 div.sk-item {position: relative;z-index: 1;}#sk-container-id-1 div.sk-parallel {display: flex;align-items: stretch;justify-content: center;background-color: white;position: relative;}#sk-container-id-1 div.sk-item::before, #sk-container-id-1 div.sk-parallel-item::before {content: \"\";position: absolute;border-left: 1px solid gray;box-sizing: border-box;top: 0;bottom: 0;left: 50%;z-index: -1;}#sk-container-id-1 div.sk-parallel-item {display: flex;flex-direction: column;z-index: 1;position: relative;background-color: white;}#sk-container-id-1 div.sk-parallel-item:first-child::after {align-self: flex-end;width: 50%;}#sk-container-id-1 div.sk-parallel-item:last-child::after {align-self: flex-start;width: 50%;}#sk-container-id-1 div.sk-parallel-item:only-child::after {width: 0;}#sk-container-id-1 div.sk-dashed-wrapped {border: 1px dashed gray;margin: 0 0.4em 0.5em 0.4em;box-sizing: border-box;padding-bottom: 0.4em;background-color: white;}#sk-container-id-1 div.sk-label label {font-family: monospace;font-weight: bold;display: inline-block;line-height: 1.2em;}#sk-container-id-1 div.sk-label-container {text-align: center;}#sk-container-id-1 div.sk-container {/* jupyter's `normalize.less` sets `[hidden] { display: none; }` but bootstrap.min.css set `[hidden] { display: none !important; }` so we also need the `!important` here to be able to override the default hidden behavior on the sphinx rendered scikit-learn.org. See: https://github.com/scikit-learn/scikit-learn/issues/21755 */display: inline-block !important;position: relative;}#sk-container-id-1 div.sk-text-repr-fallback {display: none;}</style><div id=\"sk-container-id-1\" class=\"sk-top-container\"><div class=\"sk-text-repr-fallback\"><pre>AdaBoostClassifier()</pre><b>In a Jupyter environment, please rerun this cell to show the HTML representation or trust the notebook. <br />On GitHub, the HTML representation is unable to render, please try loading this page with nbviewer.org.</b></div><div class=\"sk-container\" hidden><div class=\"sk-item\"><div class=\"sk-estimator sk-toggleable\"><input class=\"sk-toggleable__control sk-hidden--visually\" id=\"sk-estimator-id-1\" type=\"checkbox\" checked><label for=\"sk-estimator-id-1\" class=\"sk-toggleable__label sk-toggleable__label-arrow\">AdaBoostClassifier</label><div class=\"sk-toggleable__content\"><pre>AdaBoostClassifier()</pre></div></div></div></div></div>"
      ],
      "text/plain": [
       "AdaBoostClassifier()"
      ]
     },
     "execution_count": 12,
     "metadata": {},
     "output_type": "execute_result"
    }
   ],
   "source": [
    "adaboost_model.fit(X_train, y_train)"
   ]
  },
  {
   "cell_type": "code",
   "execution_count": 13,
   "id": "8dc5408e-2ef7-4c88-a34a-68c8aab6de8c",
   "metadata": {},
   "outputs": [],
   "source": [
    "# save model\n",
    "dump(adaboost_model,  '../models/adaboost_default.joblib')"
   ]
  },
  {
   "cell_type": "code",
   "execution_count": 14,
   "id": "11e28068-8c16-4161-aee4-664441ff3894",
   "metadata": {},
   "outputs": [],
   "source": [
    "y_train_probs = adaboost_model.predict_proba(X_train)[:, 1]\n",
    "y_val_probs = adaboost_model.predict_proba(X_val)[:, 1]\n",
    "y_test_probs = adaboost_model.predict_proba(X_test)[:, 1]"
   ]
  },
  {
   "cell_type": "code",
   "execution_count": 15,
   "id": "894d387f-5c28-430a-818b-63e50cdb9eb3",
   "metadata": {},
   "outputs": [],
   "source": [
    "auroc_train = roc_auc_score(y_train, y_train_probs)\n",
    "auroc_val = roc_auc_score(y_val, y_val_probs)\n",
    "auroc_test = roc_auc_score(y_test, y_test_probs)"
   ]
  },
  {
   "cell_type": "code",
   "execution_count": 16,
   "id": "1e101a76-1fec-420c-88b6-42c2a296da91",
   "metadata": {},
   "outputs": [
    {
     "name": "stdout",
     "output_type": "stream",
     "text": [
      "AUROC Score on training set: 0.9793101534690553\n",
      "AUROC Score on validation set: 0.9527849450628566\n",
      "AUROC Score on testing set: 0.9530439222551397\n"
     ]
    }
   ],
   "source": [
    "print(\"AUROC Score on training set:\", auroc_train)\n",
    "print(\"AUROC Score on validation set:\", auroc_val)\n",
    "print(\"AUROC Score on testing set:\", auroc_test)"
   ]
  },
  {
   "cell_type": "markdown",
   "id": "92c7015d-318b-48ff-967d-7a52611e5aa1",
   "metadata": {},
   "source": [
    "The AUROC on testing set for AdaBoost classifier with defalt hyperparameter is __0.9530439222551397__."
   ]
  },
  {
   "cell_type": "markdown",
   "id": "59bc89b8-8592-4891-9cdb-3c0594903ff3",
   "metadata": {},
   "source": [
    "## 3. Hyperparameter Tuning"
   ]
  },
  {
   "cell_type": "markdown",
   "id": "ceb550e7-8a8d-498f-96e5-63344e9f4ff0",
   "metadata": {},
   "source": [
    "### 3.1 Tuning the _random_state_"
   ]
  },
  {
   "cell_type": "code",
   "execution_count": 17,
   "id": "d8951083-4629-42e7-ae79-966498e6136b",
   "metadata": {},
   "outputs": [],
   "source": [
    "adaboost_Tune1 = AdaBoostClassifier(random_state=42, n_estimators=50)"
   ]
  },
  {
   "cell_type": "code",
   "execution_count": 18,
   "id": "1944d41a-6037-4a94-a75b-f970ceec1cf0",
   "metadata": {},
   "outputs": [
    {
     "data": {
      "text/html": [
       "<style>#sk-container-id-2 {color: black;background-color: white;}#sk-container-id-2 pre{padding: 0;}#sk-container-id-2 div.sk-toggleable {background-color: white;}#sk-container-id-2 label.sk-toggleable__label {cursor: pointer;display: block;width: 100%;margin-bottom: 0;padding: 0.3em;box-sizing: border-box;text-align: center;}#sk-container-id-2 label.sk-toggleable__label-arrow:before {content: \"▸\";float: left;margin-right: 0.25em;color: #696969;}#sk-container-id-2 label.sk-toggleable__label-arrow:hover:before {color: black;}#sk-container-id-2 div.sk-estimator:hover label.sk-toggleable__label-arrow:before {color: black;}#sk-container-id-2 div.sk-toggleable__content {max-height: 0;max-width: 0;overflow: hidden;text-align: left;background-color: #f0f8ff;}#sk-container-id-2 div.sk-toggleable__content pre {margin: 0.2em;color: black;border-radius: 0.25em;background-color: #f0f8ff;}#sk-container-id-2 input.sk-toggleable__control:checked~div.sk-toggleable__content {max-height: 200px;max-width: 100%;overflow: auto;}#sk-container-id-2 input.sk-toggleable__control:checked~label.sk-toggleable__label-arrow:before {content: \"▾\";}#sk-container-id-2 div.sk-estimator input.sk-toggleable__control:checked~label.sk-toggleable__label {background-color: #d4ebff;}#sk-container-id-2 div.sk-label input.sk-toggleable__control:checked~label.sk-toggleable__label {background-color: #d4ebff;}#sk-container-id-2 input.sk-hidden--visually {border: 0;clip: rect(1px 1px 1px 1px);clip: rect(1px, 1px, 1px, 1px);height: 1px;margin: -1px;overflow: hidden;padding: 0;position: absolute;width: 1px;}#sk-container-id-2 div.sk-estimator {font-family: monospace;background-color: #f0f8ff;border: 1px dotted black;border-radius: 0.25em;box-sizing: border-box;margin-bottom: 0.5em;}#sk-container-id-2 div.sk-estimator:hover {background-color: #d4ebff;}#sk-container-id-2 div.sk-parallel-item::after {content: \"\";width: 100%;border-bottom: 1px solid gray;flex-grow: 1;}#sk-container-id-2 div.sk-label:hover label.sk-toggleable__label {background-color: #d4ebff;}#sk-container-id-2 div.sk-serial::before {content: \"\";position: absolute;border-left: 1px solid gray;box-sizing: border-box;top: 0;bottom: 0;left: 50%;z-index: 0;}#sk-container-id-2 div.sk-serial {display: flex;flex-direction: column;align-items: center;background-color: white;padding-right: 0.2em;padding-left: 0.2em;position: relative;}#sk-container-id-2 div.sk-item {position: relative;z-index: 1;}#sk-container-id-2 div.sk-parallel {display: flex;align-items: stretch;justify-content: center;background-color: white;position: relative;}#sk-container-id-2 div.sk-item::before, #sk-container-id-2 div.sk-parallel-item::before {content: \"\";position: absolute;border-left: 1px solid gray;box-sizing: border-box;top: 0;bottom: 0;left: 50%;z-index: -1;}#sk-container-id-2 div.sk-parallel-item {display: flex;flex-direction: column;z-index: 1;position: relative;background-color: white;}#sk-container-id-2 div.sk-parallel-item:first-child::after {align-self: flex-end;width: 50%;}#sk-container-id-2 div.sk-parallel-item:last-child::after {align-self: flex-start;width: 50%;}#sk-container-id-2 div.sk-parallel-item:only-child::after {width: 0;}#sk-container-id-2 div.sk-dashed-wrapped {border: 1px dashed gray;margin: 0 0.4em 0.5em 0.4em;box-sizing: border-box;padding-bottom: 0.4em;background-color: white;}#sk-container-id-2 div.sk-label label {font-family: monospace;font-weight: bold;display: inline-block;line-height: 1.2em;}#sk-container-id-2 div.sk-label-container {text-align: center;}#sk-container-id-2 div.sk-container {/* jupyter's `normalize.less` sets `[hidden] { display: none; }` but bootstrap.min.css set `[hidden] { display: none !important; }` so we also need the `!important` here to be able to override the default hidden behavior on the sphinx rendered scikit-learn.org. See: https://github.com/scikit-learn/scikit-learn/issues/21755 */display: inline-block !important;position: relative;}#sk-container-id-2 div.sk-text-repr-fallback {display: none;}</style><div id=\"sk-container-id-2\" class=\"sk-top-container\"><div class=\"sk-text-repr-fallback\"><pre>AdaBoostClassifier(random_state=42)</pre><b>In a Jupyter environment, please rerun this cell to show the HTML representation or trust the notebook. <br />On GitHub, the HTML representation is unable to render, please try loading this page with nbviewer.org.</b></div><div class=\"sk-container\" hidden><div class=\"sk-item\"><div class=\"sk-estimator sk-toggleable\"><input class=\"sk-toggleable__control sk-hidden--visually\" id=\"sk-estimator-id-2\" type=\"checkbox\" checked><label for=\"sk-estimator-id-2\" class=\"sk-toggleable__label sk-toggleable__label-arrow\">AdaBoostClassifier</label><div class=\"sk-toggleable__content\"><pre>AdaBoostClassifier(random_state=42)</pre></div></div></div></div></div>"
      ],
      "text/plain": [
       "AdaBoostClassifier(random_state=42)"
      ]
     },
     "execution_count": 18,
     "metadata": {},
     "output_type": "execute_result"
    }
   ],
   "source": [
    "adaboost_Tune1.fit(X_train, y_train)"
   ]
  },
  {
   "cell_type": "code",
   "execution_count": 19,
   "id": "016667a5-8c38-4264-89e8-119f3303f1b9",
   "metadata": {},
   "outputs": [],
   "source": [
    "y_train_probs1 = adaboost_Tune1.predict_proba(X_train)[:, 1]\n",
    "y_val_probs1 = adaboost_Tune1.predict_proba(X_val)[:, 1]\n",
    "y_test_probs1 = adaboost_Tune1.predict_proba(X_test)[:, 1]"
   ]
  },
  {
   "cell_type": "code",
   "execution_count": 20,
   "id": "7578c30f-bf9c-4cc0-87c1-35f26ec13fb2",
   "metadata": {},
   "outputs": [
    {
     "name": "stdout",
     "output_type": "stream",
     "text": [
      "0.9793101534690553\n",
      "0.9527849450628566\n",
      "0.9530439222551397\n"
     ]
    }
   ],
   "source": [
    "print(roc_auc_score(y_train, y_train_probs1))\n",
    "print(roc_auc_score(y_val, y_val_probs1))\n",
    "print(roc_auc_score(y_test, y_test_probs1))"
   ]
  },
  {
   "cell_type": "markdown",
   "id": "1359e793-530b-4aab-8d51-48d6c98a833d",
   "metadata": {},
   "source": [
    "The random_state seems to not affect the AUROC score."
   ]
  },
  {
   "cell_type": "markdown",
   "id": "825b5609-a595-4506-a1be-997d244766fc",
   "metadata": {},
   "source": [
    "### 3.2 Tuning the _n_estimators_"
   ]
  },
  {
   "cell_type": "markdown",
   "id": "5cb87b6a-9bdf-49d1-9a1d-573232e088b5",
   "metadata": {},
   "source": [
    "__n_estimators=100__"
   ]
  },
  {
   "cell_type": "code",
   "execution_count": 21,
   "id": "7dcc8a52-7896-4079-ad71-e26eb1c139fb",
   "metadata": {},
   "outputs": [],
   "source": [
    "adaboost_Tune2 = AdaBoostClassifier(random_state=None, n_estimators=100)"
   ]
  },
  {
   "cell_type": "code",
   "execution_count": 22,
   "id": "a96c42d4-ac22-4696-8266-0c4d49914cad",
   "metadata": {},
   "outputs": [
    {
     "data": {
      "text/html": [
       "<style>#sk-container-id-3 {color: black;background-color: white;}#sk-container-id-3 pre{padding: 0;}#sk-container-id-3 div.sk-toggleable {background-color: white;}#sk-container-id-3 label.sk-toggleable__label {cursor: pointer;display: block;width: 100%;margin-bottom: 0;padding: 0.3em;box-sizing: border-box;text-align: center;}#sk-container-id-3 label.sk-toggleable__label-arrow:before {content: \"▸\";float: left;margin-right: 0.25em;color: #696969;}#sk-container-id-3 label.sk-toggleable__label-arrow:hover:before {color: black;}#sk-container-id-3 div.sk-estimator:hover label.sk-toggleable__label-arrow:before {color: black;}#sk-container-id-3 div.sk-toggleable__content {max-height: 0;max-width: 0;overflow: hidden;text-align: left;background-color: #f0f8ff;}#sk-container-id-3 div.sk-toggleable__content pre {margin: 0.2em;color: black;border-radius: 0.25em;background-color: #f0f8ff;}#sk-container-id-3 input.sk-toggleable__control:checked~div.sk-toggleable__content {max-height: 200px;max-width: 100%;overflow: auto;}#sk-container-id-3 input.sk-toggleable__control:checked~label.sk-toggleable__label-arrow:before {content: \"▾\";}#sk-container-id-3 div.sk-estimator input.sk-toggleable__control:checked~label.sk-toggleable__label {background-color: #d4ebff;}#sk-container-id-3 div.sk-label input.sk-toggleable__control:checked~label.sk-toggleable__label {background-color: #d4ebff;}#sk-container-id-3 input.sk-hidden--visually {border: 0;clip: rect(1px 1px 1px 1px);clip: rect(1px, 1px, 1px, 1px);height: 1px;margin: -1px;overflow: hidden;padding: 0;position: absolute;width: 1px;}#sk-container-id-3 div.sk-estimator {font-family: monospace;background-color: #f0f8ff;border: 1px dotted black;border-radius: 0.25em;box-sizing: border-box;margin-bottom: 0.5em;}#sk-container-id-3 div.sk-estimator:hover {background-color: #d4ebff;}#sk-container-id-3 div.sk-parallel-item::after {content: \"\";width: 100%;border-bottom: 1px solid gray;flex-grow: 1;}#sk-container-id-3 div.sk-label:hover label.sk-toggleable__label {background-color: #d4ebff;}#sk-container-id-3 div.sk-serial::before {content: \"\";position: absolute;border-left: 1px solid gray;box-sizing: border-box;top: 0;bottom: 0;left: 50%;z-index: 0;}#sk-container-id-3 div.sk-serial {display: flex;flex-direction: column;align-items: center;background-color: white;padding-right: 0.2em;padding-left: 0.2em;position: relative;}#sk-container-id-3 div.sk-item {position: relative;z-index: 1;}#sk-container-id-3 div.sk-parallel {display: flex;align-items: stretch;justify-content: center;background-color: white;position: relative;}#sk-container-id-3 div.sk-item::before, #sk-container-id-3 div.sk-parallel-item::before {content: \"\";position: absolute;border-left: 1px solid gray;box-sizing: border-box;top: 0;bottom: 0;left: 50%;z-index: -1;}#sk-container-id-3 div.sk-parallel-item {display: flex;flex-direction: column;z-index: 1;position: relative;background-color: white;}#sk-container-id-3 div.sk-parallel-item:first-child::after {align-self: flex-end;width: 50%;}#sk-container-id-3 div.sk-parallel-item:last-child::after {align-self: flex-start;width: 50%;}#sk-container-id-3 div.sk-parallel-item:only-child::after {width: 0;}#sk-container-id-3 div.sk-dashed-wrapped {border: 1px dashed gray;margin: 0 0.4em 0.5em 0.4em;box-sizing: border-box;padding-bottom: 0.4em;background-color: white;}#sk-container-id-3 div.sk-label label {font-family: monospace;font-weight: bold;display: inline-block;line-height: 1.2em;}#sk-container-id-3 div.sk-label-container {text-align: center;}#sk-container-id-3 div.sk-container {/* jupyter's `normalize.less` sets `[hidden] { display: none; }` but bootstrap.min.css set `[hidden] { display: none !important; }` so we also need the `!important` here to be able to override the default hidden behavior on the sphinx rendered scikit-learn.org. See: https://github.com/scikit-learn/scikit-learn/issues/21755 */display: inline-block !important;position: relative;}#sk-container-id-3 div.sk-text-repr-fallback {display: none;}</style><div id=\"sk-container-id-3\" class=\"sk-top-container\"><div class=\"sk-text-repr-fallback\"><pre>AdaBoostClassifier(n_estimators=100)</pre><b>In a Jupyter environment, please rerun this cell to show the HTML representation or trust the notebook. <br />On GitHub, the HTML representation is unable to render, please try loading this page with nbviewer.org.</b></div><div class=\"sk-container\" hidden><div class=\"sk-item\"><div class=\"sk-estimator sk-toggleable\"><input class=\"sk-toggleable__control sk-hidden--visually\" id=\"sk-estimator-id-3\" type=\"checkbox\" checked><label for=\"sk-estimator-id-3\" class=\"sk-toggleable__label sk-toggleable__label-arrow\">AdaBoostClassifier</label><div class=\"sk-toggleable__content\"><pre>AdaBoostClassifier(n_estimators=100)</pre></div></div></div></div></div>"
      ],
      "text/plain": [
       "AdaBoostClassifier(n_estimators=100)"
      ]
     },
     "execution_count": 22,
     "metadata": {},
     "output_type": "execute_result"
    }
   ],
   "source": [
    "adaboost_Tune2.fit(X_train, y_train)"
   ]
  },
  {
   "cell_type": "code",
   "execution_count": 23,
   "id": "ef0dff3c-9cda-482a-894a-dbbf3017d08a",
   "metadata": {},
   "outputs": [],
   "source": [
    "y_train_probs2 = adaboost_Tune2.predict_proba(X_train)[:, 1]\n",
    "y_val_probs2 = adaboost_Tune2.predict_proba(X_val)[:, 1]\n",
    "y_test_probs2 = adaboost_Tune2.predict_proba(X_test)[:, 1]"
   ]
  },
  {
   "cell_type": "code",
   "execution_count": 24,
   "id": "6bc7a6ec-0d12-4fe5-ad92-e00bd27c74d4",
   "metadata": {},
   "outputs": [
    {
     "name": "stdout",
     "output_type": "stream",
     "text": [
      "0.9814974625615549\n",
      "0.9554226478983145\n",
      "0.9578687494389083\n"
     ]
    }
   ],
   "source": [
    "print(roc_auc_score(y_train, y_train_probs2))\n",
    "print(roc_auc_score(y_val, y_val_probs2))\n",
    "print(roc_auc_score(y_test, y_test_probs2))"
   ]
  },
  {
   "cell_type": "markdown",
   "id": "1c1e8ab1-7bc3-4b8a-8727-68f049479bfb",
   "metadata": {},
   "source": [
    "The AUROC is now higher than the defalt and adaboost_Tune1."
   ]
  },
  {
   "cell_type": "markdown",
   "id": "5181a919-c7ef-4592-a9db-93ccdcc5f8fc",
   "metadata": {},
   "source": [
    "__n_estimators=150__"
   ]
  },
  {
   "cell_type": "code",
   "execution_count": 25,
   "id": "a57db8b8-a8f6-4d7c-a9d4-d9f0b07ecf32",
   "metadata": {},
   "outputs": [],
   "source": [
    "adaboost_Tune3 = AdaBoostClassifier(random_state=None, n_estimators=150)"
   ]
  },
  {
   "cell_type": "code",
   "execution_count": 26,
   "id": "6312606d-6f03-4a22-8589-5e32941cccd6",
   "metadata": {},
   "outputs": [
    {
     "data": {
      "text/html": [
       "<style>#sk-container-id-4 {color: black;background-color: white;}#sk-container-id-4 pre{padding: 0;}#sk-container-id-4 div.sk-toggleable {background-color: white;}#sk-container-id-4 label.sk-toggleable__label {cursor: pointer;display: block;width: 100%;margin-bottom: 0;padding: 0.3em;box-sizing: border-box;text-align: center;}#sk-container-id-4 label.sk-toggleable__label-arrow:before {content: \"▸\";float: left;margin-right: 0.25em;color: #696969;}#sk-container-id-4 label.sk-toggleable__label-arrow:hover:before {color: black;}#sk-container-id-4 div.sk-estimator:hover label.sk-toggleable__label-arrow:before {color: black;}#sk-container-id-4 div.sk-toggleable__content {max-height: 0;max-width: 0;overflow: hidden;text-align: left;background-color: #f0f8ff;}#sk-container-id-4 div.sk-toggleable__content pre {margin: 0.2em;color: black;border-radius: 0.25em;background-color: #f0f8ff;}#sk-container-id-4 input.sk-toggleable__control:checked~div.sk-toggleable__content {max-height: 200px;max-width: 100%;overflow: auto;}#sk-container-id-4 input.sk-toggleable__control:checked~label.sk-toggleable__label-arrow:before {content: \"▾\";}#sk-container-id-4 div.sk-estimator input.sk-toggleable__control:checked~label.sk-toggleable__label {background-color: #d4ebff;}#sk-container-id-4 div.sk-label input.sk-toggleable__control:checked~label.sk-toggleable__label {background-color: #d4ebff;}#sk-container-id-4 input.sk-hidden--visually {border: 0;clip: rect(1px 1px 1px 1px);clip: rect(1px, 1px, 1px, 1px);height: 1px;margin: -1px;overflow: hidden;padding: 0;position: absolute;width: 1px;}#sk-container-id-4 div.sk-estimator {font-family: monospace;background-color: #f0f8ff;border: 1px dotted black;border-radius: 0.25em;box-sizing: border-box;margin-bottom: 0.5em;}#sk-container-id-4 div.sk-estimator:hover {background-color: #d4ebff;}#sk-container-id-4 div.sk-parallel-item::after {content: \"\";width: 100%;border-bottom: 1px solid gray;flex-grow: 1;}#sk-container-id-4 div.sk-label:hover label.sk-toggleable__label {background-color: #d4ebff;}#sk-container-id-4 div.sk-serial::before {content: \"\";position: absolute;border-left: 1px solid gray;box-sizing: border-box;top: 0;bottom: 0;left: 50%;z-index: 0;}#sk-container-id-4 div.sk-serial {display: flex;flex-direction: column;align-items: center;background-color: white;padding-right: 0.2em;padding-left: 0.2em;position: relative;}#sk-container-id-4 div.sk-item {position: relative;z-index: 1;}#sk-container-id-4 div.sk-parallel {display: flex;align-items: stretch;justify-content: center;background-color: white;position: relative;}#sk-container-id-4 div.sk-item::before, #sk-container-id-4 div.sk-parallel-item::before {content: \"\";position: absolute;border-left: 1px solid gray;box-sizing: border-box;top: 0;bottom: 0;left: 50%;z-index: -1;}#sk-container-id-4 div.sk-parallel-item {display: flex;flex-direction: column;z-index: 1;position: relative;background-color: white;}#sk-container-id-4 div.sk-parallel-item:first-child::after {align-self: flex-end;width: 50%;}#sk-container-id-4 div.sk-parallel-item:last-child::after {align-self: flex-start;width: 50%;}#sk-container-id-4 div.sk-parallel-item:only-child::after {width: 0;}#sk-container-id-4 div.sk-dashed-wrapped {border: 1px dashed gray;margin: 0 0.4em 0.5em 0.4em;box-sizing: border-box;padding-bottom: 0.4em;background-color: white;}#sk-container-id-4 div.sk-label label {font-family: monospace;font-weight: bold;display: inline-block;line-height: 1.2em;}#sk-container-id-4 div.sk-label-container {text-align: center;}#sk-container-id-4 div.sk-container {/* jupyter's `normalize.less` sets `[hidden] { display: none; }` but bootstrap.min.css set `[hidden] { display: none !important; }` so we also need the `!important` here to be able to override the default hidden behavior on the sphinx rendered scikit-learn.org. See: https://github.com/scikit-learn/scikit-learn/issues/21755 */display: inline-block !important;position: relative;}#sk-container-id-4 div.sk-text-repr-fallback {display: none;}</style><div id=\"sk-container-id-4\" class=\"sk-top-container\"><div class=\"sk-text-repr-fallback\"><pre>AdaBoostClassifier(n_estimators=150)</pre><b>In a Jupyter environment, please rerun this cell to show the HTML representation or trust the notebook. <br />On GitHub, the HTML representation is unable to render, please try loading this page with nbviewer.org.</b></div><div class=\"sk-container\" hidden><div class=\"sk-item\"><div class=\"sk-estimator sk-toggleable\"><input class=\"sk-toggleable__control sk-hidden--visually\" id=\"sk-estimator-id-4\" type=\"checkbox\" checked><label for=\"sk-estimator-id-4\" class=\"sk-toggleable__label sk-toggleable__label-arrow\">AdaBoostClassifier</label><div class=\"sk-toggleable__content\"><pre>AdaBoostClassifier(n_estimators=150)</pre></div></div></div></div></div>"
      ],
      "text/plain": [
       "AdaBoostClassifier(n_estimators=150)"
      ]
     },
     "execution_count": 26,
     "metadata": {},
     "output_type": "execute_result"
    }
   ],
   "source": [
    "adaboost_Tune3.fit(X_train, y_train)"
   ]
  },
  {
   "cell_type": "code",
   "execution_count": 27,
   "id": "2a9cfc38-2cdc-4568-8f26-361df30d130c",
   "metadata": {},
   "outputs": [],
   "source": [
    "y_train_probs3 = adaboost_Tune3.predict_proba(X_train)[:, 1]\n",
    "y_val_probs3 = adaboost_Tune3.predict_proba(X_val)[:, 1]\n",
    "y_test_probs3 = adaboost_Tune3.predict_proba(X_test)[:, 1]"
   ]
  },
  {
   "cell_type": "code",
   "execution_count": 28,
   "id": "9a43839d-b8a7-4b7f-9d48-b7d4757a4684",
   "metadata": {},
   "outputs": [
    {
     "name": "stdout",
     "output_type": "stream",
     "text": [
      "0.9826306212926615\n",
      "0.9557959789401811\n",
      "0.9581509785438549\n"
     ]
    }
   ],
   "source": [
    "print(roc_auc_score(y_train, y_train_probs3))\n",
    "print(roc_auc_score(y_val, y_val_probs3))\n",
    "print(roc_auc_score(y_test, y_test_probs3))"
   ]
  },
  {
   "cell_type": "markdown",
   "id": "bafe11b4-6e22-4ac3-8c47-40811d53ff63",
   "metadata": {},
   "source": [
    "It's getting higher when n_estimators is increase."
   ]
  },
  {
   "cell_type": "markdown",
   "id": "114a4a70-8a94-4695-8a94-2f590c564391",
   "metadata": {},
   "source": [
    "__n_estimators=200__"
   ]
  },
  {
   "cell_type": "code",
   "execution_count": 29,
   "id": "da0bbb65-faae-4821-8b75-1f641c7d0caf",
   "metadata": {},
   "outputs": [],
   "source": [
    "adaboost_Tune4 = AdaBoostClassifier(random_state=None, n_estimators=200)"
   ]
  },
  {
   "cell_type": "code",
   "execution_count": 30,
   "id": "9596d5d1-ed7d-41d4-9f1e-bc31e262c38b",
   "metadata": {},
   "outputs": [
    {
     "data": {
      "text/html": [
       "<style>#sk-container-id-5 {color: black;background-color: white;}#sk-container-id-5 pre{padding: 0;}#sk-container-id-5 div.sk-toggleable {background-color: white;}#sk-container-id-5 label.sk-toggleable__label {cursor: pointer;display: block;width: 100%;margin-bottom: 0;padding: 0.3em;box-sizing: border-box;text-align: center;}#sk-container-id-5 label.sk-toggleable__label-arrow:before {content: \"▸\";float: left;margin-right: 0.25em;color: #696969;}#sk-container-id-5 label.sk-toggleable__label-arrow:hover:before {color: black;}#sk-container-id-5 div.sk-estimator:hover label.sk-toggleable__label-arrow:before {color: black;}#sk-container-id-5 div.sk-toggleable__content {max-height: 0;max-width: 0;overflow: hidden;text-align: left;background-color: #f0f8ff;}#sk-container-id-5 div.sk-toggleable__content pre {margin: 0.2em;color: black;border-radius: 0.25em;background-color: #f0f8ff;}#sk-container-id-5 input.sk-toggleable__control:checked~div.sk-toggleable__content {max-height: 200px;max-width: 100%;overflow: auto;}#sk-container-id-5 input.sk-toggleable__control:checked~label.sk-toggleable__label-arrow:before {content: \"▾\";}#sk-container-id-5 div.sk-estimator input.sk-toggleable__control:checked~label.sk-toggleable__label {background-color: #d4ebff;}#sk-container-id-5 div.sk-label input.sk-toggleable__control:checked~label.sk-toggleable__label {background-color: #d4ebff;}#sk-container-id-5 input.sk-hidden--visually {border: 0;clip: rect(1px 1px 1px 1px);clip: rect(1px, 1px, 1px, 1px);height: 1px;margin: -1px;overflow: hidden;padding: 0;position: absolute;width: 1px;}#sk-container-id-5 div.sk-estimator {font-family: monospace;background-color: #f0f8ff;border: 1px dotted black;border-radius: 0.25em;box-sizing: border-box;margin-bottom: 0.5em;}#sk-container-id-5 div.sk-estimator:hover {background-color: #d4ebff;}#sk-container-id-5 div.sk-parallel-item::after {content: \"\";width: 100%;border-bottom: 1px solid gray;flex-grow: 1;}#sk-container-id-5 div.sk-label:hover label.sk-toggleable__label {background-color: #d4ebff;}#sk-container-id-5 div.sk-serial::before {content: \"\";position: absolute;border-left: 1px solid gray;box-sizing: border-box;top: 0;bottom: 0;left: 50%;z-index: 0;}#sk-container-id-5 div.sk-serial {display: flex;flex-direction: column;align-items: center;background-color: white;padding-right: 0.2em;padding-left: 0.2em;position: relative;}#sk-container-id-5 div.sk-item {position: relative;z-index: 1;}#sk-container-id-5 div.sk-parallel {display: flex;align-items: stretch;justify-content: center;background-color: white;position: relative;}#sk-container-id-5 div.sk-item::before, #sk-container-id-5 div.sk-parallel-item::before {content: \"\";position: absolute;border-left: 1px solid gray;box-sizing: border-box;top: 0;bottom: 0;left: 50%;z-index: -1;}#sk-container-id-5 div.sk-parallel-item {display: flex;flex-direction: column;z-index: 1;position: relative;background-color: white;}#sk-container-id-5 div.sk-parallel-item:first-child::after {align-self: flex-end;width: 50%;}#sk-container-id-5 div.sk-parallel-item:last-child::after {align-self: flex-start;width: 50%;}#sk-container-id-5 div.sk-parallel-item:only-child::after {width: 0;}#sk-container-id-5 div.sk-dashed-wrapped {border: 1px dashed gray;margin: 0 0.4em 0.5em 0.4em;box-sizing: border-box;padding-bottom: 0.4em;background-color: white;}#sk-container-id-5 div.sk-label label {font-family: monospace;font-weight: bold;display: inline-block;line-height: 1.2em;}#sk-container-id-5 div.sk-label-container {text-align: center;}#sk-container-id-5 div.sk-container {/* jupyter's `normalize.less` sets `[hidden] { display: none; }` but bootstrap.min.css set `[hidden] { display: none !important; }` so we also need the `!important` here to be able to override the default hidden behavior on the sphinx rendered scikit-learn.org. See: https://github.com/scikit-learn/scikit-learn/issues/21755 */display: inline-block !important;position: relative;}#sk-container-id-5 div.sk-text-repr-fallback {display: none;}</style><div id=\"sk-container-id-5\" class=\"sk-top-container\"><div class=\"sk-text-repr-fallback\"><pre>AdaBoostClassifier(n_estimators=200)</pre><b>In a Jupyter environment, please rerun this cell to show the HTML representation or trust the notebook. <br />On GitHub, the HTML representation is unable to render, please try loading this page with nbviewer.org.</b></div><div class=\"sk-container\" hidden><div class=\"sk-item\"><div class=\"sk-estimator sk-toggleable\"><input class=\"sk-toggleable__control sk-hidden--visually\" id=\"sk-estimator-id-5\" type=\"checkbox\" checked><label for=\"sk-estimator-id-5\" class=\"sk-toggleable__label sk-toggleable__label-arrow\">AdaBoostClassifier</label><div class=\"sk-toggleable__content\"><pre>AdaBoostClassifier(n_estimators=200)</pre></div></div></div></div></div>"
      ],
      "text/plain": [
       "AdaBoostClassifier(n_estimators=200)"
      ]
     },
     "execution_count": 30,
     "metadata": {},
     "output_type": "execute_result"
    }
   ],
   "source": [
    "adaboost_Tune4.fit(X_train, y_train)"
   ]
  },
  {
   "cell_type": "code",
   "execution_count": 31,
   "id": "fa7e41ed-9784-4964-ae65-336261dfbe56",
   "metadata": {},
   "outputs": [],
   "source": [
    "y_train_probs4 = adaboost_Tune4.predict_proba(X_train)[:, 1]\n",
    "y_val_probs4 = adaboost_Tune4.predict_proba(X_val)[:, 1]\n",
    "y_test_probs4 = adaboost_Tune4.predict_proba(X_test)[:, 1]"
   ]
  },
  {
   "cell_type": "code",
   "execution_count": 32,
   "id": "67471fb2-2972-4794-98c4-1242b5a08032",
   "metadata": {},
   "outputs": [
    {
     "name": "stdout",
     "output_type": "stream",
     "text": [
      "0.9835687281110368\n",
      "0.955498126958101\n",
      "0.958140878893976\n"
     ]
    }
   ],
   "source": [
    "print(roc_auc_score(y_train, y_train_probs4))\n",
    "print(roc_auc_score(y_val, y_val_probs4))\n",
    "print(roc_auc_score(y_test, y_test_probs4))"
   ]
  },
  {
   "cell_type": "markdown",
   "id": "9aed6377-823c-46ff-bc51-7ee9fe7b7e4b",
   "metadata": {},
   "source": [
    "n_estimators=150 provided the highest score of AUROC."
   ]
  },
  {
   "cell_type": "markdown",
   "id": "a6a811fb-7648-4c2f-bbb4-b0af3e171abc",
   "metadata": {},
   "source": [
    "### 3.3 Tuning _learning_rate_"
   ]
  },
  {
   "cell_type": "markdown",
   "id": "f4343e11-c587-414b-b1fe-6c9322e8089f",
   "metadata": {},
   "source": [
    "__learning_rate=0.05__"
   ]
  },
  {
   "cell_type": "code",
   "execution_count": 33,
   "id": "bc205aee-af13-4900-ab8c-76a31303a370",
   "metadata": {},
   "outputs": [],
   "source": [
    "adaboost_Tune5 = AdaBoostClassifier(random_state=None, n_estimators=150, learning_rate=0.05)"
   ]
  },
  {
   "cell_type": "code",
   "execution_count": 34,
   "id": "bb8f62fa-b0c9-4fd7-8473-f1627a02c9bd",
   "metadata": {},
   "outputs": [
    {
     "data": {
      "text/html": [
       "<style>#sk-container-id-6 {color: black;background-color: white;}#sk-container-id-6 pre{padding: 0;}#sk-container-id-6 div.sk-toggleable {background-color: white;}#sk-container-id-6 label.sk-toggleable__label {cursor: pointer;display: block;width: 100%;margin-bottom: 0;padding: 0.3em;box-sizing: border-box;text-align: center;}#sk-container-id-6 label.sk-toggleable__label-arrow:before {content: \"▸\";float: left;margin-right: 0.25em;color: #696969;}#sk-container-id-6 label.sk-toggleable__label-arrow:hover:before {color: black;}#sk-container-id-6 div.sk-estimator:hover label.sk-toggleable__label-arrow:before {color: black;}#sk-container-id-6 div.sk-toggleable__content {max-height: 0;max-width: 0;overflow: hidden;text-align: left;background-color: #f0f8ff;}#sk-container-id-6 div.sk-toggleable__content pre {margin: 0.2em;color: black;border-radius: 0.25em;background-color: #f0f8ff;}#sk-container-id-6 input.sk-toggleable__control:checked~div.sk-toggleable__content {max-height: 200px;max-width: 100%;overflow: auto;}#sk-container-id-6 input.sk-toggleable__control:checked~label.sk-toggleable__label-arrow:before {content: \"▾\";}#sk-container-id-6 div.sk-estimator input.sk-toggleable__control:checked~label.sk-toggleable__label {background-color: #d4ebff;}#sk-container-id-6 div.sk-label input.sk-toggleable__control:checked~label.sk-toggleable__label {background-color: #d4ebff;}#sk-container-id-6 input.sk-hidden--visually {border: 0;clip: rect(1px 1px 1px 1px);clip: rect(1px, 1px, 1px, 1px);height: 1px;margin: -1px;overflow: hidden;padding: 0;position: absolute;width: 1px;}#sk-container-id-6 div.sk-estimator {font-family: monospace;background-color: #f0f8ff;border: 1px dotted black;border-radius: 0.25em;box-sizing: border-box;margin-bottom: 0.5em;}#sk-container-id-6 div.sk-estimator:hover {background-color: #d4ebff;}#sk-container-id-6 div.sk-parallel-item::after {content: \"\";width: 100%;border-bottom: 1px solid gray;flex-grow: 1;}#sk-container-id-6 div.sk-label:hover label.sk-toggleable__label {background-color: #d4ebff;}#sk-container-id-6 div.sk-serial::before {content: \"\";position: absolute;border-left: 1px solid gray;box-sizing: border-box;top: 0;bottom: 0;left: 50%;z-index: 0;}#sk-container-id-6 div.sk-serial {display: flex;flex-direction: column;align-items: center;background-color: white;padding-right: 0.2em;padding-left: 0.2em;position: relative;}#sk-container-id-6 div.sk-item {position: relative;z-index: 1;}#sk-container-id-6 div.sk-parallel {display: flex;align-items: stretch;justify-content: center;background-color: white;position: relative;}#sk-container-id-6 div.sk-item::before, #sk-container-id-6 div.sk-parallel-item::before {content: \"\";position: absolute;border-left: 1px solid gray;box-sizing: border-box;top: 0;bottom: 0;left: 50%;z-index: -1;}#sk-container-id-6 div.sk-parallel-item {display: flex;flex-direction: column;z-index: 1;position: relative;background-color: white;}#sk-container-id-6 div.sk-parallel-item:first-child::after {align-self: flex-end;width: 50%;}#sk-container-id-6 div.sk-parallel-item:last-child::after {align-self: flex-start;width: 50%;}#sk-container-id-6 div.sk-parallel-item:only-child::after {width: 0;}#sk-container-id-6 div.sk-dashed-wrapped {border: 1px dashed gray;margin: 0 0.4em 0.5em 0.4em;box-sizing: border-box;padding-bottom: 0.4em;background-color: white;}#sk-container-id-6 div.sk-label label {font-family: monospace;font-weight: bold;display: inline-block;line-height: 1.2em;}#sk-container-id-6 div.sk-label-container {text-align: center;}#sk-container-id-6 div.sk-container {/* jupyter's `normalize.less` sets `[hidden] { display: none; }` but bootstrap.min.css set `[hidden] { display: none !important; }` so we also need the `!important` here to be able to override the default hidden behavior on the sphinx rendered scikit-learn.org. See: https://github.com/scikit-learn/scikit-learn/issues/21755 */display: inline-block !important;position: relative;}#sk-container-id-6 div.sk-text-repr-fallback {display: none;}</style><div id=\"sk-container-id-6\" class=\"sk-top-container\"><div class=\"sk-text-repr-fallback\"><pre>AdaBoostClassifier(learning_rate=0.05, n_estimators=150)</pre><b>In a Jupyter environment, please rerun this cell to show the HTML representation or trust the notebook. <br />On GitHub, the HTML representation is unable to render, please try loading this page with nbviewer.org.</b></div><div class=\"sk-container\" hidden><div class=\"sk-item\"><div class=\"sk-estimator sk-toggleable\"><input class=\"sk-toggleable__control sk-hidden--visually\" id=\"sk-estimator-id-6\" type=\"checkbox\" checked><label for=\"sk-estimator-id-6\" class=\"sk-toggleable__label sk-toggleable__label-arrow\">AdaBoostClassifier</label><div class=\"sk-toggleable__content\"><pre>AdaBoostClassifier(learning_rate=0.05, n_estimators=150)</pre></div></div></div></div></div>"
      ],
      "text/plain": [
       "AdaBoostClassifier(learning_rate=0.05, n_estimators=150)"
      ]
     },
     "execution_count": 34,
     "metadata": {},
     "output_type": "execute_result"
    }
   ],
   "source": [
    "adaboost_Tune5.fit(X_train, y_train)"
   ]
  },
  {
   "cell_type": "code",
   "execution_count": 35,
   "id": "f0f213de-a5e2-4678-9e3b-79ded05fe710",
   "metadata": {},
   "outputs": [],
   "source": [
    "y_train_probs5 = adaboost_Tune5.predict_proba(X_train)[:, 1]\n",
    "y_val_probs5 = adaboost_Tune5.predict_proba(X_val)[:, 1]\n",
    "y_test_probs5 = adaboost_Tune5.predict_proba(X_test)[:, 1]"
   ]
  },
  {
   "cell_type": "code",
   "execution_count": 36,
   "id": "8f048381-6819-425a-810f-ca68ab7a6dc9",
   "metadata": {},
   "outputs": [
    {
     "name": "stdout",
     "output_type": "stream",
     "text": [
      "0.9745993186155162\n",
      "0.9683702096924401\n",
      "0.9736331807164019\n"
     ]
    }
   ],
   "source": [
    "print(roc_auc_score(y_train, y_train_probs5))\n",
    "print(roc_auc_score(y_val, y_val_probs5))\n",
    "print(roc_auc_score(y_test, y_test_probs5))"
   ]
  },
  {
   "cell_type": "markdown",
   "id": "0badf08a-54b1-4e14-94b2-1435d2080cb1",
   "metadata": {},
   "source": [
    "__learning_rate=0.1__"
   ]
  },
  {
   "cell_type": "code",
   "execution_count": 37,
   "id": "a68100db-6920-42fd-9ec1-799fc932e2d4",
   "metadata": {},
   "outputs": [],
   "source": [
    "adaboost_Tune6 = AdaBoostClassifier(random_state=None, n_estimators=150, learning_rate=0.1)"
   ]
  },
  {
   "cell_type": "code",
   "execution_count": 38,
   "id": "2000f515-fbb2-41a4-a458-056fdac2ee40",
   "metadata": {},
   "outputs": [
    {
     "data": {
      "text/html": [
       "<style>#sk-container-id-7 {color: black;background-color: white;}#sk-container-id-7 pre{padding: 0;}#sk-container-id-7 div.sk-toggleable {background-color: white;}#sk-container-id-7 label.sk-toggleable__label {cursor: pointer;display: block;width: 100%;margin-bottom: 0;padding: 0.3em;box-sizing: border-box;text-align: center;}#sk-container-id-7 label.sk-toggleable__label-arrow:before {content: \"▸\";float: left;margin-right: 0.25em;color: #696969;}#sk-container-id-7 label.sk-toggleable__label-arrow:hover:before {color: black;}#sk-container-id-7 div.sk-estimator:hover label.sk-toggleable__label-arrow:before {color: black;}#sk-container-id-7 div.sk-toggleable__content {max-height: 0;max-width: 0;overflow: hidden;text-align: left;background-color: #f0f8ff;}#sk-container-id-7 div.sk-toggleable__content pre {margin: 0.2em;color: black;border-radius: 0.25em;background-color: #f0f8ff;}#sk-container-id-7 input.sk-toggleable__control:checked~div.sk-toggleable__content {max-height: 200px;max-width: 100%;overflow: auto;}#sk-container-id-7 input.sk-toggleable__control:checked~label.sk-toggleable__label-arrow:before {content: \"▾\";}#sk-container-id-7 div.sk-estimator input.sk-toggleable__control:checked~label.sk-toggleable__label {background-color: #d4ebff;}#sk-container-id-7 div.sk-label input.sk-toggleable__control:checked~label.sk-toggleable__label {background-color: #d4ebff;}#sk-container-id-7 input.sk-hidden--visually {border: 0;clip: rect(1px 1px 1px 1px);clip: rect(1px, 1px, 1px, 1px);height: 1px;margin: -1px;overflow: hidden;padding: 0;position: absolute;width: 1px;}#sk-container-id-7 div.sk-estimator {font-family: monospace;background-color: #f0f8ff;border: 1px dotted black;border-radius: 0.25em;box-sizing: border-box;margin-bottom: 0.5em;}#sk-container-id-7 div.sk-estimator:hover {background-color: #d4ebff;}#sk-container-id-7 div.sk-parallel-item::after {content: \"\";width: 100%;border-bottom: 1px solid gray;flex-grow: 1;}#sk-container-id-7 div.sk-label:hover label.sk-toggleable__label {background-color: #d4ebff;}#sk-container-id-7 div.sk-serial::before {content: \"\";position: absolute;border-left: 1px solid gray;box-sizing: border-box;top: 0;bottom: 0;left: 50%;z-index: 0;}#sk-container-id-7 div.sk-serial {display: flex;flex-direction: column;align-items: center;background-color: white;padding-right: 0.2em;padding-left: 0.2em;position: relative;}#sk-container-id-7 div.sk-item {position: relative;z-index: 1;}#sk-container-id-7 div.sk-parallel {display: flex;align-items: stretch;justify-content: center;background-color: white;position: relative;}#sk-container-id-7 div.sk-item::before, #sk-container-id-7 div.sk-parallel-item::before {content: \"\";position: absolute;border-left: 1px solid gray;box-sizing: border-box;top: 0;bottom: 0;left: 50%;z-index: -1;}#sk-container-id-7 div.sk-parallel-item {display: flex;flex-direction: column;z-index: 1;position: relative;background-color: white;}#sk-container-id-7 div.sk-parallel-item:first-child::after {align-self: flex-end;width: 50%;}#sk-container-id-7 div.sk-parallel-item:last-child::after {align-self: flex-start;width: 50%;}#sk-container-id-7 div.sk-parallel-item:only-child::after {width: 0;}#sk-container-id-7 div.sk-dashed-wrapped {border: 1px dashed gray;margin: 0 0.4em 0.5em 0.4em;box-sizing: border-box;padding-bottom: 0.4em;background-color: white;}#sk-container-id-7 div.sk-label label {font-family: monospace;font-weight: bold;display: inline-block;line-height: 1.2em;}#sk-container-id-7 div.sk-label-container {text-align: center;}#sk-container-id-7 div.sk-container {/* jupyter's `normalize.less` sets `[hidden] { display: none; }` but bootstrap.min.css set `[hidden] { display: none !important; }` so we also need the `!important` here to be able to override the default hidden behavior on the sphinx rendered scikit-learn.org. See: https://github.com/scikit-learn/scikit-learn/issues/21755 */display: inline-block !important;position: relative;}#sk-container-id-7 div.sk-text-repr-fallback {display: none;}</style><div id=\"sk-container-id-7\" class=\"sk-top-container\"><div class=\"sk-text-repr-fallback\"><pre>AdaBoostClassifier(learning_rate=0.1, n_estimators=150)</pre><b>In a Jupyter environment, please rerun this cell to show the HTML representation or trust the notebook. <br />On GitHub, the HTML representation is unable to render, please try loading this page with nbviewer.org.</b></div><div class=\"sk-container\" hidden><div class=\"sk-item\"><div class=\"sk-estimator sk-toggleable\"><input class=\"sk-toggleable__control sk-hidden--visually\" id=\"sk-estimator-id-7\" type=\"checkbox\" checked><label for=\"sk-estimator-id-7\" class=\"sk-toggleable__label sk-toggleable__label-arrow\">AdaBoostClassifier</label><div class=\"sk-toggleable__content\"><pre>AdaBoostClassifier(learning_rate=0.1, n_estimators=150)</pre></div></div></div></div></div>"
      ],
      "text/plain": [
       "AdaBoostClassifier(learning_rate=0.1, n_estimators=150)"
      ]
     },
     "execution_count": 38,
     "metadata": {},
     "output_type": "execute_result"
    }
   ],
   "source": [
    "adaboost_Tune6.fit(X_train, y_train)"
   ]
  },
  {
   "cell_type": "code",
   "execution_count": 39,
   "id": "843d706c-8959-4769-ace3-83612816586f",
   "metadata": {},
   "outputs": [],
   "source": [
    "y_train_probs6 = adaboost_Tune6.predict_proba(X_train)[:, 1]\n",
    "y_val_probs6 = adaboost_Tune6.predict_proba(X_val)[:, 1]\n",
    "y_test_probs6 = adaboost_Tune6.predict_proba(X_test)[:, 1]"
   ]
  },
  {
   "cell_type": "code",
   "execution_count": 40,
   "id": "bdbc3777-2885-44b9-b652-6152229ee172",
   "metadata": {},
   "outputs": [
    {
     "name": "stdout",
     "output_type": "stream",
     "text": [
      "0.9764938734809504\n",
      "0.9693903382158607\n",
      "0.974367088607595\n"
     ]
    }
   ],
   "source": [
    "print(roc_auc_score(y_train, y_train_probs6))\n",
    "print(roc_auc_score(y_val, y_val_probs6))\n",
    "print(roc_auc_score(y_test, y_test_probs6))"
   ]
  },
  {
   "cell_type": "code",
   "execution_count": 41,
   "id": "994e03ec-13d1-4a1f-8159-2b5c880eda26",
   "metadata": {},
   "outputs": [],
   "source": [
    "dump(adaboost_Tune6,  '../models/best_adaboost_Tune6.joblib')"
   ]
  },
  {
   "cell_type": "markdown",
   "id": "160f2914-83e2-4f17-9b0c-5c5a15e76848",
   "metadata": {},
   "source": [
    "__learing_rate=0.5__"
   ]
  },
  {
   "cell_type": "code",
   "execution_count": 42,
   "id": "4fb4e0f3-58f5-43f0-9316-50c06dc3bdcb",
   "metadata": {},
   "outputs": [],
   "source": [
    "adaboost_Tune7 = AdaBoostClassifier(random_state=None, n_estimators=150, learning_rate=0.5)"
   ]
  },
  {
   "cell_type": "code",
   "execution_count": 43,
   "id": "ed90f419-e2f5-4ea7-9a3a-6edfa1f0041b",
   "metadata": {},
   "outputs": [
    {
     "data": {
      "text/html": [
       "<style>#sk-container-id-8 {color: black;background-color: white;}#sk-container-id-8 pre{padding: 0;}#sk-container-id-8 div.sk-toggleable {background-color: white;}#sk-container-id-8 label.sk-toggleable__label {cursor: pointer;display: block;width: 100%;margin-bottom: 0;padding: 0.3em;box-sizing: border-box;text-align: center;}#sk-container-id-8 label.sk-toggleable__label-arrow:before {content: \"▸\";float: left;margin-right: 0.25em;color: #696969;}#sk-container-id-8 label.sk-toggleable__label-arrow:hover:before {color: black;}#sk-container-id-8 div.sk-estimator:hover label.sk-toggleable__label-arrow:before {color: black;}#sk-container-id-8 div.sk-toggleable__content {max-height: 0;max-width: 0;overflow: hidden;text-align: left;background-color: #f0f8ff;}#sk-container-id-8 div.sk-toggleable__content pre {margin: 0.2em;color: black;border-radius: 0.25em;background-color: #f0f8ff;}#sk-container-id-8 input.sk-toggleable__control:checked~div.sk-toggleable__content {max-height: 200px;max-width: 100%;overflow: auto;}#sk-container-id-8 input.sk-toggleable__control:checked~label.sk-toggleable__label-arrow:before {content: \"▾\";}#sk-container-id-8 div.sk-estimator input.sk-toggleable__control:checked~label.sk-toggleable__label {background-color: #d4ebff;}#sk-container-id-8 div.sk-label input.sk-toggleable__control:checked~label.sk-toggleable__label {background-color: #d4ebff;}#sk-container-id-8 input.sk-hidden--visually {border: 0;clip: rect(1px 1px 1px 1px);clip: rect(1px, 1px, 1px, 1px);height: 1px;margin: -1px;overflow: hidden;padding: 0;position: absolute;width: 1px;}#sk-container-id-8 div.sk-estimator {font-family: monospace;background-color: #f0f8ff;border: 1px dotted black;border-radius: 0.25em;box-sizing: border-box;margin-bottom: 0.5em;}#sk-container-id-8 div.sk-estimator:hover {background-color: #d4ebff;}#sk-container-id-8 div.sk-parallel-item::after {content: \"\";width: 100%;border-bottom: 1px solid gray;flex-grow: 1;}#sk-container-id-8 div.sk-label:hover label.sk-toggleable__label {background-color: #d4ebff;}#sk-container-id-8 div.sk-serial::before {content: \"\";position: absolute;border-left: 1px solid gray;box-sizing: border-box;top: 0;bottom: 0;left: 50%;z-index: 0;}#sk-container-id-8 div.sk-serial {display: flex;flex-direction: column;align-items: center;background-color: white;padding-right: 0.2em;padding-left: 0.2em;position: relative;}#sk-container-id-8 div.sk-item {position: relative;z-index: 1;}#sk-container-id-8 div.sk-parallel {display: flex;align-items: stretch;justify-content: center;background-color: white;position: relative;}#sk-container-id-8 div.sk-item::before, #sk-container-id-8 div.sk-parallel-item::before {content: \"\";position: absolute;border-left: 1px solid gray;box-sizing: border-box;top: 0;bottom: 0;left: 50%;z-index: -1;}#sk-container-id-8 div.sk-parallel-item {display: flex;flex-direction: column;z-index: 1;position: relative;background-color: white;}#sk-container-id-8 div.sk-parallel-item:first-child::after {align-self: flex-end;width: 50%;}#sk-container-id-8 div.sk-parallel-item:last-child::after {align-self: flex-start;width: 50%;}#sk-container-id-8 div.sk-parallel-item:only-child::after {width: 0;}#sk-container-id-8 div.sk-dashed-wrapped {border: 1px dashed gray;margin: 0 0.4em 0.5em 0.4em;box-sizing: border-box;padding-bottom: 0.4em;background-color: white;}#sk-container-id-8 div.sk-label label {font-family: monospace;font-weight: bold;display: inline-block;line-height: 1.2em;}#sk-container-id-8 div.sk-label-container {text-align: center;}#sk-container-id-8 div.sk-container {/* jupyter's `normalize.less` sets `[hidden] { display: none; }` but bootstrap.min.css set `[hidden] { display: none !important; }` so we also need the `!important` here to be able to override the default hidden behavior on the sphinx rendered scikit-learn.org. See: https://github.com/scikit-learn/scikit-learn/issues/21755 */display: inline-block !important;position: relative;}#sk-container-id-8 div.sk-text-repr-fallback {display: none;}</style><div id=\"sk-container-id-8\" class=\"sk-top-container\"><div class=\"sk-text-repr-fallback\"><pre>AdaBoostClassifier(learning_rate=0.5, n_estimators=150)</pre><b>In a Jupyter environment, please rerun this cell to show the HTML representation or trust the notebook. <br />On GitHub, the HTML representation is unable to render, please try loading this page with nbviewer.org.</b></div><div class=\"sk-container\" hidden><div class=\"sk-item\"><div class=\"sk-estimator sk-toggleable\"><input class=\"sk-toggleable__control sk-hidden--visually\" id=\"sk-estimator-id-8\" type=\"checkbox\" checked><label for=\"sk-estimator-id-8\" class=\"sk-toggleable__label sk-toggleable__label-arrow\">AdaBoostClassifier</label><div class=\"sk-toggleable__content\"><pre>AdaBoostClassifier(learning_rate=0.5, n_estimators=150)</pre></div></div></div></div></div>"
      ],
      "text/plain": [
       "AdaBoostClassifier(learning_rate=0.5, n_estimators=150)"
      ]
     },
     "execution_count": 43,
     "metadata": {},
     "output_type": "execute_result"
    }
   ],
   "source": [
    "adaboost_Tune7.fit(X_train, y_train)"
   ]
  },
  {
   "cell_type": "code",
   "execution_count": 44,
   "id": "00630f76-4661-456b-a9c9-71fc325d3fa5",
   "metadata": {},
   "outputs": [],
   "source": [
    "y_train_probs7 = adaboost_Tune7.predict_proba(X_train)[:, 1]\n",
    "y_val_probs7 = adaboost_Tune7.predict_proba(X_val)[:, 1]\n",
    "y_test_probs7 = adaboost_Tune7.predict_proba(X_test)[:, 1]"
   ]
  },
  {
   "cell_type": "code",
   "execution_count": 45,
   "id": "62b93ef0-7623-402e-adce-f697c9b91aac",
   "metadata": {},
   "outputs": [
    {
     "name": "stdout",
     "output_type": "stream",
     "text": [
      "0.9801183824415812\n",
      "0.9607125687730356\n",
      "0.9649631923871083\n"
     ]
    }
   ],
   "source": [
    "print(roc_auc_score(y_train, y_train_probs7))\n",
    "print(roc_auc_score(y_val, y_val_probs7))\n",
    "print(roc_auc_score(y_test, y_test_probs7))"
   ]
  },
  {
   "cell_type": "markdown",
   "id": "6f04914d-6cfc-44ef-b736-9077a9ea8755",
   "metadata": {},
   "source": [
    "### 3.4 Conclusion"
   ]
  },
  {
   "cell_type": "markdown",
   "id": "1824a168-a0af-4441-bbbb-80931ce9188f",
   "metadata": {},
   "source": [
    "Training the Adaboost classification model with __random_state=None, n_estimators=150, learning_rate=0.1__ provide the best score of AUROC on testing set with less overfit ,0.974367088607595."
   ]
  },
  {
   "cell_type": "markdown",
   "id": "7cba03b0-3ab6-4bd3-8583-d37b3ef36cb4",
   "metadata": {},
   "source": [
    "## 4. Predict probability on Test Dataset"
   ]
  },
  {
   "cell_type": "code",
   "execution_count": 46,
   "id": "1f6315dc-1391-4557-a8b1-2314e1c7286e",
   "metadata": {},
   "outputs": [],
   "source": [
    "raw_test = pd.read_csv('../data/raw/test.csv')"
   ]
  },
  {
   "cell_type": "markdown",
   "id": "dc104b56-1663-47e4-9096-43ccf671dd96",
   "metadata": {},
   "source": [
    "__Cleaned test dataset__"
   ]
  },
  {
   "cell_type": "code",
   "execution_count": 47,
   "id": "b04756db-fcbd-4989-85a6-d302d7b61b06",
   "metadata": {},
   "outputs": [],
   "source": [
    "test = pd.read_csv('../data/processed/test_cleaned.csv')"
   ]
  },
  {
   "cell_type": "code",
   "execution_count": 48,
   "id": "16a7ff97-578f-4499-891e-dd3dd3142e64",
   "metadata": {},
   "outputs": [
    {
     "data": {
      "text/html": [
       "<div>\n",
       "<style scoped>\n",
       "    .dataframe tbody tr th:only-of-type {\n",
       "        vertical-align: middle;\n",
       "    }\n",
       "\n",
       "    .dataframe tbody tr th {\n",
       "        vertical-align: top;\n",
       "    }\n",
       "\n",
       "    .dataframe thead th {\n",
       "        text-align: right;\n",
       "    }\n",
       "</style>\n",
       "<table border=\"1\" class=\"dataframe\">\n",
       "  <thead>\n",
       "    <tr style=\"text-align: right;\">\n",
       "      <th></th>\n",
       "      <th>team</th>\n",
       "      <th>conf</th>\n",
       "      <th>GP</th>\n",
       "      <th>Min_per</th>\n",
       "      <th>Ortg</th>\n",
       "      <th>usg</th>\n",
       "      <th>eFG</th>\n",
       "      <th>TS_per</th>\n",
       "      <th>ORB_per</th>\n",
       "      <th>DRB_per</th>\n",
       "      <th>...</th>\n",
       "      <th>ogbpm</th>\n",
       "      <th>dgbpm</th>\n",
       "      <th>oreb</th>\n",
       "      <th>dreb</th>\n",
       "      <th>treb</th>\n",
       "      <th>ast</th>\n",
       "      <th>stl</th>\n",
       "      <th>blk</th>\n",
       "      <th>pts</th>\n",
       "      <th>player_id</th>\n",
       "    </tr>\n",
       "  </thead>\n",
       "  <tbody>\n",
       "    <tr>\n",
       "      <th>0</th>\n",
       "      <td>Morgan St.</td>\n",
       "      <td>MEAC</td>\n",
       "      <td>2</td>\n",
       "      <td>3.0</td>\n",
       "      <td>115.1</td>\n",
       "      <td>4.7</td>\n",
       "      <td>50.0</td>\n",
       "      <td>50.00</td>\n",
       "      <td>0.0</td>\n",
       "      <td>4.6</td>\n",
       "      <td>...</td>\n",
       "      <td>-2.467740</td>\n",
       "      <td>-2.275660</td>\n",
       "      <td>0.0000</td>\n",
       "      <td>0.3333</td>\n",
       "      <td>0.3333</td>\n",
       "      <td>0.0000</td>\n",
       "      <td>0.0000</td>\n",
       "      <td>0.0000</td>\n",
       "      <td>1.0000</td>\n",
       "      <td>cf302b4d-84f7-4124-a25d-a75eed31978b</td>\n",
       "    </tr>\n",
       "    <tr>\n",
       "      <th>1</th>\n",
       "      <td>South Carolina St.</td>\n",
       "      <td>MEAC</td>\n",
       "      <td>11</td>\n",
       "      <td>17.6</td>\n",
       "      <td>61.1</td>\n",
       "      <td>18.6</td>\n",
       "      <td>34.7</td>\n",
       "      <td>35.18</td>\n",
       "      <td>2.5</td>\n",
       "      <td>15.7</td>\n",
       "      <td>...</td>\n",
       "      <td>-7.494720</td>\n",
       "      <td>-4.412530</td>\n",
       "      <td>0.2727</td>\n",
       "      <td>1.4545</td>\n",
       "      <td>1.7273</td>\n",
       "      <td>0.4545</td>\n",
       "      <td>0.1818</td>\n",
       "      <td>0.0000</td>\n",
       "      <td>2.3636</td>\n",
       "      <td>f91837cd-4f49-4b70-963d-aeb82c6ce3da</td>\n",
       "    </tr>\n",
       "    <tr>\n",
       "      <th>2</th>\n",
       "      <td>Binghamton</td>\n",
       "      <td>AE</td>\n",
       "      <td>9</td>\n",
       "      <td>28.6</td>\n",
       "      <td>91.9</td>\n",
       "      <td>23.8</td>\n",
       "      <td>54.1</td>\n",
       "      <td>52.49</td>\n",
       "      <td>6.4</td>\n",
       "      <td>22.5</td>\n",
       "      <td>...</td>\n",
       "      <td>-2.924950</td>\n",
       "      <td>1.717890</td>\n",
       "      <td>1.3333</td>\n",
       "      <td>4.4444</td>\n",
       "      <td>5.7778</td>\n",
       "      <td>1.0000</td>\n",
       "      <td>0.6667</td>\n",
       "      <td>1.8889</td>\n",
       "      <td>8.8889</td>\n",
       "      <td>53ec2a29-1e7d-4c6d-86d7-d60d02af8916</td>\n",
       "    </tr>\n",
       "    <tr>\n",
       "      <th>3</th>\n",
       "      <td>Illinois</td>\n",
       "      <td>B10</td>\n",
       "      <td>7</td>\n",
       "      <td>1.3</td>\n",
       "      <td>111.0</td>\n",
       "      <td>10.4</td>\n",
       "      <td>83.3</td>\n",
       "      <td>83.33</td>\n",
       "      <td>0.0</td>\n",
       "      <td>13.4</td>\n",
       "      <td>...</td>\n",
       "      <td>-0.767911</td>\n",
       "      <td>0.962469</td>\n",
       "      <td>0.0000</td>\n",
       "      <td>0.2857</td>\n",
       "      <td>0.2857</td>\n",
       "      <td>0.0000</td>\n",
       "      <td>0.0000</td>\n",
       "      <td>0.0000</td>\n",
       "      <td>0.7143</td>\n",
       "      <td>32402798-471c-4a54-8cb4-29cd95199014</td>\n",
       "    </tr>\n",
       "    <tr>\n",
       "      <th>4</th>\n",
       "      <td>Iowa St.</td>\n",
       "      <td>B12</td>\n",
       "      <td>23</td>\n",
       "      <td>78.5</td>\n",
       "      <td>103.1</td>\n",
       "      <td>21.5</td>\n",
       "      <td>54.0</td>\n",
       "      <td>56.12</td>\n",
       "      <td>3.6</td>\n",
       "      <td>10.2</td>\n",
       "      <td>...</td>\n",
       "      <td>2.893610</td>\n",
       "      <td>-1.019000</td>\n",
       "      <td>1.0435</td>\n",
       "      <td>2.8696</td>\n",
       "      <td>3.9130</td>\n",
       "      <td>1.1739</td>\n",
       "      <td>0.8261</td>\n",
       "      <td>0.0870</td>\n",
       "      <td>14.3043</td>\n",
       "      <td>73b960f9-27b8-4431-9d23-a760e9bbc360</td>\n",
       "    </tr>\n",
       "  </tbody>\n",
       "</table>\n",
       "<p>5 rows × 59 columns</p>\n",
       "</div>"
      ],
      "text/plain": [
       "                 team  conf  GP  Min_per   Ortg   usg   eFG  TS_per  ORB_per  \\\n",
       "0          Morgan St.  MEAC   2      3.0  115.1   4.7  50.0   50.00      0.0   \n",
       "1  South Carolina St.  MEAC  11     17.6   61.1  18.6  34.7   35.18      2.5   \n",
       "2          Binghamton    AE   9     28.6   91.9  23.8  54.1   52.49      6.4   \n",
       "3            Illinois   B10   7      1.3  111.0  10.4  83.3   83.33      0.0   \n",
       "4            Iowa St.   B12  23     78.5  103.1  21.5  54.0   56.12      3.6   \n",
       "\n",
       "   DRB_per  ...     ogbpm     dgbpm    oreb    dreb    treb     ast     stl  \\\n",
       "0      4.6  ... -2.467740 -2.275660  0.0000  0.3333  0.3333  0.0000  0.0000   \n",
       "1     15.7  ... -7.494720 -4.412530  0.2727  1.4545  1.7273  0.4545  0.1818   \n",
       "2     22.5  ... -2.924950  1.717890  1.3333  4.4444  5.7778  1.0000  0.6667   \n",
       "3     13.4  ... -0.767911  0.962469  0.0000  0.2857  0.2857  0.0000  0.0000   \n",
       "4     10.2  ...  2.893610 -1.019000  1.0435  2.8696  3.9130  1.1739  0.8261   \n",
       "\n",
       "      blk      pts                             player_id  \n",
       "0  0.0000   1.0000  cf302b4d-84f7-4124-a25d-a75eed31978b  \n",
       "1  0.0000   2.3636  f91837cd-4f49-4b70-963d-aeb82c6ce3da  \n",
       "2  1.8889   8.8889  53ec2a29-1e7d-4c6d-86d7-d60d02af8916  \n",
       "3  0.0000   0.7143  32402798-471c-4a54-8cb4-29cd95199014  \n",
       "4  0.0870  14.3043  73b960f9-27b8-4431-9d23-a760e9bbc360  \n",
       "\n",
       "[5 rows x 59 columns]"
      ]
     },
     "execution_count": 48,
     "metadata": {},
     "output_type": "execute_result"
    }
   ],
   "source": [
    "test.head()"
   ]
  },
  {
   "cell_type": "markdown",
   "id": "e2c420e5-f4fd-44b7-a99b-4243c445d76c",
   "metadata": {},
   "source": [
    "_Label encoding_"
   ]
  },
  {
   "cell_type": "code",
   "execution_count": 49,
   "id": "f12a359e-ce4c-49fe-bdf4-d49468dfadc0",
   "metadata": {},
   "outputs": [],
   "source": [
    "from sklearn.preprocessing import LabelEncoder, StandardScaler"
   ]
  },
  {
   "cell_type": "code",
   "execution_count": 50,
   "id": "cd0c724a-283c-476a-9ac7-d3d6061aa195",
   "metadata": {},
   "outputs": [],
   "source": [
    "num_test = list(test.select_dtypes('number').columns)\n",
    "cat_test = list(set(test.columns) - set(num_test))"
   ]
  },
  {
   "cell_type": "code",
   "execution_count": 51,
   "id": "3ac002a4-7b92-4f30-988d-3286cedd04de",
   "metadata": {},
   "outputs": [],
   "source": [
    "features_test = pd.DataFrame(test)"
   ]
  },
  {
   "cell_type": "code",
   "execution_count": 52,
   "id": "21ca9cbc-85d8-418e-b468-802f45961df8",
   "metadata": {},
   "outputs": [],
   "source": [
    "le = LabelEncoder()"
   ]
  },
  {
   "cell_type": "code",
   "execution_count": 53,
   "id": "25b0fbd8-76f9-4703-abe3-3c46b0603bcf",
   "metadata": {},
   "outputs": [],
   "source": [
    "for col in cat_test:\n",
    "    features_test[col] = le.fit_transform(test[col])"
   ]
  },
  {
   "cell_type": "markdown",
   "id": "99d6bc1f-7186-4005-a253-c57362b13921",
   "metadata": {},
   "source": [
    "_Scale data_"
   ]
  },
  {
   "cell_type": "code",
   "execution_count": 54,
   "id": "6c1b2e73-bc10-414b-ac6e-2fe284bb518c",
   "metadata": {},
   "outputs": [],
   "source": [
    "scaler = StandardScaler()"
   ]
  },
  {
   "cell_type": "code",
   "execution_count": 55,
   "id": "01c4151e-8b95-4dc0-877a-c9f544c17efb",
   "metadata": {},
   "outputs": [],
   "source": [
    "features_test[num_test] = scaler.fit_transform(test[num_test])"
   ]
  },
  {
   "cell_type": "code",
   "execution_count": 56,
   "id": "ec2a24b4-9c36-451a-b65c-86ba7ce8f37e",
   "metadata": {},
   "outputs": [
    {
     "data": {
      "text/html": [
       "<div>\n",
       "<style scoped>\n",
       "    .dataframe tbody tr th:only-of-type {\n",
       "        vertical-align: middle;\n",
       "    }\n",
       "\n",
       "    .dataframe tbody tr th {\n",
       "        vertical-align: top;\n",
       "    }\n",
       "\n",
       "    .dataframe thead th {\n",
       "        text-align: right;\n",
       "    }\n",
       "</style>\n",
       "<table border=\"1\" class=\"dataframe\">\n",
       "  <thead>\n",
       "    <tr style=\"text-align: right;\">\n",
       "      <th></th>\n",
       "      <th>team</th>\n",
       "      <th>conf</th>\n",
       "      <th>GP</th>\n",
       "      <th>Min_per</th>\n",
       "      <th>Ortg</th>\n",
       "      <th>usg</th>\n",
       "      <th>eFG</th>\n",
       "      <th>TS_per</th>\n",
       "      <th>ORB_per</th>\n",
       "      <th>DRB_per</th>\n",
       "      <th>...</th>\n",
       "      <th>ogbpm</th>\n",
       "      <th>dgbpm</th>\n",
       "      <th>oreb</th>\n",
       "      <th>dreb</th>\n",
       "      <th>treb</th>\n",
       "      <th>ast</th>\n",
       "      <th>stl</th>\n",
       "      <th>blk</th>\n",
       "      <th>pts</th>\n",
       "      <th>player_id</th>\n",
       "    </tr>\n",
       "  </thead>\n",
       "  <tbody>\n",
       "    <tr>\n",
       "      <th>0</th>\n",
       "      <td>178</td>\n",
       "      <td>16</td>\n",
       "      <td>-1.675458</td>\n",
       "      <td>-1.142856</td>\n",
       "      <td>0.724470</td>\n",
       "      <td>-1.942278</td>\n",
       "      <td>0.306200</td>\n",
       "      <td>0.173170</td>\n",
       "      <td>-0.735206</td>\n",
       "      <td>-0.913609</td>\n",
       "      <td>...</td>\n",
       "      <td>-0.047183</td>\n",
       "      <td>-0.446359</td>\n",
       "      <td>-1.019688</td>\n",
       "      <td>-1.057036</td>\n",
       "      <td>-1.117648</td>\n",
       "      <td>-0.927909</td>\n",
       "      <td>-1.114426</td>\n",
       "      <td>-0.684429</td>\n",
       "      <td>-0.973761</td>\n",
       "      <td>4025</td>\n",
       "    </tr>\n",
       "    <tr>\n",
       "      <th>1</th>\n",
       "      <td>258</td>\n",
       "      <td>16</td>\n",
       "      <td>-0.587953</td>\n",
       "      <td>-0.619906</td>\n",
       "      <td>-0.803748</td>\n",
       "      <td>0.108028</td>\n",
       "      <td>-0.432411</td>\n",
       "      <td>-0.568201</td>\n",
       "      <td>-0.379580</td>\n",
       "      <td>0.286694</td>\n",
       "      <td>...</td>\n",
       "      <td>-0.791983</td>\n",
       "      <td>-0.991520</td>\n",
       "      <td>-0.620751</td>\n",
       "      <td>-0.325595</td>\n",
       "      <td>-0.445316</td>\n",
       "      <td>-0.533705</td>\n",
       "      <td>-0.731520</td>\n",
       "      <td>-0.684429</td>\n",
       "      <td>-0.694412</td>\n",
       "      <td>4819</td>\n",
       "    </tr>\n",
       "    <tr>\n",
       "      <th>2</th>\n",
       "      <td>23</td>\n",
       "      <td>2</td>\n",
       "      <td>-0.829621</td>\n",
       "      <td>-0.225903</td>\n",
       "      <td>0.067903</td>\n",
       "      <td>0.875049</td>\n",
       "      <td>0.504129</td>\n",
       "      <td>0.297732</td>\n",
       "      <td>0.175197</td>\n",
       "      <td>1.022015</td>\n",
       "      <td>...</td>\n",
       "      <td>-0.114923</td>\n",
       "      <td>0.572481</td>\n",
       "      <td>0.930816</td>\n",
       "      <td>1.624937</td>\n",
       "      <td>1.508257</td>\n",
       "      <td>-0.060574</td>\n",
       "      <td>0.289774</td>\n",
       "      <td>4.280789</td>\n",
       "      <td>0.642372</td>\n",
       "      <td>1630</td>\n",
       "    </tr>\n",
       "    <tr>\n",
       "      <th>3</th>\n",
       "      <td>115</td>\n",
       "      <td>5</td>\n",
       "      <td>-1.071289</td>\n",
       "      <td>-1.203748</td>\n",
       "      <td>0.608439</td>\n",
       "      <td>-1.101505</td>\n",
       "      <td>1.913766</td>\n",
       "      <td>1.840504</td>\n",
       "      <td>-0.735206</td>\n",
       "      <td>0.037982</td>\n",
       "      <td>...</td>\n",
       "      <td>0.204665</td>\n",
       "      <td>0.379757</td>\n",
       "      <td>-1.019688</td>\n",
       "      <td>-1.088089</td>\n",
       "      <td>-1.140606</td>\n",
       "      <td>-0.927909</td>\n",
       "      <td>-1.114426</td>\n",
       "      <td>-0.684429</td>\n",
       "      <td>-1.032290</td>\n",
       "      <td>965</td>\n",
       "    </tr>\n",
       "    <tr>\n",
       "      <th>4</th>\n",
       "      <td>123</td>\n",
       "      <td>6</td>\n",
       "      <td>0.862054</td>\n",
       "      <td>1.561439</td>\n",
       "      <td>0.384866</td>\n",
       "      <td>0.535790</td>\n",
       "      <td>0.499301</td>\n",
       "      <td>0.479323</td>\n",
       "      <td>-0.223104</td>\n",
       "      <td>-0.308051</td>\n",
       "      <td>...</td>\n",
       "      <td>0.747158</td>\n",
       "      <td>-0.125758</td>\n",
       "      <td>0.506863</td>\n",
       "      <td>0.597579</td>\n",
       "      <td>0.608856</td>\n",
       "      <td>0.090255</td>\n",
       "      <td>0.625501</td>\n",
       "      <td>-0.455738</td>\n",
       "      <td>1.751779</td>\n",
       "      <td>2268</td>\n",
       "    </tr>\n",
       "  </tbody>\n",
       "</table>\n",
       "<p>5 rows × 59 columns</p>\n",
       "</div>"
      ],
      "text/plain": [
       "   team  conf        GP   Min_per      Ortg       usg       eFG    TS_per  \\\n",
       "0   178    16 -1.675458 -1.142856  0.724470 -1.942278  0.306200  0.173170   \n",
       "1   258    16 -0.587953 -0.619906 -0.803748  0.108028 -0.432411 -0.568201   \n",
       "2    23     2 -0.829621 -0.225903  0.067903  0.875049  0.504129  0.297732   \n",
       "3   115     5 -1.071289 -1.203748  0.608439 -1.101505  1.913766  1.840504   \n",
       "4   123     6  0.862054  1.561439  0.384866  0.535790  0.499301  0.479323   \n",
       "\n",
       "    ORB_per   DRB_per  ...     ogbpm     dgbpm      oreb      dreb      treb  \\\n",
       "0 -0.735206 -0.913609  ... -0.047183 -0.446359 -1.019688 -1.057036 -1.117648   \n",
       "1 -0.379580  0.286694  ... -0.791983 -0.991520 -0.620751 -0.325595 -0.445316   \n",
       "2  0.175197  1.022015  ... -0.114923  0.572481  0.930816  1.624937  1.508257   \n",
       "3 -0.735206  0.037982  ...  0.204665  0.379757 -1.019688 -1.088089 -1.140606   \n",
       "4 -0.223104 -0.308051  ...  0.747158 -0.125758  0.506863  0.597579  0.608856   \n",
       "\n",
       "        ast       stl       blk       pts  player_id  \n",
       "0 -0.927909 -1.114426 -0.684429 -0.973761       4025  \n",
       "1 -0.533705 -0.731520 -0.684429 -0.694412       4819  \n",
       "2 -0.060574  0.289774  4.280789  0.642372       1630  \n",
       "3 -0.927909 -1.114426 -0.684429 -1.032290        965  \n",
       "4  0.090255  0.625501 -0.455738  1.751779       2268  \n",
       "\n",
       "[5 rows x 59 columns]"
      ]
     },
     "execution_count": 56,
     "metadata": {},
     "output_type": "execute_result"
    }
   ],
   "source": [
    "features_test.head()"
   ]
  },
  {
   "cell_type": "code",
   "execution_count": 57,
   "id": "f1b5f491-c38b-49cd-88cf-f07f2cfbeed7",
   "metadata": {},
   "outputs": [],
   "source": [
    "features_test.to_csv('../data/processed/features_test.csv', index=False)"
   ]
  },
  {
   "cell_type": "markdown",
   "id": "99cfd633-1eab-413c-9202-18e85c373c8b",
   "metadata": {},
   "source": [
    "_Select features_"
   ]
  },
  {
   "cell_type": "code",
   "execution_count": 58,
   "id": "0892250e-4dbd-40ae-98db-3a3ff1ac3e90",
   "metadata": {},
   "outputs": [],
   "source": [
    "# select features the same as Train dataset\n",
    "features_to_keep = ['adjoe', 'rimmade', 'dunks_ratio', 'adrtg']\n",
    "X_testdataset = features_test[features_to_keep]"
   ]
  },
  {
   "cell_type": "code",
   "execution_count": 59,
   "id": "146bf80d-d145-466b-af41-b559fcc2d9d5",
   "metadata": {},
   "outputs": [
    {
     "name": "stdout",
     "output_type": "stream",
     "text": [
      "0    4025\n",
      "1    4819\n",
      "2    1630\n",
      "3     965\n",
      "4    2268\n",
      "Name: player_id, dtype: int64\n"
     ]
    }
   ],
   "source": [
    "print(test['player_id'].head())"
   ]
  },
  {
   "cell_type": "markdown",
   "id": "ce8d0352-d779-48fb-a0bb-eb71bc0fa947",
   "metadata": {},
   "source": [
    "__Predict probabilty on test dataset__"
   ]
  },
  {
   "cell_type": "code",
   "execution_count": 60,
   "id": "a39872d6-51a1-4f55-835f-e4f93277df36",
   "metadata": {},
   "outputs": [],
   "source": [
    "# Use trained models to predict probability on Dataset B\n",
    "drafted_probability_poly = adaboost_Tune6.predict_proba(X_testdataset)[:, 1]"
   ]
  },
  {
   "cell_type": "code",
   "execution_count": 61,
   "id": "9a45541e-bc3a-46ea-a290-cb81ebe43a01",
   "metadata": {},
   "outputs": [],
   "source": [
    "results_B = pd.DataFrame({'drafted': drafted_probability_poly})"
   ]
  },
  {
   "cell_type": "code",
   "execution_count": 62,
   "id": "7499644c-60d6-4d1d-b4b3-f0028bd5087e",
   "metadata": {},
   "outputs": [
    {
     "name": "stdout",
     "output_type": "stream",
     "text": [
      "                                 player_id   drafted\n",
      "0     cf302b4d-84f7-4124-a25d-a75eed31978b  0.187184\n",
      "1     f91837cd-4f49-4b70-963d-aeb82c6ce3da  0.183125\n",
      "2     53ec2a29-1e7d-4c6d-86d7-d60d02af8916  0.231419\n",
      "3     32402798-471c-4a54-8cb4-29cd95199014  0.388955\n",
      "4     73b960f9-27b8-4431-9d23-a760e9bbc360  0.377473\n",
      "...                                    ...       ...\n",
      "4965  a25ee55f-02a3-4f8e-8194-a5f427e14e7c  0.279007\n",
      "4966  d0d9f45e-7b01-44b3-8d40-514ec338611d  0.187184\n",
      "4967  f8df22c4-1602-4fab-896d-8820951aae2f  0.218021\n",
      "4968  b791c69a-f769-4163-afda-051a6fd20a9d  0.218021\n",
      "4969  18b51f5d-4746-4121-88fd-c8d0a1399130  0.367796\n",
      "\n",
      "[4970 rows x 2 columns]\n"
     ]
    }
   ],
   "source": [
    "results_B['player_id'] = raw_test['player_id']\n",
    "results_B = results_B[['player_id', 'drafted']]\n",
    "print(results_B)"
   ]
  },
  {
   "cell_type": "code",
   "execution_count": 64,
   "id": "4986c616-21b1-4833-aac2-36658297e100",
   "metadata": {},
   "outputs": [],
   "source": [
    "results_B.to_csv('../data/processed/results_B.csv', index=False)"
   ]
  },
  {
   "cell_type": "markdown",
   "id": "89035d76-7e97-4ba0-a4e6-36edfa2c0381",
   "metadata": {},
   "source": [
    "## References"
   ]
  },
  {
   "cell_type": "markdown",
   "id": "d6defdee-ab5f-481f-bdce-e810601fadd5",
   "metadata": {},
   "source": [
    "So, A. (2023). _36120_AdvMLA-Lab2_Exercise3-Solutions.ipynb_. https://colab.research.google.com/drive/1LzgqM0bRDNL9hf0GiE2t2xCzpamOvwAJ?authuser=1#scrollTo=bQ530dp0MJJQ"
   ]
  }
 ],
 "metadata": {
  "kernelspec": {
   "display_name": "Python 3 (ipykernel)",
   "language": "python",
   "name": "python3"
  },
  "language_info": {
   "codemirror_mode": {
    "name": "ipython",
    "version": 3
   },
   "file_extension": ".py",
   "mimetype": "text/x-python",
   "name": "python",
   "nbconvert_exporter": "python",
   "pygments_lexer": "ipython3",
   "version": "3.10.9"
  }
 },
 "nbformat": 4,
 "nbformat_minor": 5
}
