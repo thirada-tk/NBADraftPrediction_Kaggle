{
 "cells": [
  {
   "cell_type": "markdown",
   "id": "afde2b13-0ea9-4c51-ac09-fe9a2acae387",
   "metadata": {},
   "source": [
    "# Experiment A - Kaggle competition with polynomial regression model.\n",
    "### Thirada Tiamklang 14337188\n",
    "_18 August 2023_\n",
    "\n",
    "In this experiment, we will predict the probability of American college players being drafted to join NBA teams' rosters. We will use a polynomial regression model and compare it to a baseline model to aid in predicting the target outcome. \n",
    "\n",
    "__Table of contents__\n",
    "1. Load and explore dataset\n",
    "2. Visualisation\n",
    "3. Pre-processing data\n",
    "4. Split data\n",
    "5. Baseline model\n",
    "6. Polynomial regression model\n",
    "7. Predict prob on Test Dataset"
   ]
  },
  {
   "cell_type": "markdown",
   "id": "68173bab-6eda-4cba-82ba-236c9728d7a0",
   "metadata": {},
   "source": [
    "## 1. Load and explore dataset"
   ]
  },
  {
   "cell_type": "code",
   "execution_count": 1,
   "id": "844f00e9-e5b9-4b9b-bd02-40f8e035cef3",
   "metadata": {},
   "outputs": [],
   "source": [
    "%load_ext autoreload\n",
    "%autoreload 2"
   ]
  },
  {
   "cell_type": "code",
   "execution_count": 2,
   "id": "c9977bdf-bbe8-4f1e-892e-bdc20c547bbf",
   "metadata": {},
   "outputs": [],
   "source": [
    "import pandas as pd\n",
    "import numpy as np"
   ]
  },
  {
   "cell_type": "code",
   "execution_count": 3,
   "id": "0f866d5f-c0c5-4af9-a6b8-7c728a549801",
   "metadata": {},
   "outputs": [
    {
     "name": "stderr",
     "output_type": "stream",
     "text": [
      "/var/folders/sb/nxrzyd0n61192x17k7wcyr4w0000gn/T/ipykernel_50564/4229903785.py:1: DtypeWarning: Columns (26) have mixed types. Specify dtype option on import or set low_memory=False.\n",
      "  df = pd.read_csv('../data/raw/train.csv')\n"
     ]
    }
   ],
   "source": [
    "df = pd.read_csv('../data/raw/train.csv')"
   ]
  },
  {
   "cell_type": "code",
   "execution_count": 4,
   "id": "3929daac-9002-4cb8-a69c-dfc4fa1809cb",
   "metadata": {},
   "outputs": [],
   "source": [
    "test = pd.read_csv('../data/raw/test.csv')"
   ]
  },
  {
   "cell_type": "code",
   "execution_count": 5,
   "id": "5d6e95d5-7606-4fc4-bb50-d657a2e79abe",
   "metadata": {},
   "outputs": [
    {
     "data": {
      "text/html": [
       "<div>\n",
       "<style scoped>\n",
       "    .dataframe tbody tr th:only-of-type {\n",
       "        vertical-align: middle;\n",
       "    }\n",
       "\n",
       "    .dataframe tbody tr th {\n",
       "        vertical-align: top;\n",
       "    }\n",
       "\n",
       "    .dataframe thead th {\n",
       "        text-align: right;\n",
       "    }\n",
       "</style>\n",
       "<table border=\"1\" class=\"dataframe\">\n",
       "  <thead>\n",
       "    <tr style=\"text-align: right;\">\n",
       "      <th></th>\n",
       "      <th>team</th>\n",
       "      <th>conf</th>\n",
       "      <th>GP</th>\n",
       "      <th>Min_per</th>\n",
       "      <th>Ortg</th>\n",
       "      <th>usg</th>\n",
       "      <th>eFG</th>\n",
       "      <th>TS_per</th>\n",
       "      <th>ORB_per</th>\n",
       "      <th>DRB_per</th>\n",
       "      <th>...</th>\n",
       "      <th>dgbpm</th>\n",
       "      <th>oreb</th>\n",
       "      <th>dreb</th>\n",
       "      <th>treb</th>\n",
       "      <th>ast</th>\n",
       "      <th>stl</th>\n",
       "      <th>blk</th>\n",
       "      <th>pts</th>\n",
       "      <th>player_id</th>\n",
       "      <th>drafted</th>\n",
       "    </tr>\n",
       "  </thead>\n",
       "  <tbody>\n",
       "    <tr>\n",
       "      <th>0</th>\n",
       "      <td>South Alabama</td>\n",
       "      <td>SB</td>\n",
       "      <td>26</td>\n",
       "      <td>29.5</td>\n",
       "      <td>97.3</td>\n",
       "      <td>16.6</td>\n",
       "      <td>42.5</td>\n",
       "      <td>44.43</td>\n",
       "      <td>1.6</td>\n",
       "      <td>4.6</td>\n",
       "      <td>...</td>\n",
       "      <td>-1.941150</td>\n",
       "      <td>0.1923</td>\n",
       "      <td>0.6154</td>\n",
       "      <td>0.8077</td>\n",
       "      <td>1.1923</td>\n",
       "      <td>0.3462</td>\n",
       "      <td>0.0385</td>\n",
       "      <td>3.8846</td>\n",
       "      <td>7be2aead-da4e-4d13-a74b-4c1e692e2368</td>\n",
       "      <td>0.0</td>\n",
       "    </tr>\n",
       "    <tr>\n",
       "      <th>1</th>\n",
       "      <td>Utah St.</td>\n",
       "      <td>WAC</td>\n",
       "      <td>34</td>\n",
       "      <td>60.9</td>\n",
       "      <td>108.3</td>\n",
       "      <td>14.9</td>\n",
       "      <td>52.4</td>\n",
       "      <td>54.48</td>\n",
       "      <td>3.8</td>\n",
       "      <td>6.3</td>\n",
       "      <td>...</td>\n",
       "      <td>-0.247934</td>\n",
       "      <td>0.6765</td>\n",
       "      <td>1.2647</td>\n",
       "      <td>1.9412</td>\n",
       "      <td>1.8235</td>\n",
       "      <td>0.4118</td>\n",
       "      <td>0.2353</td>\n",
       "      <td>5.9412</td>\n",
       "      <td>61de55d9-1582-4ea4-b593-44f6aa6524a6</td>\n",
       "      <td>0.0</td>\n",
       "    </tr>\n",
       "    <tr>\n",
       "      <th>2</th>\n",
       "      <td>South Florida</td>\n",
       "      <td>BE</td>\n",
       "      <td>27</td>\n",
       "      <td>72.0</td>\n",
       "      <td>96.2</td>\n",
       "      <td>21.8</td>\n",
       "      <td>45.7</td>\n",
       "      <td>47.98</td>\n",
       "      <td>2.1</td>\n",
       "      <td>8.0</td>\n",
       "      <td>...</td>\n",
       "      <td>-0.883163</td>\n",
       "      <td>0.6296</td>\n",
       "      <td>2.3333</td>\n",
       "      <td>2.9630</td>\n",
       "      <td>1.9630</td>\n",
       "      <td>0.4815</td>\n",
       "      <td>0.0000</td>\n",
       "      <td>12.1852</td>\n",
       "      <td>efdc4cfc-9dd0-4bf8-acef-7273e4d5b655</td>\n",
       "      <td>0.0</td>\n",
       "    </tr>\n",
       "    <tr>\n",
       "      <th>3</th>\n",
       "      <td>Pepperdine</td>\n",
       "      <td>WCC</td>\n",
       "      <td>30</td>\n",
       "      <td>44.5</td>\n",
       "      <td>97.7</td>\n",
       "      <td>16.0</td>\n",
       "      <td>53.6</td>\n",
       "      <td>53.69</td>\n",
       "      <td>4.1</td>\n",
       "      <td>9.4</td>\n",
       "      <td>...</td>\n",
       "      <td>-0.393459</td>\n",
       "      <td>0.7000</td>\n",
       "      <td>1.4333</td>\n",
       "      <td>2.1333</td>\n",
       "      <td>1.1000</td>\n",
       "      <td>0.5667</td>\n",
       "      <td>0.1333</td>\n",
       "      <td>4.9333</td>\n",
       "      <td>14f05660-bb3c-4868-b3dd-09bcdb64279d</td>\n",
       "      <td>0.0</td>\n",
       "    </tr>\n",
       "    <tr>\n",
       "      <th>4</th>\n",
       "      <td>Pacific</td>\n",
       "      <td>BW</td>\n",
       "      <td>33</td>\n",
       "      <td>56.2</td>\n",
       "      <td>96.5</td>\n",
       "      <td>22.0</td>\n",
       "      <td>52.8</td>\n",
       "      <td>54.31</td>\n",
       "      <td>8.3</td>\n",
       "      <td>18.6</td>\n",
       "      <td>...</td>\n",
       "      <td>-0.668318</td>\n",
       "      <td>1.4242</td>\n",
       "      <td>3.3030</td>\n",
       "      <td>4.7273</td>\n",
       "      <td>0.8485</td>\n",
       "      <td>0.4545</td>\n",
       "      <td>0.3333</td>\n",
       "      <td>7.5758</td>\n",
       "      <td>a58db52f-fbba-4e7b-83d0-371efcfed039</td>\n",
       "      <td>0.0</td>\n",
       "    </tr>\n",
       "  </tbody>\n",
       "</table>\n",
       "<p>5 rows × 64 columns</p>\n",
       "</div>"
      ],
      "text/plain": [
       "            team conf  GP  Min_per   Ortg   usg   eFG  TS_per  ORB_per  \\\n",
       "0  South Alabama   SB  26     29.5   97.3  16.6  42.5   44.43      1.6   \n",
       "1       Utah St.  WAC  34     60.9  108.3  14.9  52.4   54.48      3.8   \n",
       "2  South Florida   BE  27     72.0   96.2  21.8  45.7   47.98      2.1   \n",
       "3     Pepperdine  WCC  30     44.5   97.7  16.0  53.6   53.69      4.1   \n",
       "4        Pacific   BW  33     56.2   96.5  22.0  52.8   54.31      8.3   \n",
       "\n",
       "   DRB_per  ...     dgbpm    oreb    dreb    treb     ast     stl     blk  \\\n",
       "0      4.6  ... -1.941150  0.1923  0.6154  0.8077  1.1923  0.3462  0.0385   \n",
       "1      6.3  ... -0.247934  0.6765  1.2647  1.9412  1.8235  0.4118  0.2353   \n",
       "2      8.0  ... -0.883163  0.6296  2.3333  2.9630  1.9630  0.4815  0.0000   \n",
       "3      9.4  ... -0.393459  0.7000  1.4333  2.1333  1.1000  0.5667  0.1333   \n",
       "4     18.6  ... -0.668318  1.4242  3.3030  4.7273  0.8485  0.4545  0.3333   \n",
       "\n",
       "       pts                             player_id  drafted  \n",
       "0   3.8846  7be2aead-da4e-4d13-a74b-4c1e692e2368      0.0  \n",
       "1   5.9412  61de55d9-1582-4ea4-b593-44f6aa6524a6      0.0  \n",
       "2  12.1852  efdc4cfc-9dd0-4bf8-acef-7273e4d5b655      0.0  \n",
       "3   4.9333  14f05660-bb3c-4868-b3dd-09bcdb64279d      0.0  \n",
       "4   7.5758  a58db52f-fbba-4e7b-83d0-371efcfed039      0.0  \n",
       "\n",
       "[5 rows x 64 columns]"
      ]
     },
     "execution_count": 5,
     "metadata": {},
     "output_type": "execute_result"
    }
   ],
   "source": [
    "df.head()"
   ]
  },
  {
   "cell_type": "code",
   "execution_count": 6,
   "id": "5e6f22ed-890d-4c52-b6a0-724debce7b62",
   "metadata": {},
   "outputs": [
    {
     "data": {
      "text/plain": [
       "(56091, 64)"
      ]
     },
     "execution_count": 6,
     "metadata": {},
     "output_type": "execute_result"
    }
   ],
   "source": [
    "df.shape"
   ]
  },
  {
   "cell_type": "code",
   "execution_count": 7,
   "id": "43dab79c-a127-46c0-b820-93b3b3346e97",
   "metadata": {},
   "outputs": [
    {
     "data": {
      "text/plain": [
       "(4970, 63)"
      ]
     },
     "execution_count": 7,
     "metadata": {},
     "output_type": "execute_result"
    }
   ],
   "source": [
    "test.shape"
   ]
  },
  {
   "cell_type": "markdown",
   "id": "d2179c6c-d293-4d0f-abae-1c52133af224",
   "metadata": {},
   "source": [
    "There are 64 features/columns with 56,091 rows on df Dataset while there is no target(drafted) feature on test dataset."
   ]
  },
  {
   "cell_type": "code",
   "execution_count": 8,
   "id": "f45fddff-7357-45a0-8016-162a564fb057",
   "metadata": {},
   "outputs": [
    {
     "data": {
      "text/plain": [
       "Index(['team', 'conf', 'GP', 'Min_per', 'Ortg', 'usg', 'eFG', 'TS_per',\n",
       "       'ORB_per', 'DRB_per', 'AST_per', 'TO_per', 'FTM', 'FTA', 'FT_per',\n",
       "       'twoPM', 'twoPA', 'twoP_per', 'TPM', 'TPA', 'TP_per', 'blk_per',\n",
       "       'stl_per', 'ftr', 'yr', 'ht', 'num', 'porpag', 'adjoe', 'pfr', 'year',\n",
       "       'type', 'Rec_Rank', 'ast_tov', 'rimmade', 'rimmade_rimmiss', 'midmade',\n",
       "       'midmade_midmiss', 'rim_ratio', 'mid_ratio', 'dunksmade',\n",
       "       'dunksmiss_dunksmade', 'dunks_ratio', 'pick', 'drtg', 'adrtg',\n",
       "       'dporpag', 'stops', 'bpm', 'obpm', 'dbpm', 'gbpm', 'mp', 'ogbpm',\n",
       "       'dgbpm', 'oreb', 'dreb', 'treb', 'ast', 'stl', 'blk', 'pts',\n",
       "       'player_id', 'drafted'],\n",
       "      dtype='object')"
      ]
     },
     "execution_count": 8,
     "metadata": {},
     "output_type": "execute_result"
    }
   ],
   "source": [
    "df.columns"
   ]
  },
  {
   "cell_type": "markdown",
   "id": "37d413ba-e06b-4551-af57-3ffa579b0d37",
   "metadata": {},
   "source": [
    "The objective of the experiment focusing on player_id and drafted features, with drafted feature as a target variable."
   ]
  },
  {
   "cell_type": "code",
   "execution_count": 9,
   "id": "d342b3a4-fd3b-4f1a-866a-7b695f6c4f61",
   "metadata": {},
   "outputs": [
    {
     "name": "stdout",
     "output_type": "stream",
     "text": [
      "<class 'pandas.core.frame.DataFrame'>\n",
      "RangeIndex: 56091 entries, 0 to 56090\n",
      "Data columns (total 64 columns):\n",
      " #   Column               Non-Null Count  Dtype  \n",
      "---  ------               --------------  -----  \n",
      " 0   team                 56091 non-null  object \n",
      " 1   conf                 56091 non-null  object \n",
      " 2   GP                   56091 non-null  int64  \n",
      " 3   Min_per              56091 non-null  float64\n",
      " 4   Ortg                 56091 non-null  float64\n",
      " 5   usg                  56091 non-null  float64\n",
      " 6   eFG                  56091 non-null  float64\n",
      " 7   TS_per               56091 non-null  float64\n",
      " 8   ORB_per              56091 non-null  float64\n",
      " 9   DRB_per              56091 non-null  float64\n",
      " 10  AST_per              56091 non-null  float64\n",
      " 11  TO_per               56091 non-null  float64\n",
      " 12  FTM                  56091 non-null  int64  \n",
      " 13  FTA                  56091 non-null  int64  \n",
      " 14  FT_per               56091 non-null  float64\n",
      " 15  twoPM                56091 non-null  int64  \n",
      " 16  twoPA                56091 non-null  int64  \n",
      " 17  twoP_per             56091 non-null  float64\n",
      " 18  TPM                  56091 non-null  int64  \n",
      " 19  TPA                  56091 non-null  int64  \n",
      " 20  TP_per               56091 non-null  float64\n",
      " 21  blk_per              56091 non-null  float64\n",
      " 22  stl_per              56091 non-null  float64\n",
      " 23  ftr                  56091 non-null  float64\n",
      " 24  yr                   55817 non-null  object \n",
      " 25  ht                   56011 non-null  object \n",
      " 26  num                  51422 non-null  object \n",
      " 27  porpag               56091 non-null  float64\n",
      " 28  adjoe                56091 non-null  float64\n",
      " 29  pfr                  56091 non-null  float64\n",
      " 30  year                 56091 non-null  int64  \n",
      " 31  type                 56091 non-null  object \n",
      " 32  Rec_Rank             17036 non-null  float64\n",
      " 33  ast_tov              51901 non-null  float64\n",
      " 34  rimmade              50010 non-null  float64\n",
      " 35  rimmade_rimmiss      50010 non-null  float64\n",
      " 36  midmade              50010 non-null  float64\n",
      " 37  midmade_midmiss      50010 non-null  float64\n",
      " 38  rim_ratio            46627 non-null  float64\n",
      " 39  mid_ratio            46403 non-null  float64\n",
      " 40  dunksmade            50010 non-null  float64\n",
      " 41  dunksmiss_dunksmade  50010 non-null  float64\n",
      " 42  dunks_ratio          25298 non-null  float64\n",
      " 43  pick                 1386 non-null   float64\n",
      " 44  drtg                 56047 non-null  float64\n",
      " 45  adrtg                56047 non-null  float64\n",
      " 46  dporpag              56047 non-null  float64\n",
      " 47  stops                56047 non-null  float64\n",
      " 48  bpm                  56047 non-null  float64\n",
      " 49  obpm                 56047 non-null  float64\n",
      " 50  dbpm                 56047 non-null  float64\n",
      " 51  gbpm                 56047 non-null  float64\n",
      " 52  mp                   56053 non-null  float64\n",
      " 53  ogbpm                56047 non-null  float64\n",
      " 54  dgbpm                56047 non-null  float64\n",
      " 55  oreb                 56053 non-null  float64\n",
      " 56  dreb                 56053 non-null  float64\n",
      " 57  treb                 56053 non-null  float64\n",
      " 58  ast                  56053 non-null  float64\n",
      " 59  stl                  56053 non-null  float64\n",
      " 60  blk                  56053 non-null  float64\n",
      " 61  pts                  56053 non-null  float64\n",
      " 62  player_id            56091 non-null  object \n",
      " 63  drafted              56091 non-null  float64\n",
      "dtypes: float64(49), int64(8), object(7)\n",
      "memory usage: 27.4+ MB\n"
     ]
    }
   ],
   "source": [
    "df.info()"
   ]
  },
  {
   "cell_type": "markdown",
   "id": "c2ea1bc0-c725-4893-99ce-b218abbc6e67",
   "metadata": {},
   "source": [
    "It can be seen that there are 57 numeric variables and 7 categorical variables. With 33 features that have missing values."
   ]
  },
  {
   "cell_type": "code",
   "execution_count": 10,
   "id": "ef6df423-343b-41dd-8504-6b637eada16d",
   "metadata": {},
   "outputs": [
    {
     "data": {
      "text/html": [
       "<div>\n",
       "<style scoped>\n",
       "    .dataframe tbody tr th:only-of-type {\n",
       "        vertical-align: middle;\n",
       "    }\n",
       "\n",
       "    .dataframe tbody tr th {\n",
       "        vertical-align: top;\n",
       "    }\n",
       "\n",
       "    .dataframe thead th {\n",
       "        text-align: right;\n",
       "    }\n",
       "</style>\n",
       "<table border=\"1\" class=\"dataframe\">\n",
       "  <thead>\n",
       "    <tr style=\"text-align: right;\">\n",
       "      <th></th>\n",
       "      <th>team</th>\n",
       "      <th>conf</th>\n",
       "      <th>GP</th>\n",
       "      <th>Min_per</th>\n",
       "      <th>Ortg</th>\n",
       "      <th>usg</th>\n",
       "      <th>eFG</th>\n",
       "      <th>TS_per</th>\n",
       "      <th>ORB_per</th>\n",
       "      <th>DRB_per</th>\n",
       "      <th>...</th>\n",
       "      <th>dgbpm</th>\n",
       "      <th>oreb</th>\n",
       "      <th>dreb</th>\n",
       "      <th>treb</th>\n",
       "      <th>ast</th>\n",
       "      <th>stl</th>\n",
       "      <th>blk</th>\n",
       "      <th>pts</th>\n",
       "      <th>player_id</th>\n",
       "      <th>drafted</th>\n",
       "    </tr>\n",
       "  </thead>\n",
       "  <tbody>\n",
       "    <tr>\n",
       "      <th>count</th>\n",
       "      <td>56091</td>\n",
       "      <td>56091</td>\n",
       "      <td>56091.000000</td>\n",
       "      <td>56091.000000</td>\n",
       "      <td>56091.000000</td>\n",
       "      <td>56091.000000</td>\n",
       "      <td>56091.000000</td>\n",
       "      <td>56091.000000</td>\n",
       "      <td>56091.000000</td>\n",
       "      <td>56091.000000</td>\n",
       "      <td>...</td>\n",
       "      <td>56047.000000</td>\n",
       "      <td>56053.000000</td>\n",
       "      <td>56053.000000</td>\n",
       "      <td>56053.000000</td>\n",
       "      <td>56053.000000</td>\n",
       "      <td>56053.000000</td>\n",
       "      <td>56053.000000</td>\n",
       "      <td>56053.000000</td>\n",
       "      <td>56091</td>\n",
       "      <td>56091.000000</td>\n",
       "    </tr>\n",
       "    <tr>\n",
       "      <th>unique</th>\n",
       "      <td>358</td>\n",
       "      <td>36</td>\n",
       "      <td>NaN</td>\n",
       "      <td>NaN</td>\n",
       "      <td>NaN</td>\n",
       "      <td>NaN</td>\n",
       "      <td>NaN</td>\n",
       "      <td>NaN</td>\n",
       "      <td>NaN</td>\n",
       "      <td>NaN</td>\n",
       "      <td>...</td>\n",
       "      <td>NaN</td>\n",
       "      <td>NaN</td>\n",
       "      <td>NaN</td>\n",
       "      <td>NaN</td>\n",
       "      <td>NaN</td>\n",
       "      <td>NaN</td>\n",
       "      <td>NaN</td>\n",
       "      <td>NaN</td>\n",
       "      <td>23929</td>\n",
       "      <td>NaN</td>\n",
       "    </tr>\n",
       "    <tr>\n",
       "      <th>top</th>\n",
       "      <td>Army</td>\n",
       "      <td>ACC</td>\n",
       "      <td>NaN</td>\n",
       "      <td>NaN</td>\n",
       "      <td>NaN</td>\n",
       "      <td>NaN</td>\n",
       "      <td>NaN</td>\n",
       "      <td>NaN</td>\n",
       "      <td>NaN</td>\n",
       "      <td>NaN</td>\n",
       "      <td>...</td>\n",
       "      <td>NaN</td>\n",
       "      <td>NaN</td>\n",
       "      <td>NaN</td>\n",
       "      <td>NaN</td>\n",
       "      <td>NaN</td>\n",
       "      <td>NaN</td>\n",
       "      <td>NaN</td>\n",
       "      <td>NaN</td>\n",
       "      <td>06dc8dc2-888e-4941-9106-4798cddfb9d2</td>\n",
       "      <td>NaN</td>\n",
       "    </tr>\n",
       "    <tr>\n",
       "      <th>freq</th>\n",
       "      <td>209</td>\n",
       "      <td>2297</td>\n",
       "      <td>NaN</td>\n",
       "      <td>NaN</td>\n",
       "      <td>NaN</td>\n",
       "      <td>NaN</td>\n",
       "      <td>NaN</td>\n",
       "      <td>NaN</td>\n",
       "      <td>NaN</td>\n",
       "      <td>NaN</td>\n",
       "      <td>...</td>\n",
       "      <td>NaN</td>\n",
       "      <td>NaN</td>\n",
       "      <td>NaN</td>\n",
       "      <td>NaN</td>\n",
       "      <td>NaN</td>\n",
       "      <td>NaN</td>\n",
       "      <td>NaN</td>\n",
       "      <td>NaN</td>\n",
       "      <td>6</td>\n",
       "      <td>NaN</td>\n",
       "    </tr>\n",
       "    <tr>\n",
       "      <th>mean</th>\n",
       "      <td>NaN</td>\n",
       "      <td>NaN</td>\n",
       "      <td>23.411973</td>\n",
       "      <td>37.325229</td>\n",
       "      <td>91.858295</td>\n",
       "      <td>18.149265</td>\n",
       "      <td>44.575513</td>\n",
       "      <td>47.676882</td>\n",
       "      <td>5.575376</td>\n",
       "      <td>12.673716</td>\n",
       "      <td>...</td>\n",
       "      <td>-0.442297</td>\n",
       "      <td>0.770611</td>\n",
       "      <td>1.892593</td>\n",
       "      <td>2.663204</td>\n",
       "      <td>1.073038</td>\n",
       "      <td>0.529475</td>\n",
       "      <td>0.282825</td>\n",
       "      <td>5.775381</td>\n",
       "      <td>NaN</td>\n",
       "      <td>0.009556</td>\n",
       "    </tr>\n",
       "    <tr>\n",
       "      <th>std</th>\n",
       "      <td>NaN</td>\n",
       "      <td>NaN</td>\n",
       "      <td>10.090542</td>\n",
       "      <td>28.061897</td>\n",
       "      <td>30.538819</td>\n",
       "      <td>6.204489</td>\n",
       "      <td>18.213813</td>\n",
       "      <td>17.414133</td>\n",
       "      <td>9.480239</td>\n",
       "      <td>10.878099</td>\n",
       "      <td>...</td>\n",
       "      <td>3.279438</td>\n",
       "      <td>0.738899</td>\n",
       "      <td>1.479148</td>\n",
       "      <td>2.099913</td>\n",
       "      <td>1.171148</td>\n",
       "      <td>0.469152</td>\n",
       "      <td>0.417754</td>\n",
       "      <td>4.953723</td>\n",
       "      <td>NaN</td>\n",
       "      <td>0.097287</td>\n",
       "    </tr>\n",
       "    <tr>\n",
       "      <th>min</th>\n",
       "      <td>NaN</td>\n",
       "      <td>NaN</td>\n",
       "      <td>1.000000</td>\n",
       "      <td>0.000000</td>\n",
       "      <td>0.000000</td>\n",
       "      <td>0.000000</td>\n",
       "      <td>0.000000</td>\n",
       "      <td>0.000000</td>\n",
       "      <td>0.000000</td>\n",
       "      <td>0.000000</td>\n",
       "      <td>...</td>\n",
       "      <td>-100.984000</td>\n",
       "      <td>0.000000</td>\n",
       "      <td>0.000000</td>\n",
       "      <td>0.000000</td>\n",
       "      <td>0.000000</td>\n",
       "      <td>0.000000</td>\n",
       "      <td>0.000000</td>\n",
       "      <td>0.000000</td>\n",
       "      <td>NaN</td>\n",
       "      <td>0.000000</td>\n",
       "    </tr>\n",
       "    <tr>\n",
       "      <th>25%</th>\n",
       "      <td>NaN</td>\n",
       "      <td>NaN</td>\n",
       "      <td>16.000000</td>\n",
       "      <td>9.500000</td>\n",
       "      <td>84.100000</td>\n",
       "      <td>14.500000</td>\n",
       "      <td>40.100000</td>\n",
       "      <td>43.930000</td>\n",
       "      <td>1.800000</td>\n",
       "      <td>8.400000</td>\n",
       "      <td>...</td>\n",
       "      <td>-1.728030</td>\n",
       "      <td>0.225800</td>\n",
       "      <td>0.700000</td>\n",
       "      <td>1.000000</td>\n",
       "      <td>0.222200</td>\n",
       "      <td>0.160000</td>\n",
       "      <td>0.000000</td>\n",
       "      <td>1.571400</td>\n",
       "      <td>NaN</td>\n",
       "      <td>0.000000</td>\n",
       "    </tr>\n",
       "    <tr>\n",
       "      <th>50%</th>\n",
       "      <td>NaN</td>\n",
       "      <td>NaN</td>\n",
       "      <td>28.000000</td>\n",
       "      <td>35.900000</td>\n",
       "      <td>97.100000</td>\n",
       "      <td>18.100000</td>\n",
       "      <td>47.700000</td>\n",
       "      <td>50.850000</td>\n",
       "      <td>4.300000</td>\n",
       "      <td>11.900000</td>\n",
       "      <td>...</td>\n",
       "      <td>-0.313051</td>\n",
       "      <td>0.545500</td>\n",
       "      <td>1.633300</td>\n",
       "      <td>2.259300</td>\n",
       "      <td>0.677400</td>\n",
       "      <td>0.424200</td>\n",
       "      <td>0.133300</td>\n",
       "      <td>4.482800</td>\n",
       "      <td>NaN</td>\n",
       "      <td>0.000000</td>\n",
       "    </tr>\n",
       "    <tr>\n",
       "      <th>75%</th>\n",
       "      <td>NaN</td>\n",
       "      <td>NaN</td>\n",
       "      <td>31.000000</td>\n",
       "      <td>62.200000</td>\n",
       "      <td>106.900000</td>\n",
       "      <td>21.800000</td>\n",
       "      <td>53.200000</td>\n",
       "      <td>56.060000</td>\n",
       "      <td>8.100000</td>\n",
       "      <td>16.000000</td>\n",
       "      <td>...</td>\n",
       "      <td>1.066415</td>\n",
       "      <td>1.111100</td>\n",
       "      <td>2.758600</td>\n",
       "      <td>3.833300</td>\n",
       "      <td>1.533300</td>\n",
       "      <td>0.793100</td>\n",
       "      <td>0.366700</td>\n",
       "      <td>9.069000</td>\n",
       "      <td>NaN</td>\n",
       "      <td>0.000000</td>\n",
       "    </tr>\n",
       "    <tr>\n",
       "      <th>max</th>\n",
       "      <td>NaN</td>\n",
       "      <td>NaN</td>\n",
       "      <td>41.000000</td>\n",
       "      <td>98.000000</td>\n",
       "      <td>834.000000</td>\n",
       "      <td>50.000000</td>\n",
       "      <td>150.000000</td>\n",
       "      <td>150.000000</td>\n",
       "      <td>1576.600000</td>\n",
       "      <td>1385.000000</td>\n",
       "      <td>...</td>\n",
       "      <td>78.985500</td>\n",
       "      <td>5.933300</td>\n",
       "      <td>11.545500</td>\n",
       "      <td>14.533300</td>\n",
       "      <td>10.000000</td>\n",
       "      <td>4.000000</td>\n",
       "      <td>5.258100</td>\n",
       "      <td>30.090900</td>\n",
       "      <td>NaN</td>\n",
       "      <td>1.000000</td>\n",
       "    </tr>\n",
       "  </tbody>\n",
       "</table>\n",
       "<p>11 rows × 64 columns</p>\n",
       "</div>"
      ],
      "text/plain": [
       "         team   conf            GP       Min_per          Ortg           usg  \\\n",
       "count   56091  56091  56091.000000  56091.000000  56091.000000  56091.000000   \n",
       "unique    358     36           NaN           NaN           NaN           NaN   \n",
       "top      Army    ACC           NaN           NaN           NaN           NaN   \n",
       "freq      209   2297           NaN           NaN           NaN           NaN   \n",
       "mean      NaN    NaN     23.411973     37.325229     91.858295     18.149265   \n",
       "std       NaN    NaN     10.090542     28.061897     30.538819      6.204489   \n",
       "min       NaN    NaN      1.000000      0.000000      0.000000      0.000000   \n",
       "25%       NaN    NaN     16.000000      9.500000     84.100000     14.500000   \n",
       "50%       NaN    NaN     28.000000     35.900000     97.100000     18.100000   \n",
       "75%       NaN    NaN     31.000000     62.200000    106.900000     21.800000   \n",
       "max       NaN    NaN     41.000000     98.000000    834.000000     50.000000   \n",
       "\n",
       "                 eFG        TS_per       ORB_per       DRB_per  ...  \\\n",
       "count   56091.000000  56091.000000  56091.000000  56091.000000  ...   \n",
       "unique           NaN           NaN           NaN           NaN  ...   \n",
       "top              NaN           NaN           NaN           NaN  ...   \n",
       "freq             NaN           NaN           NaN           NaN  ...   \n",
       "mean       44.575513     47.676882      5.575376     12.673716  ...   \n",
       "std        18.213813     17.414133      9.480239     10.878099  ...   \n",
       "min         0.000000      0.000000      0.000000      0.000000  ...   \n",
       "25%        40.100000     43.930000      1.800000      8.400000  ...   \n",
       "50%        47.700000     50.850000      4.300000     11.900000  ...   \n",
       "75%        53.200000     56.060000      8.100000     16.000000  ...   \n",
       "max       150.000000    150.000000   1576.600000   1385.000000  ...   \n",
       "\n",
       "               dgbpm          oreb          dreb          treb           ast  \\\n",
       "count   56047.000000  56053.000000  56053.000000  56053.000000  56053.000000   \n",
       "unique           NaN           NaN           NaN           NaN           NaN   \n",
       "top              NaN           NaN           NaN           NaN           NaN   \n",
       "freq             NaN           NaN           NaN           NaN           NaN   \n",
       "mean       -0.442297      0.770611      1.892593      2.663204      1.073038   \n",
       "std         3.279438      0.738899      1.479148      2.099913      1.171148   \n",
       "min      -100.984000      0.000000      0.000000      0.000000      0.000000   \n",
       "25%        -1.728030      0.225800      0.700000      1.000000      0.222200   \n",
       "50%        -0.313051      0.545500      1.633300      2.259300      0.677400   \n",
       "75%         1.066415      1.111100      2.758600      3.833300      1.533300   \n",
       "max        78.985500      5.933300     11.545500     14.533300     10.000000   \n",
       "\n",
       "                 stl           blk           pts  \\\n",
       "count   56053.000000  56053.000000  56053.000000   \n",
       "unique           NaN           NaN           NaN   \n",
       "top              NaN           NaN           NaN   \n",
       "freq             NaN           NaN           NaN   \n",
       "mean        0.529475      0.282825      5.775381   \n",
       "std         0.469152      0.417754      4.953723   \n",
       "min         0.000000      0.000000      0.000000   \n",
       "25%         0.160000      0.000000      1.571400   \n",
       "50%         0.424200      0.133300      4.482800   \n",
       "75%         0.793100      0.366700      9.069000   \n",
       "max         4.000000      5.258100     30.090900   \n",
       "\n",
       "                                   player_id       drafted  \n",
       "count                                  56091  56091.000000  \n",
       "unique                                 23929           NaN  \n",
       "top     06dc8dc2-888e-4941-9106-4798cddfb9d2           NaN  \n",
       "freq                                       6           NaN  \n",
       "mean                                     NaN      0.009556  \n",
       "std                                      NaN      0.097287  \n",
       "min                                      NaN      0.000000  \n",
       "25%                                      NaN      0.000000  \n",
       "50%                                      NaN      0.000000  \n",
       "75%                                      NaN      0.000000  \n",
       "max                                      NaN      1.000000  \n",
       "\n",
       "[11 rows x 64 columns]"
      ]
     },
     "execution_count": 10,
     "metadata": {},
     "output_type": "execute_result"
    }
   ],
   "source": [
    "df.describe(include='all')"
   ]
  },
  {
   "cell_type": "markdown",
   "id": "9a9366e5-f68a-479b-808b-535ceb0d1a1f",
   "metadata": {},
   "source": [
    "## 2. Visaulisation"
   ]
  },
  {
   "cell_type": "markdown",
   "id": "aa50c230-66d2-44c5-8389-1607ef3bc396",
   "metadata": {},
   "source": [
    "__The bar chart of the target feature, drafted, represents whether the players are drafted or not.__"
   ]
  },
  {
   "cell_type": "code",
   "execution_count": 11,
   "id": "a4572b94-4d3f-4622-9ca2-997c72df51e8",
   "metadata": {},
   "outputs": [],
   "source": [
    "import seaborn as sns\n",
    "import matplotlib.pyplot as plt"
   ]
  },
  {
   "cell_type": "code",
   "execution_count": 12,
   "id": "a050024a-8c17-46e7-b555-8ce5b5022811",
   "metadata": {},
   "outputs": [
    {
     "data": {
      "image/png": "[encoded data removed]",
      "text/plain": [
       "<Figure size 640x480 with 1 Axes>"
      ]
     },
     "metadata": {},
     "output_type": "display_data"
    }
   ],
   "source": [
    "sns.set(style=\"darkgrid\")\n",
    "ax = sns.countplot(x=\"drafted\", data=df, palette=sns.xkcd_palette([\"pastel purple\", \"light green\"]))\n",
    "plt.xlabel('drafted')\n",
    "plt.ylabel('Count')\n",
    "plt.show()"
   ]
  },
  {
   "cell_type": "code",
   "execution_count": 13,
   "id": "db582a4d-e47b-4ba8-a73a-4a0caf62625e",
   "metadata": {},
   "outputs": [
    {
     "data": {
      "text/plain": [
       "536.0"
      ]
     },
     "execution_count": 13,
     "metadata": {},
     "output_type": "execute_result"
    }
   ],
   "source": [
    "df['drafted'].sum()"
   ]
  },
  {
   "cell_type": "markdown",
   "id": "f8b30f1b-049f-4e96-9fa9-fcffd68b727e",
   "metadata": {},
   "source": [
    "It can be seen obviously that the the target variable, drafted, is imbalanced. In this case, we have a significantly higher number of players who are not drafted compared to those that are drafted. This can lead to a bias in the model towards predicting that a player is not drafted. We may use the Over-sampling Technique (SMOTE) to address this issue."
   ]
  },
  {
   "cell_type": "markdown",
   "id": "43cd84b1-98e2-4fbe-b057-41fd1b4b43af",
   "metadata": {},
   "source": [
    "## 3. Pre-processing data"
   ]
  },
  {
   "cell_type": "markdown",
   "id": "96864a0c-d752-44aa-a328-55fd5502411c",
   "metadata": {},
   "source": [
    "### 3.1 Check NA and duplicate"
   ]
  },
  {
   "cell_type": "code",
   "execution_count": 14,
   "id": "89d2b913-7a0a-4841-93e9-601502400b01",
   "metadata": {},
   "outputs": [],
   "source": [
    "missing_value_counts = df.isnull().sum()"
   ]
  },
  {
   "cell_type": "code",
   "execution_count": 15,
   "id": "7b0be4dd-d5fb-4686-be4c-7f018ef45d59",
   "metadata": {},
   "outputs": [
    {
     "name": "stdout",
     "output_type": "stream",
     "text": [
      "pick           54705\n",
      "Rec_Rank       39055\n",
      "dunks_ratio    30793\n",
      "mid_ratio       9688\n",
      "rim_ratio       9464\n",
      "               ...  \n",
      "porpag             0\n",
      "adjoe              0\n",
      "pfr                0\n",
      "year               0\n",
      "drafted            0\n",
      "Length: 64, dtype: int64\n"
     ]
    }
   ],
   "source": [
    "sorted_missing_values = missing_value_counts.sort_values(ascending=False)\n",
    "print(sorted_missing_values)"
   ]
  },
  {
   "cell_type": "markdown",
   "id": "f6c068dd-1065-4858-87e7-4d57dcf5c299",
   "metadata": {},
   "source": [
    "After sorting all the features, 'pick,' 'Rec_rank,' and 'dunks_ratio' have a high number of missing values, which is above 10k. We will drop these variables since they could potentially lead to inaccurate outcomes. However, dunks_ratio seems to be significant for the player to be drafted. There are some pattern to be relevant to this feature."
   ]
  },
  {
   "cell_type": "markdown",
   "id": "31b9831e-42fb-469f-8b5f-b06e8208cdc2",
   "metadata": {},
   "source": [
    "### 3.2 Missing value pattern"
   ]
  },
  {
   "cell_type": "markdown",
   "id": "41db8b36-0e93-4c45-8358-e8fc15acddfb",
   "metadata": {},
   "source": [
    "It can be seen that some groups of features shared the same amount of NA. We will see it by the heatmap of missing values below."
   ]
  },
  {
   "cell_type": "code",
   "execution_count": 16,
   "id": "e1845af3-d4e0-4dad-a37b-aaffb812cf9f",
   "metadata": {},
   "outputs": [
    {
     "data": {
      "image/png": "[encoded data removed]",
      "text/plain": [
       "<Figure size 1000x600 with 1 Axes>"
      ]
     },
     "metadata": {},
     "output_type": "display_data"
    }
   ],
   "source": [
    "import seaborn as sns\n",
    "import matplotlib.pyplot as plt\n",
    "\n",
    "# Create a DataFrame containing missing value information\n",
    "missing_data = df.isnull()\n",
    "\n",
    "# Create the heatmap\n",
    "plt.figure(figsize=(10, 6))\n",
    "sns.heatmap(missing_data, cmap=\"YlGnBu\", cbar=False)\n",
    "plt.title(\"Missing Value Heatmap\")\n",
    "plt.xlabel(\"Data Points\")\n",
    "plt.ylabel(\"Features\")\n",
    "plt.show()"
   ]
  },
  {
   "cell_type": "markdown",
   "id": "fa7538a8-d5cb-430c-8c1e-a56e05265aa8",
   "metadata": {},
   "source": [
    "It's evident that 'rimmade,' 'rimmade_rimmiss,' 'midmade,' 'midmade_midmiss,' 'dunksmade,' and 'dunksmiss_dunksmade' share the same number of missing values. This is because the data contained in these features starts from the season year 2010. We will replace the NA by 0."
   ]
  },
  {
   "cell_type": "markdown",
   "id": "653814ff-f7a9-484b-b64f-3dae0d534578",
   "metadata": {},
   "source": [
    "__Let's take a look into dunks_raio__"
   ]
  },
  {
   "cell_type": "code",
   "execution_count": 17,
   "id": "50b7b8ed-858a-4c88-b93a-5feb22edb694",
   "metadata": {},
   "outputs": [
    {
     "name": "stdout",
     "output_type": "stream",
     "text": [
      "       dunksmade  dunksmiss_dunksmade  dunks_ratio\n",
      "9787         1.0                  2.0          0.5\n",
      "5440         0.0                  0.0          NaN\n",
      "53098        1.0                  1.0          1.0\n",
      "7213         0.0                  1.0          0.0\n",
      "36577        0.0                  0.0          NaN\n"
     ]
    }
   ],
   "source": [
    "# Display example rows for 'dunksmade', 'dunksmiss_dunksmade', and 'dunks_ratio'\n",
    "example_rows = df[['dunksmade', 'dunksmiss_dunksmade', 'dunks_ratio']].sample(5)\n",
    "print(example_rows)"
   ]
  },
  {
   "cell_type": "markdown",
   "id": "2f13af85-af63-4946-9054-ffeb409d5250",
   "metadata": {},
   "source": [
    "It's evident that the reason 'dunks_ratio' is NA is because both 'dunksmade' and 'dunksmiss_dunksmade' are either 0 or NA. This situation can be addressed by filling with 0."
   ]
  },
  {
   "cell_type": "markdown",
   "id": "ce3f3fbd-0e1f-425b-8265-b53741d37b98",
   "metadata": {},
   "source": [
    "### 3.3 Clean data"
   ]
  },
  {
   "cell_type": "code",
   "execution_count": 18,
   "id": "70739e42-c19f-4673-8eda-68f651853476",
   "metadata": {},
   "outputs": [],
   "source": [
    "df_cleaned = df.copy()"
   ]
  },
  {
   "cell_type": "code",
   "execution_count": 19,
   "id": "426501e9-87f8-4c7a-b745-cd0efc6e14d8",
   "metadata": {},
   "outputs": [],
   "source": [
    "test_cleaned = test.copy()"
   ]
  },
  {
   "cell_type": "markdown",
   "id": "0948ac41-2b78-49bd-ae3e-30652e2e3579",
   "metadata": {},
   "source": [
    "__Drop features that have NA more than 10k.__"
   ]
  },
  {
   "cell_type": "code",
   "execution_count": 20,
   "id": "396b7df1-c854-4c74-99bd-363d79ca491d",
   "metadata": {},
   "outputs": [],
   "source": [
    "# Drop the specified columns\n",
    "columns_to_drop = ['pick', 'Rec_Rank']\n",
    "df_cleaned = df_cleaned.drop(columns=columns_to_drop, axis=1)"
   ]
  },
  {
   "cell_type": "code",
   "execution_count": 21,
   "id": "6fad0e52-c9c4-4ace-80ea-844e0d24f50a",
   "metadata": {},
   "outputs": [],
   "source": [
    "test_cleaned = test_cleaned.drop(columns=columns_to_drop, axis=1)"
   ]
  },
  {
   "cell_type": "markdown",
   "id": "a2dddd6c-ad82-4df1-aa0e-3b3bf3e1aa1c",
   "metadata": {},
   "source": [
    "__Replace the NA by zero__"
   ]
  },
  {
   "cell_type": "code",
   "execution_count": 22,
   "id": "d3263229-1bdb-477b-acc1-11f7ca270d1f",
   "metadata": {},
   "outputs": [],
   "source": [
    "# List of columns to replace missing values with 0\n",
    "columns_to_replace = ['rimmade', 'rimmade_rimmiss', 'midmade', 'midmade_midmiss',\n",
    "                      'dunksmade', 'dunksmiss_dunksmade', 'rim_ratio', 'mid_ratio', 'dunks_ratio']\n",
    "\n",
    "# Replace missing values with 0 in the specified columns\n",
    "df_cleaned[columns_to_replace] = df_cleaned[columns_to_replace].fillna(0)\n"
   ]
  },
  {
   "cell_type": "code",
   "execution_count": 23,
   "id": "d56b5541-ddd3-4ecb-8c9c-42449bb3a94f",
   "metadata": {},
   "outputs": [],
   "source": [
    "test_cleaned[columns_to_replace] = test_cleaned[columns_to_replace].fillna(0)"
   ]
  },
  {
   "cell_type": "code",
   "execution_count": 24,
   "id": "f9d10383-007c-4ddc-a23b-65cccbbf5d88",
   "metadata": {},
   "outputs": [
    {
     "name": "stdout",
     "output_type": "stream",
     "text": [
      "Features with missing values:\n",
      "Feature: yr, Number of missing values: 274\n",
      "Feature: ht, Number of missing values: 80\n",
      "Feature: num, Number of missing values: 4669\n",
      "Feature: ast_tov, Number of missing values: 4190\n",
      "Feature: drtg, Number of missing values: 44\n",
      "Feature: adrtg, Number of missing values: 44\n",
      "Feature: dporpag, Number of missing values: 44\n",
      "Feature: stops, Number of missing values: 44\n",
      "Feature: bpm, Number of missing values: 44\n",
      "Feature: obpm, Number of missing values: 44\n",
      "Feature: dbpm, Number of missing values: 44\n",
      "Feature: gbpm, Number of missing values: 44\n",
      "Feature: mp, Number of missing values: 38\n",
      "Feature: ogbpm, Number of missing values: 44\n",
      "Feature: dgbpm, Number of missing values: 44\n",
      "Feature: oreb, Number of missing values: 38\n",
      "Feature: dreb, Number of missing values: 38\n",
      "Feature: treb, Number of missing values: 38\n",
      "Feature: ast, Number of missing values: 38\n",
      "Feature: stl, Number of missing values: 38\n",
      "Feature: blk, Number of missing values: 38\n",
      "Feature: pts, Number of missing values: 38\n"
     ]
    }
   ],
   "source": [
    "# Get the list of features with missing values\n",
    "features_with_missing = df_cleaned.columns[df_cleaned.isnull().any()].tolist()\n",
    "\n",
    "# Print the features with missing values and the number of missing values for each\n",
    "print(\"Features with missing values:\")\n",
    "for feature in features_with_missing:\n",
    "    num_missing = df_cleaned[feature].isnull().sum()\n",
    "    print(f\"Feature: {feature}, Number of missing values: {num_missing}\")\n"
   ]
  },
  {
   "cell_type": "markdown",
   "id": "997b380a-e8e9-4dd7-a4b4-27e73f7adfaf",
   "metadata": {},
   "source": [
    "\"The 'num' feature represents the player's number. Cases where players share the same number could occur."
   ]
  },
  {
   "cell_type": "code",
   "execution_count": 25,
   "id": "195dfcf5-a4d3-4c34-9f3f-97f64d238634",
   "metadata": {},
   "outputs": [
    {
     "name": "stdout",
     "output_type": "stream",
     "text": [
      "Groups where multiple players share the same number:\n",
      "Series([], Name: player_id, dtype: int64)\n"
     ]
    }
   ],
   "source": [
    "# Group by 'num' and 'player_id', then count the unique players in each group\n",
    "grouped = df_cleaned.groupby(['num', 'player_id'])['player_id'].nunique()\n",
    "\n",
    "# Filter groups where more than one player shares the same number\n",
    "groups_with_multiple_players = grouped[grouped > 1]\n",
    "\n",
    "# Print the groups where multiple players share the same number\n",
    "print(\"Groups where multiple players share the same number:\")\n",
    "print(groups_with_multiple_players)\n"
   ]
  },
  {
   "cell_type": "markdown",
   "id": "ba78f9d3-12a8-4516-863c-c5057776c7ea",
   "metadata": {},
   "source": [
    "The 'ht' represents the height of student. However, the data are showed as the datetime/object. we will also drop this feature."
   ]
  },
  {
   "cell_type": "markdown",
   "id": "4f7cf8f9-0203-443b-afec-eb5b768631c0",
   "metadata": {},
   "source": [
    "__Drop the feature which is not relevant with target__"
   ]
  },
  {
   "cell_type": "code",
   "execution_count": 26,
   "id": "fc441323-1eac-4a10-8a1c-399ae196f808",
   "metadata": {},
   "outputs": [],
   "source": [
    "# Drop the 'num' feature from the DataFrame\n",
    "df_cleaned = df_cleaned.drop(columns=['num','ht'])"
   ]
  },
  {
   "cell_type": "code",
   "execution_count": 27,
   "id": "acda1c33-bc1e-4bcd-a18d-6fa6405ab687",
   "metadata": {},
   "outputs": [],
   "source": [
    "test_cleaned = test_cleaned.drop(columns=['num','ht'])"
   ]
  },
  {
   "cell_type": "markdown",
   "id": "26b4c202-ed57-410a-b11a-8127d96f107b",
   "metadata": {},
   "source": [
    "__Replace numeric by mean and categorical by mode__"
   ]
  },
  {
   "cell_type": "code",
   "execution_count": 28,
   "id": "5a0c2e01-bc57-43f2-8f8d-22c717a653b0",
   "metadata": {},
   "outputs": [
    {
     "name": "stderr",
     "output_type": "stream",
     "text": [
      "/var/folders/sb/nxrzyd0n61192x17k7wcyr4w0000gn/T/ipykernel_50564/1933843988.py:2: DeprecationWarning: `np.object` is a deprecated alias for the builtin `object`. To silence this warning, use `object` by itself. Doing this will not modify any behavior and is safe. \n",
      "Deprecated in NumPy 1.20; for more details and guidance: https://numpy.org/devdocs/release/1.20.0-notes.html#deprecations\n",
      "  categorical_columns = df_cleaned.select_dtypes(include=[np.object]).columns.tolist()\n"
     ]
    }
   ],
   "source": [
    "numeric_columns = df_cleaned.select_dtypes(include=[np.number]).columns.tolist()\n",
    "categorical_columns = df_cleaned.select_dtypes(include=[np.object]).columns.tolist()\n",
    "\n",
    "# Replace missing values with mean for numeric columns\n",
    "df_cleaned[numeric_columns] = df_cleaned[numeric_columns].fillna(df_cleaned[numeric_columns].mean())\n",
    "\n",
    "# Replace missing values with mode for categorical columns\n",
    "for col in categorical_columns:\n",
    "    mode_val = df_cleaned[col].mode().iloc[0]\n",
    "    df_cleaned[col].fillna(mode_val, inplace=True)\n"
   ]
  },
  {
   "cell_type": "code",
   "execution_count": 29,
   "id": "e6ae4b45-3702-4f64-986c-75d5544001cc",
   "metadata": {},
   "outputs": [
    {
     "name": "stderr",
     "output_type": "stream",
     "text": [
      "/var/folders/sb/nxrzyd0n61192x17k7wcyr4w0000gn/T/ipykernel_50564/2376070461.py:2: DeprecationWarning: `np.object` is a deprecated alias for the builtin `object`. To silence this warning, use `object` by itself. Doing this will not modify any behavior and is safe. \n",
      "Deprecated in NumPy 1.20; for more details and guidance: https://numpy.org/devdocs/release/1.20.0-notes.html#deprecations\n",
      "  categorical_columns = test_cleaned.select_dtypes(include=[np.object]).columns.tolist()\n"
     ]
    }
   ],
   "source": [
    "numeric_columns = test_cleaned.select_dtypes(include=[np.number]).columns.tolist()\n",
    "categorical_columns = test_cleaned.select_dtypes(include=[np.object]).columns.tolist()\n",
    "\n",
    "# Replace missing values with mean for numeric columns\n",
    "test_cleaned[numeric_columns] = test_cleaned[numeric_columns].fillna(test_cleaned[numeric_columns].mean())\n",
    "\n",
    "# Replace missing values with mode for categorical columns\n",
    "for col in categorical_columns:\n",
    "    mode_val = test_cleaned[col].mode().iloc[0]\n",
    "    test_cleaned[col].fillna(mode_val, inplace=True)\n"
   ]
  },
  {
   "cell_type": "code",
   "execution_count": 30,
   "id": "16dcd5fa-4cfc-4b67-997e-d3490379357a",
   "metadata": {},
   "outputs": [
    {
     "name": "stdout",
     "output_type": "stream",
     "text": [
      "team                   0\n",
      "conf                   0\n",
      "GP                     0\n",
      "Min_per                0\n",
      "Ortg                   0\n",
      "usg                    0\n",
      "eFG                    0\n",
      "TS_per                 0\n",
      "ORB_per                0\n",
      "DRB_per                0\n",
      "AST_per                0\n",
      "TO_per                 0\n",
      "FTM                    0\n",
      "FTA                    0\n",
      "FT_per                 0\n",
      "twoPM                  0\n",
      "twoPA                  0\n",
      "twoP_per               0\n",
      "TPM                    0\n",
      "TPA                    0\n",
      "TP_per                 0\n",
      "blk_per                0\n",
      "stl_per                0\n",
      "ftr                    0\n",
      "yr                     0\n",
      "porpag                 0\n",
      "adjoe                  0\n",
      "pfr                    0\n",
      "year                   0\n",
      "type                   0\n",
      "ast_tov                0\n",
      "rimmade                0\n",
      "rimmade_rimmiss        0\n",
      "midmade                0\n",
      "midmade_midmiss        0\n",
      "rim_ratio              0\n",
      "mid_ratio              0\n",
      "dunksmade              0\n",
      "dunksmiss_dunksmade    0\n",
      "dunks_ratio            0\n",
      "drtg                   0\n",
      "adrtg                  0\n",
      "dporpag                0\n",
      "stops                  0\n",
      "bpm                    0\n",
      "obpm                   0\n",
      "dbpm                   0\n",
      "gbpm                   0\n",
      "mp                     0\n",
      "ogbpm                  0\n",
      "dgbpm                  0\n",
      "oreb                   0\n",
      "dreb                   0\n",
      "treb                   0\n",
      "ast                    0\n",
      "stl                    0\n",
      "blk                    0\n",
      "pts                    0\n",
      "player_id              0\n",
      "drafted                0\n",
      "dtype: int64\n"
     ]
    }
   ],
   "source": [
    "print(df_cleaned.isnull().sum())"
   ]
  },
  {
   "cell_type": "markdown",
   "id": "21284fd0-c73a-4942-b96e-075b074089b4",
   "metadata": {},
   "source": [
    "Now there is no missing value in the dataset."
   ]
  },
  {
   "cell_type": "code",
   "execution_count": 31,
   "id": "8635041c-0fe0-41f6-8143-fcf7d476344c",
   "metadata": {},
   "outputs": [
    {
     "name": "stdout",
     "output_type": "stream",
     "text": [
      "team                   0\n",
      "conf                   0\n",
      "GP                     0\n",
      "Min_per                0\n",
      "Ortg                   0\n",
      "usg                    0\n",
      "eFG                    0\n",
      "TS_per                 0\n",
      "ORB_per                0\n",
      "DRB_per                0\n",
      "AST_per                0\n",
      "TO_per                 0\n",
      "FTM                    0\n",
      "FTA                    0\n",
      "FT_per                 0\n",
      "twoPM                  0\n",
      "twoPA                  0\n",
      "twoP_per               0\n",
      "TPM                    0\n",
      "TPA                    0\n",
      "TP_per                 0\n",
      "blk_per                0\n",
      "stl_per                0\n",
      "ftr                    0\n",
      "yr                     0\n",
      "porpag                 0\n",
      "adjoe                  0\n",
      "pfr                    0\n",
      "year                   0\n",
      "type                   0\n",
      "ast_tov                0\n",
      "rimmade                0\n",
      "rimmade_rimmiss        0\n",
      "midmade                0\n",
      "midmade_midmiss        0\n",
      "rim_ratio              0\n",
      "mid_ratio              0\n",
      "dunksmade              0\n",
      "dunksmiss_dunksmade    0\n",
      "dunks_ratio            0\n",
      "drtg                   0\n",
      "adrtg                  0\n",
      "dporpag                0\n",
      "stops                  0\n",
      "bpm                    0\n",
      "obpm                   0\n",
      "dbpm                   0\n",
      "gbpm                   0\n",
      "mp                     0\n",
      "ogbpm                  0\n",
      "dgbpm                  0\n",
      "oreb                   0\n",
      "dreb                   0\n",
      "treb                   0\n",
      "ast                    0\n",
      "stl                    0\n",
      "blk                    0\n",
      "pts                    0\n",
      "player_id              0\n",
      "dtype: int64\n"
     ]
    }
   ],
   "source": [
    "print(test_cleaned.isnull().sum())"
   ]
  },
  {
   "cell_type": "code",
   "execution_count": 32,
   "id": "19b2cccd-ea2a-474b-acec-92dd9b17d53b",
   "metadata": {},
   "outputs": [],
   "source": [
    "# Save the df_cleaned DataFrame as a CSV file\n",
    "df_cleaned.to_csv('../data/processed/cleaned.csv', index=False)\n",
    "test_cleaned.to_csv('../data/processed/test_cleaned.csv', index=False)"
   ]
  },
  {
   "cell_type": "markdown",
   "id": "cd642bd4-408e-4d69-bbed-0702502b2495",
   "metadata": {},
   "source": [
    "### 3.4 Feature engineering"
   ]
  },
  {
   "cell_type": "code",
   "execution_count": 33,
   "id": "9198a490-6d89-4e54-ba7c-0abae4a3c8ef",
   "metadata": {},
   "outputs": [],
   "source": [
    "target = df_cleaned.pop('drafted')"
   ]
  },
  {
   "cell_type": "code",
   "execution_count": 34,
   "id": "85ecb392-3729-4bdd-8581-16213d7205ef",
   "metadata": {},
   "outputs": [],
   "source": [
    "#define numeric and categorical columns\n",
    "num_cols = list(df_cleaned.select_dtypes('number').columns)\n",
    "cat_cols = list(set(df_cleaned.columns) - set(num_cols))"
   ]
  },
  {
   "cell_type": "code",
   "execution_count": 35,
   "id": "6da82526-79ea-484d-8e57-67fd28f6c11b",
   "metadata": {},
   "outputs": [],
   "source": [
    "# for test dataset\n",
    "num_test = list(test_cleaned.select_dtypes('number').columns)\n",
    "cat_test = list(set(test_cleaned.columns) - set(num_test))"
   ]
  },
  {
   "cell_type": "markdown",
   "id": "55718d92-411e-48de-88a1-b1454aae2f64",
   "metadata": {},
   "source": [
    "__Encoding categorical data__"
   ]
  },
  {
   "cell_type": "code",
   "execution_count": 36,
   "id": "897a068d-06fa-491a-8460-48349166773c",
   "metadata": {},
   "outputs": [
    {
     "name": "stdout",
     "output_type": "stream",
     "text": [
      "Column 'yr' has 8 unique values.\n",
      "Using one-hot encoding for 'yr'.\n",
      "Column 'type' has 1 unique values.\n",
      "Using one-hot encoding for 'type'.\n",
      "Column 'team' has 358 unique values.\n",
      "Using label encoding for 'team'.\n",
      "Column 'player_id' has 23929 unique values.\n",
      "Using label encoding for 'player_id'.\n",
      "Column 'conf' has 36 unique values.\n",
      "Using label encoding for 'conf'.\n"
     ]
    }
   ],
   "source": [
    "for col in cat_cols:\n",
    "    num_unique = df_cleaned[col].nunique()\n",
    "    print(f\"Column '{col}' has {num_unique} unique values.\")\n",
    "\n",
    "# Decide which encoding method to use based on the number of unique values\n",
    "    if num_unique <= 10:\n",
    "        print(f\"Using one-hot encoding for '{col}'.\")\n",
    "    else:\n",
    "        print(f\"Using label encoding for '{col}'.\")\n"
   ]
  },
  {
   "cell_type": "markdown",
   "id": "bd4cf759-b971-4d6e-a139-42999635dd61",
   "metadata": {},
   "source": [
    "Since there are three features that should use label encoding, we will perform label encoding for all columns."
   ]
  },
  {
   "cell_type": "code",
   "execution_count": 37,
   "id": "303dd493-3d35-49e7-b66e-ec10577e2cf2",
   "metadata": {},
   "outputs": [],
   "source": [
    "from sklearn.preprocessing import LabelEncoder, StandardScaler"
   ]
  },
  {
   "cell_type": "code",
   "execution_count": 38,
   "id": "7496dded-a2d6-460c-97eb-138e56b4a093",
   "metadata": {},
   "outputs": [],
   "source": [
    "features = pd.DataFrame(df_cleaned)"
   ]
  },
  {
   "cell_type": "code",
   "execution_count": 39,
   "id": "94a7d20c-4966-44f3-baa5-65eeba301153",
   "metadata": {},
   "outputs": [],
   "source": [
    "features_test = pd.DataFrame(test_cleaned)"
   ]
  },
  {
   "cell_type": "code",
   "execution_count": 40,
   "id": "c38e1b23-003e-44aa-9154-e30071050f32",
   "metadata": {},
   "outputs": [],
   "source": [
    "le = LabelEncoder()"
   ]
  },
  {
   "cell_type": "code",
   "execution_count": 41,
   "id": "95924098-b1e9-4556-8af6-e60e9e0a9e05",
   "metadata": {},
   "outputs": [],
   "source": [
    "for col in cat_cols:\n",
    "    df_cleaned[col] = le.fit_transform(df_cleaned[col])"
   ]
  },
  {
   "cell_type": "code",
   "execution_count": 42,
   "id": "1689fe65-36de-4d10-adad-79801b8f2a05",
   "metadata": {},
   "outputs": [],
   "source": [
    "for col in cat_test:\n",
    "    test_cleaned[col] = le.fit_transform(test_cleaned[col])"
   ]
  },
  {
   "cell_type": "code",
   "execution_count": 43,
   "id": "1462de47-f2a0-47ce-8446-6f720e98b393",
   "metadata": {},
   "outputs": [
    {
     "name": "stdout",
     "output_type": "stream",
     "text": [
      "       team  conf  GP  Min_per   Ortg   usg    eFG  TS_per  ORB_per  DRB_per  \\\n",
      "0       267    27  26     29.5   97.3  16.6   42.5   44.43      1.6      4.6   \n",
      "1       327    33  34     60.9  108.3  14.9   52.4   54.48      3.8      6.3   \n",
      "2       272     7  27     72.0   96.2  21.8   45.7   47.98      2.1      8.0   \n",
      "3       231    34  30     44.5   97.7  16.0   53.6   53.69      4.1      9.4   \n",
      "4       228    10  33     56.2   96.5  22.0   52.8   54.31      8.3     18.6   \n",
      "...     ...   ...  ..      ...    ...   ...    ...     ...      ...      ...   \n",
      "56086   198    17   1      0.1    0.0  48.9    0.0    0.00      0.0      0.0   \n",
      "56087   217    31   1      0.2  206.9  35.9  100.0  102.56      0.0      0.0   \n",
      "56088   297    30   1      0.6   48.5  28.9    0.0   52.63      0.0     15.9   \n",
      "56089   332    29   1      0.1  300.0  20.0  150.0  150.00      0.0      0.0   \n",
      "56090    50    33  19     21.9   55.0  16.4   24.5   30.60      0.6      7.2   \n",
      "\n",
      "       ...      ogbpm      dgbpm    oreb    dreb    treb     ast     stl  \\\n",
      "0      ...  -2.781990  -1.941150  0.1923  0.6154  0.8077  1.1923  0.3462   \n",
      "1      ...  -0.052263  -0.247934  0.6765  1.2647  1.9412  1.8235  0.4118   \n",
      "2      ...   1.548230  -0.883163  0.6296  2.3333  2.9630  1.9630  0.4815   \n",
      "3      ...  -0.342775  -0.393459  0.7000  1.4333  2.1333  1.1000  0.5667   \n",
      "4      ...  -1.684860  -0.668318  1.4242  3.3030  4.7273  0.8485  0.4545   \n",
      "...    ...        ...        ...     ...     ...     ...     ...     ...   \n",
      "56086  ... -22.468800 -17.439600  0.0000  0.0000  0.0000  0.0000  0.0000   \n",
      "56087  ...  35.683300   9.392350  0.0000  0.0000  0.0000  0.0000  0.0000   \n",
      "56088  ... -13.372700  -3.240610  0.0000  1.0000  1.0000  0.0000  0.0000   \n",
      "56089  ...  94.422600  16.362500  0.0000  0.0000  0.0000  0.0000  0.0000   \n",
      "56090  ...  -7.806150  -4.935520  0.0455  0.9091  0.9545  0.5909  0.4091   \n",
      "\n",
      "          blk      pts  player_id  \n",
      "0      0.0385   3.8846      11624  \n",
      "1      0.2353   5.9412       9244  \n",
      "2      0.0000  12.1852      22465  \n",
      "3      0.1333   4.9333       1995  \n",
      "4      0.3333   7.5758      15559  \n",
      "...       ...      ...        ...  \n",
      "56086  0.0000   0.0000      14920  \n",
      "56087  0.0000   4.0000       8617  \n",
      "56088  0.0000   2.0000      21864  \n",
      "56089  0.0000   3.0000       4407  \n",
      "56090  0.0000   2.4091       9539  \n",
      "\n",
      "[56091 rows x 59 columns]\n"
     ]
    }
   ],
   "source": [
    "print(features)"
   ]
  },
  {
   "cell_type": "markdown",
   "id": "8a2cc3fe-d878-4337-b1ff-a5fb484eb3d1",
   "metadata": {},
   "source": [
    "__Scale data__"
   ]
  },
  {
   "cell_type": "code",
   "execution_count": 44,
   "id": "357977d3-d836-40a4-96d7-f428676be228",
   "metadata": {},
   "outputs": [],
   "source": [
    "scaler = StandardScaler()\n",
    "features[num_cols] = scaler.fit_transform(df_cleaned[num_cols])"
   ]
  },
  {
   "cell_type": "code",
   "execution_count": 45,
   "id": "8a9181ca-3f6c-447d-a3c2-cc6dd72eda11",
   "metadata": {},
   "outputs": [],
   "source": [
    "features_test[num_test] = scaler.fit_transform(test_cleaned[num_test])"
   ]
  },
  {
   "cell_type": "markdown",
   "id": "302276ef-e180-4da6-a60d-8509addf9c3b",
   "metadata": {},
   "source": [
    "__save files__"
   ]
  },
  {
   "cell_type": "code",
   "execution_count": 46,
   "id": "ca869cfe-a751-417f-999d-4255df1b7139",
   "metadata": {},
   "outputs": [],
   "source": [
    "from joblib import dump"
   ]
  },
  {
   "cell_type": "code",
   "execution_count": 47,
   "id": "708b1d9d-1cc6-4548-833e-9d3bfff78c8d",
   "metadata": {},
   "outputs": [],
   "source": [
    "dump(le, '../models/le.joblib')\n",
    "dump(scaler, '../models/scaler.joblib')"
   ]
  },
  {
   "cell_type": "code",
   "execution_count": 48,
   "id": "dad8b6eb-9fcb-4b3d-8740-b19df7605c42",
   "metadata": {},
   "outputs": [
    {
     "data": {
      "text/html": [
       "<div>\n",
       "<style scoped>\n",
       "    .dataframe tbody tr th:only-of-type {\n",
       "        vertical-align: middle;\n",
       "    }\n",
       "\n",
       "    .dataframe tbody tr th {\n",
       "        vertical-align: top;\n",
       "    }\n",
       "\n",
       "    .dataframe thead th {\n",
       "        text-align: right;\n",
       "    }\n",
       "</style>\n",
       "<table border=\"1\" class=\"dataframe\">\n",
       "  <thead>\n",
       "    <tr style=\"text-align: right;\">\n",
       "      <th></th>\n",
       "      <th>team</th>\n",
       "      <th>conf</th>\n",
       "      <th>GP</th>\n",
       "      <th>Min_per</th>\n",
       "      <th>Ortg</th>\n",
       "      <th>usg</th>\n",
       "      <th>eFG</th>\n",
       "      <th>TS_per</th>\n",
       "      <th>ORB_per</th>\n",
       "      <th>DRB_per</th>\n",
       "      <th>...</th>\n",
       "      <th>ogbpm</th>\n",
       "      <th>dgbpm</th>\n",
       "      <th>oreb</th>\n",
       "      <th>dreb</th>\n",
       "      <th>treb</th>\n",
       "      <th>ast</th>\n",
       "      <th>stl</th>\n",
       "      <th>blk</th>\n",
       "      <th>pts</th>\n",
       "      <th>player_id</th>\n",
       "    </tr>\n",
       "  </thead>\n",
       "  <tbody>\n",
       "    <tr>\n",
       "      <th>0</th>\n",
       "      <td>267</td>\n",
       "      <td>27</td>\n",
       "      <td>0.256483</td>\n",
       "      <td>-0.278858</td>\n",
       "      <td>0.178191</td>\n",
       "      <td>-0.249703</td>\n",
       "      <td>-0.113954</td>\n",
       "      <td>-0.186453</td>\n",
       "      <td>-0.419337</td>\n",
       "      <td>-0.742206</td>\n",
       "      <td>...</td>\n",
       "      <td>-0.112904</td>\n",
       "      <td>-0.457229</td>\n",
       "      <td>-0.782939</td>\n",
       "      <td>-0.863766</td>\n",
       "      <td>-0.883918</td>\n",
       "      <td>0.101869</td>\n",
       "      <td>-0.390787</td>\n",
       "      <td>-0.585056</td>\n",
       "      <td>-0.381822</td>\n",
       "      <td>11624</td>\n",
       "    </tr>\n",
       "    <tr>\n",
       "      <th>1</th>\n",
       "      <td>327</td>\n",
       "      <td>33</td>\n",
       "      <td>1.049311</td>\n",
       "      <td>0.840106</td>\n",
       "      <td>0.538392</td>\n",
       "      <td>-0.523700</td>\n",
       "      <td>0.429595</td>\n",
       "      <td>0.390670</td>\n",
       "      <td>-0.187273</td>\n",
       "      <td>-0.585927</td>\n",
       "      <td>...</td>\n",
       "      <td>0.328251</td>\n",
       "      <td>0.059291</td>\n",
       "      <td>-0.127411</td>\n",
       "      <td>-0.424644</td>\n",
       "      <td>-0.343945</td>\n",
       "      <td>0.641015</td>\n",
       "      <td>-0.250912</td>\n",
       "      <td>-0.113802</td>\n",
       "      <td>0.033485</td>\n",
       "      <td>9244</td>\n",
       "    </tr>\n",
       "    <tr>\n",
       "      <th>2</th>\n",
       "      <td>272</td>\n",
       "      <td>7</td>\n",
       "      <td>0.355586</td>\n",
       "      <td>1.235664</td>\n",
       "      <td>0.142171</td>\n",
       "      <td>0.588408</td>\n",
       "      <td>0.061739</td>\n",
       "      <td>0.017407</td>\n",
       "      <td>-0.366595</td>\n",
       "      <td>-0.429648</td>\n",
       "      <td>...</td>\n",
       "      <td>0.586909</td>\n",
       "      <td>-0.134487</td>\n",
       "      <td>-0.190906</td>\n",
       "      <td>0.298050</td>\n",
       "      <td>0.142815</td>\n",
       "      <td>0.760170</td>\n",
       "      <td>-0.102295</td>\n",
       "      <td>-0.677248</td>\n",
       "      <td>1.294390</td>\n",
       "      <td>22465</td>\n",
       "    </tr>\n",
       "    <tr>\n",
       "      <th>3</th>\n",
       "      <td>231</td>\n",
       "      <td>34</td>\n",
       "      <td>0.652897</td>\n",
       "      <td>0.255679</td>\n",
       "      <td>0.191290</td>\n",
       "      <td>-0.346408</td>\n",
       "      <td>0.495479</td>\n",
       "      <td>0.345304</td>\n",
       "      <td>-0.155628</td>\n",
       "      <td>-0.300948</td>\n",
       "      <td>...</td>\n",
       "      <td>0.281301</td>\n",
       "      <td>0.014898</td>\n",
       "      <td>-0.095596</td>\n",
       "      <td>-0.310620</td>\n",
       "      <td>-0.252434</td>\n",
       "      <td>0.023030</td>\n",
       "      <td>0.079373</td>\n",
       "      <td>-0.358049</td>\n",
       "      <td>-0.170049</td>\n",
       "      <td>1995</td>\n",
       "    </tr>\n",
       "    <tr>\n",
       "      <th>4</th>\n",
       "      <td>228</td>\n",
       "      <td>10</td>\n",
       "      <td>0.950208</td>\n",
       "      <td>0.672618</td>\n",
       "      <td>0.151995</td>\n",
       "      <td>0.620643</td>\n",
       "      <td>0.451556</td>\n",
       "      <td>0.380908</td>\n",
       "      <td>0.287403</td>\n",
       "      <td>0.544795</td>\n",
       "      <td>...</td>\n",
       "      <td>0.064405</td>\n",
       "      <td>-0.068948</td>\n",
       "      <td>0.884853</td>\n",
       "      <td>0.953859</td>\n",
       "      <td>0.983285</td>\n",
       "      <td>-0.191791</td>\n",
       "      <td>-0.159865</td>\n",
       "      <td>0.120868</td>\n",
       "      <td>0.363574</td>\n",
       "      <td>15559</td>\n",
       "    </tr>\n",
       "  </tbody>\n",
       "</table>\n",
       "<p>5 rows × 59 columns</p>\n",
       "</div>"
      ],
      "text/plain": [
       "   team  conf        GP   Min_per      Ortg       usg       eFG    TS_per  \\\n",
       "0   267    27  0.256483 -0.278858  0.178191 -0.249703 -0.113954 -0.186453   \n",
       "1   327    33  1.049311  0.840106  0.538392 -0.523700  0.429595  0.390670   \n",
       "2   272     7  0.355586  1.235664  0.142171  0.588408  0.061739  0.017407   \n",
       "3   231    34  0.652897  0.255679  0.191290 -0.346408  0.495479  0.345304   \n",
       "4   228    10  0.950208  0.672618  0.151995  0.620643  0.451556  0.380908   \n",
       "\n",
       "    ORB_per   DRB_per  ...     ogbpm     dgbpm      oreb      dreb      treb  \\\n",
       "0 -0.419337 -0.742206  ... -0.112904 -0.457229 -0.782939 -0.863766 -0.883918   \n",
       "1 -0.187273 -0.585927  ...  0.328251  0.059291 -0.127411 -0.424644 -0.343945   \n",
       "2 -0.366595 -0.429648  ...  0.586909 -0.134487 -0.190906  0.298050  0.142815   \n",
       "3 -0.155628 -0.300948  ...  0.281301  0.014898 -0.095596 -0.310620 -0.252434   \n",
       "4  0.287403  0.544795  ...  0.064405 -0.068948  0.884853  0.953859  0.983285   \n",
       "\n",
       "        ast       stl       blk       pts  player_id  \n",
       "0  0.101869 -0.390787 -0.585056 -0.381822      11624  \n",
       "1  0.641015 -0.250912 -0.113802  0.033485       9244  \n",
       "2  0.760170 -0.102295 -0.677248  1.294390      22465  \n",
       "3  0.023030  0.079373 -0.358049 -0.170049       1995  \n",
       "4 -0.191791 -0.159865  0.120868  0.363574      15559  \n",
       "\n",
       "[5 rows x 59 columns]"
      ]
     },
     "execution_count": 48,
     "metadata": {},
     "output_type": "execute_result"
    }
   ],
   "source": [
    "features.head()"
   ]
  },
  {
   "cell_type": "code",
   "execution_count": 2,
   "id": "ce21e984-c791-440a-8231-1a238cc0fdfd",
   "metadata": {},
   "outputs": [
    {
     "ename": "NameError",
     "evalue": "name 'features_test' is not defined",
     "output_type": "error",
     "traceback": [
      "\u001b[0;31m---------------------------------------------------------------------------\u001b[0m",
      "\u001b[0;31mNameError\u001b[0m                                 Traceback (most recent call last)",
      "Cell \u001b[0;32mIn[2], line 1\u001b[0m\n\u001b[0;32m----> 1\u001b[0m \u001b[43mfeatures_test\u001b[49m\u001b[38;5;241m.\u001b[39mhead()\n",
      "\u001b[0;31mNameError\u001b[0m: name 'features_test' is not defined"
     ]
    }
   ],
   "source": [
    "features_test.head()"
   ]
  },
  {
   "cell_type": "code",
   "execution_count": 1,
   "id": "24de094f-0e40-49c2-bb64-10c937f82870",
   "metadata": {},
   "outputs": [
    {
     "ename": "NameError",
     "evalue": "name 'features_test' is not defined",
     "output_type": "error",
     "traceback": [
      "\u001b[0;31m---------------------------------------------------------------------------\u001b[0m",
      "\u001b[0;31mNameError\u001b[0m                                 Traceback (most recent call last)",
      "Cell \u001b[0;32mIn[1], line 1\u001b[0m\n\u001b[0;32m----> 1\u001b[0m \u001b[43mfeatures_test\u001b[49m\u001b[38;5;241m.\u001b[39mto_csv(\u001b[38;5;124m'\u001b[39m\u001b[38;5;124m../data/processed/test_features_cleaned.csv\u001b[39m\u001b[38;5;124m'\u001b[39m, index\u001b[38;5;241m=\u001b[39m\u001b[38;5;28;01mFalse\u001b[39;00m)\n",
      "\u001b[0;31mNameError\u001b[0m: name 'features_test' is not defined"
     ]
    }
   ],
   "source": [
    "features_test.to_csv('../data/processed/test_features_cleaned.csv', index=False)"
   ]
  },
  {
   "cell_type": "markdown",
   "id": "dbd023a6-4e70-463a-95b9-cdce57a53438",
   "metadata": {},
   "source": [
    "### 3.5 Synthetic Minority Over-sampling Technique (SMOTE)"
   ]
  },
  {
   "cell_type": "markdown",
   "id": "c6bff88d-d1f3-46df-afa5-373cc220c165",
   "metadata": {},
   "source": [
    "We will handle the imbalanced data by SMOTE"
   ]
  },
  {
   "cell_type": "code",
   "execution_count": 50,
   "id": "acf5df49-e16e-45a1-adec-36f22f5931a2",
   "metadata": {},
   "outputs": [
    {
     "name": "stdout",
     "output_type": "stream",
     "text": [
      "0.0    55555\n",
      "1.0    55555\n",
      "Name: drafted, dtype: int64\n"
     ]
    }
   ],
   "source": [
    "from imblearn.over_sampling import SMOTE\n",
    "X = features\n",
    "y = target\n",
    "\n",
    "# Apply SMOTE oversampling to balance the target variable\n",
    "oversample = SMOTE()\n",
    "X, y = oversample.fit_resample(X, y)\n",
    "\n",
    "# Check the new balance of the target variable\n",
    "print(y.value_counts())"
   ]
  },
  {
   "cell_type": "markdown",
   "id": "e65dfe9e-c430-4688-a06d-d159c2138d5d",
   "metadata": {},
   "source": [
    "Now the data is balanced."
   ]
  },
  {
   "cell_type": "markdown",
   "id": "7766c03b-7d8e-4c3a-8a13-6dd8ea5c859c",
   "metadata": {},
   "source": [
    "## 4. Split data"
   ]
  },
  {
   "cell_type": "code",
   "execution_count": 51,
   "id": "a43d0594-a3c7-4428-b7b8-15ed6dd5fc4f",
   "metadata": {},
   "outputs": [],
   "source": [
    "from sklearn.model_selection import train_test_split\n",
    "X_data, X_test, y_data, y_test = train_test_split(features, target, test_size=0.2, random_state=8)\n",
    "X_train, X_val, y_train, y_val = train_test_split(X_data, y_data, test_size=0.2, random_state=8)"
   ]
  },
  {
   "cell_type": "code",
   "execution_count": 52,
   "id": "f2e2acd0-a1d0-4d1b-a235-d2fd133e0445",
   "metadata": {},
   "outputs": [
    {
     "name": "stdout",
     "output_type": "stream",
     "text": [
      "(35897, 59)\n",
      "(8975, 59)\n",
      "(11219, 59)\n"
     ]
    }
   ],
   "source": [
    "print(X_train.shape)\n",
    "print(X_val.shape)\n",
    "print(X_test.shape)"
   ]
  },
  {
   "cell_type": "code",
   "execution_count": 53,
   "id": "824b5f5e-cf30-4e96-aefd-49840a1abe9d",
   "metadata": {},
   "outputs": [
    {
     "name": "stdout",
     "output_type": "stream",
     "text": [
      "(35897,)\n",
      "(8975,)\n",
      "(11219,)\n"
     ]
    }
   ],
   "source": [
    "print(y_train.shape)\n",
    "print(y_val.shape)\n",
    "print(y_test.shape)"
   ]
  },
  {
   "cell_type": "code",
   "execution_count": 54,
   "id": "13a40a31-7b99-448b-b66e-9eefe9ff8d05",
   "metadata": {},
   "outputs": [],
   "source": [
    "X_train.to_csv('../data/processed/X_train.csv', index=False)\n",
    "X_val.to_csv('../data/processed/X_val.csv', index=False)\n",
    "X_test.to_csv('../data/processed/X_test.csv', index=False)\n",
    "y_train.to_csv('../data/processed/y_train.csv', index=False)\n",
    "y_val.to_csv('../data/processed/y_val.csv', index=False)\n",
    "y_test.to_csv('../data/processed/y_test.csv', index=False)"
   ]
  },
  {
   "cell_type": "markdown",
   "id": "912cdf7b-601e-407c-8389-f306a4de7c6e",
   "metadata": {},
   "source": [
    "## 5. Features selection"
   ]
  },
  {
   "cell_type": "markdown",
   "id": "11dfc4ee-4615-499e-8676-c1bf06270778",
   "metadata": {},
   "source": [
    "To ensures that the feature selection process remains consistent across different experiments, we will select features for this experiment in this step."
   ]
  },
  {
   "cell_type": "markdown",
   "id": "aee32acb-9fbc-4811-a365-6d4112a53528",
   "metadata": {},
   "source": [
    "__Random Forest__"
   ]
  },
  {
   "cell_type": "code",
   "execution_count": 55,
   "id": "3e528015-5e56-4f47-9076-447fffa713b8",
   "metadata": {},
   "outputs": [
    {
     "name": "stdout",
     "output_type": "stream",
     "text": [
      "Selected feature names: Index(['FTM', 'twoPM', 'twoPA', 'porpag', 'adjoe', 'dunksmade',\n",
      "       'dunksmiss_dunksmade', 'dunks_ratio', 'adrtg', 'dporpag', 'stops',\n",
      "       'bpm', 'obpm', 'gbpm', 'mp', 'ogbpm', 'dreb', 'treb', 'pts'],\n",
      "      dtype='object')\n"
     ]
    }
   ],
   "source": [
    "from sklearn.ensemble import RandomForestClassifier\n",
    "import numpy as np\n",
    "\n",
    "# Initialize a Random Forest classifier\n",
    "random_forest = RandomForestClassifier(n_estimators=100, random_state=42)\n",
    "\n",
    "# Fit the model on your data\n",
    "random_forest.fit(X, y)\n",
    "\n",
    "# Get feature importances\n",
    "feature_importances = random_forest.feature_importances_\n",
    "\n",
    "# Set a threshold for feature selection\n",
    "importance_threshold = 0.01 \n",
    "\n",
    "# Select features with importance above the threshold\n",
    "selected_features_indices = np.where(feature_importances > importance_threshold)[0]\n",
    "selected_feature_names = X.columns[selected_features_indices]\n",
    "\n",
    "print(\"Selected feature names:\", selected_feature_names)\n"
   ]
  },
  {
   "cell_type": "code",
   "execution_count": 56,
   "id": "b2881160-f421-429a-aa9d-b28c43e3dcbb",
   "metadata": {},
   "outputs": [
    {
     "name": "stdout",
     "output_type": "stream",
     "text": [
      "                feature         VIF\n",
      "0                   FTM   13.386173\n",
      "1                 twoPM  121.720782\n",
      "2                 twoPA  107.324844\n",
      "3                porpag   30.563470\n",
      "4                 adjoe    6.947276\n",
      "5               rimmade    9.124043\n",
      "6             dunksmade  346.559514\n",
      "7   dunksmiss_dunksmade  342.045814\n",
      "8           dunks_ratio    2.400474\n",
      "9                 adrtg    7.456121\n",
      "10              dporpag   34.943116\n",
      "11                stops   34.832249\n",
      "12                  bpm   27.028470\n",
      "13                 obpm   26.841381\n",
      "14                 gbpm   42.452180\n",
      "15                   mp   26.140134\n",
      "16                ogbpm   44.055441\n",
      "17                 dreb   61.698074\n",
      "18                 treb   55.020291\n",
      "19                  pts   47.044956\n"
     ]
    }
   ],
   "source": [
    "import pandas as pd\n",
    "from statsmodels.stats.outliers_influence import variance_inflation_factor\n",
    "\n",
    "\n",
    "selected_feature_names = ['FTM', 'twoPM', 'twoPA', 'porpag', 'adjoe', 'rimmade', 'dunksmade',\n",
    "       'dunksmiss_dunksmade', 'dunks_ratio', 'adrtg', 'dporpag', 'stops',\n",
    "       'bpm', 'obpm', 'gbpm', 'mp', 'ogbpm', 'dreb', 'treb', 'pts']\n",
    "\n",
    "# Create 'newX' DataFrame containing only the selected features\n",
    "newX = X[selected_feature_names]\n",
    "\n",
    "# Calculate VIF for each feature\n",
    "vif_data = pd.DataFrame()\n",
    "vif_data[\"feature\"] = newX.columns\n",
    "vif_data[\"VIF\"] = [variance_inflation_factor(newX.values, i) for i in range(newX.shape[1])]\n",
    "\n",
    "print(vif_data)\n"
   ]
  },
  {
   "cell_type": "markdown",
   "id": "c8e77e70-ac67-41d9-8ccb-8015a4b059de",
   "metadata": {},
   "source": [
    "The VIF value well above 5 represents that there is high multicollinearity. Therefore, we will select only __adjoe, rimmade, dunks_ratio, and adrtg__ to train the model."
   ]
  },
  {
   "cell_type": "code",
   "execution_count": 57,
   "id": "d5a7dc4d-43f6-4390-81c4-5111c6ea9f00",
   "metadata": {},
   "outputs": [],
   "source": [
    "features_to_keep = ['adjoe', 'rimmade', 'dunks_ratio', 'adrtg']\n",
    "\n",
    "# Create new feature sets with selected features for training, validation, and testing\n",
    "newX_train = X_train[features_to_keep]\n",
    "newX_val = X_val[features_to_keep]\n",
    "newX_test = X_test[features_to_keep]"
   ]
  },
  {
   "cell_type": "code",
   "execution_count": 58,
   "id": "8b78b712-6930-46a1-908d-2a30c5f24875",
   "metadata": {},
   "outputs": [
    {
     "name": "stdout",
     "output_type": "stream",
     "text": [
      "(35897, 4)\n",
      "(8975, 4)\n",
      "(11219, 4)\n"
     ]
    }
   ],
   "source": [
    "print(newX_train.shape)\n",
    "print(newX_val.shape)\n",
    "print(newX_test.shape)"
   ]
  },
  {
   "cell_type": "markdown",
   "id": "6018da0e-7804-4ab4-b8ec-eaaafe220236",
   "metadata": {},
   "source": [
    "## 5. Baseline model"
   ]
  },
  {
   "cell_type": "code",
   "execution_count": 59,
   "id": "5bfe9e30-5c37-455e-bca0-1fe86d679a48",
   "metadata": {},
   "outputs": [
    {
     "name": "stdout",
     "output_type": "stream",
     "text": [
      "0    0.0\n",
      "Name: drafted, dtype: float64\n"
     ]
    }
   ],
   "source": [
    "pred_value = y_train.mode()\n",
    "print(pred_value)"
   ]
  },
  {
   "cell_type": "code",
   "execution_count": 60,
   "id": "7bacbc81-f1b4-4e60-b114-76d0b919c32b",
   "metadata": {},
   "outputs": [
    {
     "name": "stdout",
     "output_type": "stream",
     "text": [
      "Baseline Model:\n",
      "Predicted value: 0    0.0\n",
      "Name: drafted, dtype: float64\n",
      "Mean Squared Error (MSE): 0.010000835724433797\n",
      "Mean Absolute Error (MAE): 0.010000835724433797\n",
      "AUROC: 0.5\n"
     ]
    }
   ],
   "source": [
    "import numpy as np\n",
    "from sklearn.metrics import mean_squared_error, mean_absolute_error, roc_auc_score\n",
    "\n",
    "# Create a NumPy array filled with the predicted baseline values\n",
    "y_base = np.full((len(y_train), 1), pred_value)\n",
    "\n",
    "# Compute metrics for baseline model\n",
    "mse_baseline = mean_squared_error(y_train, y_base)\n",
    "mae_baseline = mean_absolute_error(y_train, y_base)\n",
    "auroc_baseline = roc_auc_score(y_train, y_base)\n",
    "\n",
    "# Print the results\n",
    "print(\"Baseline Model:\")\n",
    "print(\"Predicted value:\", pred_value)\n",
    "print(\"Mean Squared Error (MSE):\", mse_baseline)\n",
    "print(\"Mean Absolute Error (MAE):\", mae_baseline)\n",
    "print(\"AUROC:\", auroc_baseline)\n"
   ]
  },
  {
   "cell_type": "markdown",
   "id": "cb8da773-247c-406c-a687-ee005e26ab24",
   "metadata": {},
   "source": [
    "## 6. Polynomial Regression model"
   ]
  },
  {
   "cell_type": "markdown",
   "id": "d2926413-9216-465c-8608-aa5d8d80b090",
   "metadata": {},
   "source": [
    "__train model on trainning set__"
   ]
  },
  {
   "cell_type": "code",
   "execution_count": 61,
   "id": "64b6ce26-8777-486a-86ba-788d28b0bb9e",
   "metadata": {},
   "outputs": [],
   "source": [
    "from sklearn.preprocessing import PolynomialFeatures\n",
    "\n",
    "poly_features = PolynomialFeatures(degree=2)\n",
    "newX_train_poly = poly_features.fit_transform(newX_train)"
   ]
  },
  {
   "cell_type": "code",
   "execution_count": 62,
   "id": "89fa5a44-9150-437b-8af3-bb892d0c4275",
   "metadata": {},
   "outputs": [],
   "source": [
    "# transformation on X_val and X_test\n",
    "newX_val = poly_features.transform(newX_val)\n",
    "newX_test = poly_features.transform(newX_test)"
   ]
  },
  {
   "cell_type": "code",
   "execution_count": 63,
   "id": "9f5a0f32-bb12-431a-8de8-3367711680d1",
   "metadata": {},
   "outputs": [],
   "source": [
    "from sklearn.linear_model import LogisticRegression\n",
    "poly_model = LogisticRegression()"
   ]
  },
  {
   "cell_type": "code",
   "execution_count": 64,
   "id": "a264af79-6dcd-44f0-b262-1632ece9c61d",
   "metadata": {},
   "outputs": [
    {
     "name": "stderr",
     "output_type": "stream",
     "text": [
      "/Users/thiradatiamklang/anaconda3/lib/python3.10/site-packages/sklearn/linear_model/_logistic.py:458: ConvergenceWarning: lbfgs failed to converge (status=1):\n",
      "STOP: TOTAL NO. of ITERATIONS REACHED LIMIT.\n",
      "\n",
      "Increase the number of iterations (max_iter) or scale the data as shown in:\n",
      "    https://scikit-learn.org/stable/modules/preprocessing.html\n",
      "Please also refer to the documentation for alternative solver options:\n",
      "    https://scikit-learn.org/stable/modules/linear_model.html#logistic-regression\n",
      "  n_iter_i = _check_optimize_result(\n"
     ]
    },
    {
     "data": {
      "text/html": [
       "<style>#sk-container-id-1 {color: black;background-color: white;}#sk-container-id-1 pre{padding: 0;}#sk-container-id-1 div.sk-toggleable {background-color: white;}#sk-container-id-1 label.sk-toggleable__label {cursor: pointer;display: block;width: 100%;margin-bottom: 0;padding: 0.3em;box-sizing: border-box;text-align: center;}#sk-container-id-1 label.sk-toggleable__label-arrow:before {content: \"▸\";float: left;margin-right: 0.25em;color: #696969;}#sk-container-id-1 label.sk-toggleable__label-arrow:hover:before {color: black;}#sk-container-id-1 div.sk-estimator:hover label.sk-toggleable__label-arrow:before {color: black;}#sk-container-id-1 div.sk-toggleable__content {max-height: 0;max-width: 0;overflow: hidden;text-align: left;background-color: #f0f8ff;}#sk-container-id-1 div.sk-toggleable__content pre {margin: 0.2em;color: black;border-radius: 0.25em;background-color: #f0f8ff;}#sk-container-id-1 input.sk-toggleable__control:checked~div.sk-toggleable__content {max-height: 200px;max-width: 100%;overflow: auto;}#sk-container-id-1 input.sk-toggleable__control:checked~label.sk-toggleable__label-arrow:before {content: \"▾\";}#sk-container-id-1 div.sk-estimator input.sk-toggleable__control:checked~label.sk-toggleable__label {background-color: #d4ebff;}#sk-container-id-1 div.sk-label input.sk-toggleable__control:checked~label.sk-toggleable__label {background-color: #d4ebff;}#sk-container-id-1 input.sk-hidden--visually {border: 0;clip: rect(1px 1px 1px 1px);clip: rect(1px, 1px, 1px, 1px);height: 1px;margin: -1px;overflow: hidden;padding: 0;position: absolute;width: 1px;}#sk-container-id-1 div.sk-estimator {font-family: monospace;background-color: #f0f8ff;border: 1px dotted black;border-radius: 0.25em;box-sizing: border-box;margin-bottom: 0.5em;}#sk-container-id-1 div.sk-estimator:hover {background-color: #d4ebff;}#sk-container-id-1 div.sk-parallel-item::after {content: \"\";width: 100%;border-bottom: 1px solid gray;flex-grow: 1;}#sk-container-id-1 div.sk-label:hover label.sk-toggleable__label {background-color: #d4ebff;}#sk-container-id-1 div.sk-serial::before {content: \"\";position: absolute;border-left: 1px solid gray;box-sizing: border-box;top: 0;bottom: 0;left: 50%;z-index: 0;}#sk-container-id-1 div.sk-serial {display: flex;flex-direction: column;align-items: center;background-color: white;padding-right: 0.2em;padding-left: 0.2em;position: relative;}#sk-container-id-1 div.sk-item {position: relative;z-index: 1;}#sk-container-id-1 div.sk-parallel {display: flex;align-items: stretch;justify-content: center;background-color: white;position: relative;}#sk-container-id-1 div.sk-item::before, #sk-container-id-1 div.sk-parallel-item::before {content: \"\";position: absolute;border-left: 1px solid gray;box-sizing: border-box;top: 0;bottom: 0;left: 50%;z-index: -1;}#sk-container-id-1 div.sk-parallel-item {display: flex;flex-direction: column;z-index: 1;position: relative;background-color: white;}#sk-container-id-1 div.sk-parallel-item:first-child::after {align-self: flex-end;width: 50%;}#sk-container-id-1 div.sk-parallel-item:last-child::after {align-self: flex-start;width: 50%;}#sk-container-id-1 div.sk-parallel-item:only-child::after {width: 0;}#sk-container-id-1 div.sk-dashed-wrapped {border: 1px dashed gray;margin: 0 0.4em 0.5em 0.4em;box-sizing: border-box;padding-bottom: 0.4em;background-color: white;}#sk-container-id-1 div.sk-label label {font-family: monospace;font-weight: bold;display: inline-block;line-height: 1.2em;}#sk-container-id-1 div.sk-label-container {text-align: center;}#sk-container-id-1 div.sk-container {/* jupyter's `normalize.less` sets `[hidden] { display: none; }` but bootstrap.min.css set `[hidden] { display: none !important; }` so we also need the `!important` here to be able to override the default hidden behavior on the sphinx rendered scikit-learn.org. See: https://github.com/scikit-learn/scikit-learn/issues/21755 */display: inline-block !important;position: relative;}#sk-container-id-1 div.sk-text-repr-fallback {display: none;}</style><div id=\"sk-container-id-1\" class=\"sk-top-container\"><div class=\"sk-text-repr-fallback\"><pre>LogisticRegression()</pre><b>In a Jupyter environment, please rerun this cell to show the HTML representation or trust the notebook. <br />On GitHub, the HTML representation is unable to render, please try loading this page with nbviewer.org.</b></div><div class=\"sk-container\" hidden><div class=\"sk-item\"><div class=\"sk-estimator sk-toggleable\"><input class=\"sk-toggleable__control sk-hidden--visually\" id=\"sk-estimator-id-1\" type=\"checkbox\" checked><label for=\"sk-estimator-id-1\" class=\"sk-toggleable__label sk-toggleable__label-arrow\">LogisticRegression</label><div class=\"sk-toggleable__content\"><pre>LogisticRegression()</pre></div></div></div></div></div>"
      ],
      "text/plain": [
       "LogisticRegression()"
      ]
     },
     "execution_count": 64,
     "metadata": {},
     "output_type": "execute_result"
    }
   ],
   "source": [
    "# fit model\n",
    "poly_model.fit(newX_train_poly, y_train)"
   ]
  },
  {
   "cell_type": "code",
   "execution_count": 65,
   "id": "b04954a1-737a-48c9-ac94-dccaf32d1764",
   "metadata": {},
   "outputs": [],
   "source": [
    "# dump the fitted model\n",
    "#dump(poly_model,  '../models/log_poly_2.joblib')"
   ]
  },
  {
   "cell_type": "code",
   "execution_count": 66,
   "id": "e7c142fd-8ad4-4249-91c3-786001c5e7d7",
   "metadata": {},
   "outputs": [],
   "source": [
    "# save prediction \n",
    "y_train_preds = poly_model.predict_proba(newX_train_poly)[:, 1]"
   ]
  },
  {
   "cell_type": "code",
   "execution_count": 67,
   "id": "72efe088-d81d-4aab-bde3-2e0faa8effde",
   "metadata": {},
   "outputs": [
    {
     "name": "stdout",
     "output_type": "stream",
     "text": [
      "0.08935380440930576\n",
      "0.01590011833133156\n",
      "0.9718561683981886\n"
     ]
    }
   ],
   "source": [
    "print(mean_squared_error(y_train, y_train_preds, squared=False))\n",
    "print(mean_absolute_error(y_train, y_train_preds))\n",
    "print(roc_auc_score(y_train, y_train_preds))"
   ]
  },
  {
   "cell_type": "markdown",
   "id": "f918f9d8-98db-48e2-a519-6ae8261625f0",
   "metadata": {},
   "source": [
    "__Validation set__"
   ]
  },
  {
   "cell_type": "code",
   "execution_count": 68,
   "id": "69e5da48-b7e8-4d3d-8cfd-05d0e47c70c2",
   "metadata": {},
   "outputs": [
    {
     "name": "stdout",
     "output_type": "stream",
     "text": [
      "0.09116067961846476\n",
      "0.01623142059257381\n",
      "0.970257766795252\n"
     ]
    }
   ],
   "source": [
    "y_val_preds = poly_model.predict_proba(newX_val)[:, 1]\n",
    "print(mean_squared_error(y_val_preds, y_val, squared=False))\n",
    "print(mean_absolute_error(y_val_preds, y_val))\n",
    "print(roc_auc_score(y_val, y_val_preds))"
   ]
  },
  {
   "cell_type": "markdown",
   "id": "d194e309-90e4-436b-9996-dbe99434dfb4",
   "metadata": {},
   "source": [
    "__Testing set__"
   ]
  },
  {
   "cell_type": "code",
   "execution_count": 69,
   "id": "96676cb6-892d-4206-9778-4e86ee44ab07",
   "metadata": {},
   "outputs": [
    {
     "name": "stdout",
     "output_type": "stream",
     "text": [
      "0.07786434218197587\n",
      "0.01338039465714879\n",
      "0.9791487117335488\n"
     ]
    }
   ],
   "source": [
    "y_test_preds = poly_model.predict_proba(newX_test)[:, 1]\n",
    "print(mean_squared_error(y_test_preds, y_test, squared=False))\n",
    "print(mean_absolute_error(y_test_preds, y_test))\n",
    "print(roc_auc_score(y_test, y_test_preds))"
   ]
  },
  {
   "cell_type": "markdown",
   "id": "7b780be3-e384-4c00-be80-774244694071",
   "metadata": {},
   "source": [
    "It can be seen that the AUROC score after trained model with polynomial regression increased compared to baseline model."
   ]
  },
  {
   "cell_type": "markdown",
   "id": "26197861-ebb5-4512-866d-d6e25c4a9922",
   "metadata": {},
   "source": [
    "## 7.Predict probablity on Test Dataset"
   ]
  },
  {
   "cell_type": "markdown",
   "id": "f65ce0e9-7cfe-41c7-937a-1e703f6c360d",
   "metadata": {},
   "source": [
    "We will use the trained model in df dataset to predict the probability of drafted in the test dataset."
   ]
  },
  {
   "cell_type": "code",
   "execution_count": 70,
   "id": "8791e926-a7cd-4b71-b07d-8f64e0bc9c8f",
   "metadata": {},
   "outputs": [],
   "source": [
    "# select features the same as Train dataset\n",
    "features_to_keep = ['adjoe', 'rimmade', 'dunks_ratio', 'adrtg']\n",
    "X_testdataset = features_test[features_to_keep]"
   ]
  },
  {
   "cell_type": "code",
   "execution_count": 71,
   "id": "3ade1fa8-9b0b-486a-b512-6a5d7f63e692",
   "metadata": {},
   "outputs": [
    {
     "data": {
      "text/html": [
       "<div>\n",
       "<style scoped>\n",
       "    .dataframe tbody tr th:only-of-type {\n",
       "        vertical-align: middle;\n",
       "    }\n",
       "\n",
       "    .dataframe tbody tr th {\n",
       "        vertical-align: top;\n",
       "    }\n",
       "\n",
       "    .dataframe thead th {\n",
       "        text-align: right;\n",
       "    }\n",
       "</style>\n",
       "<table border=\"1\" class=\"dataframe\">\n",
       "  <thead>\n",
       "    <tr style=\"text-align: right;\">\n",
       "      <th></th>\n",
       "      <th>adjoe</th>\n",
       "      <th>rimmade</th>\n",
       "      <th>dunks_ratio</th>\n",
       "      <th>adrtg</th>\n",
       "    </tr>\n",
       "  </thead>\n",
       "  <tbody>\n",
       "    <tr>\n",
       "      <th>0</th>\n",
       "      <td>0.135376</td>\n",
       "      <td>-0.850756</td>\n",
       "      <td>-0.852964</td>\n",
       "      <td>0.804933</td>\n",
       "    </tr>\n",
       "    <tr>\n",
       "      <th>1</th>\n",
       "      <td>-0.826179</td>\n",
       "      <td>-0.761721</td>\n",
       "      <td>-0.852964</td>\n",
       "      <td>1.320875</td>\n",
       "    </tr>\n",
       "    <tr>\n",
       "      <th>2</th>\n",
       "      <td>0.187632</td>\n",
       "      <td>0.306707</td>\n",
       "      <td>1.125226</td>\n",
       "      <td>0.282413</td>\n",
       "    </tr>\n",
       "    <tr>\n",
       "      <th>3</th>\n",
       "      <td>0.430469</td>\n",
       "      <td>-0.850756</td>\n",
       "      <td>-0.852964</td>\n",
       "      <td>-0.738868</td>\n",
       "    </tr>\n",
       "    <tr>\n",
       "      <th>4</th>\n",
       "      <td>0.685925</td>\n",
       "      <td>-0.227507</td>\n",
       "      <td>-0.852964</td>\n",
       "      <td>0.153651</td>\n",
       "    </tr>\n",
       "  </tbody>\n",
       "</table>\n",
       "</div>"
      ],
      "text/plain": [
       "      adjoe   rimmade  dunks_ratio     adrtg\n",
       "0  0.135376 -0.850756    -0.852964  0.804933\n",
       "1 -0.826179 -0.761721    -0.852964  1.320875\n",
       "2  0.187632  0.306707     1.125226  0.282413\n",
       "3  0.430469 -0.850756    -0.852964 -0.738868\n",
       "4  0.685925 -0.227507    -0.852964  0.153651"
      ]
     },
     "execution_count": 71,
     "metadata": {},
     "output_type": "execute_result"
    }
   ],
   "source": [
    "X_testdataset.head()"
   ]
  },
  {
   "cell_type": "code",
   "execution_count": 72,
   "id": "92b986c2-2cf5-4166-901a-8590c57fe4ef",
   "metadata": {},
   "outputs": [],
   "source": [
    "# Use trained models to predict probability on Dataset B\n",
    "X_testdataset_poly = poly_features.transform(X_testdataset)\n",
    "drafted_probability_poly = poly_model.predict_proba(X_testdataset_poly)[:, 1]"
   ]
  },
  {
   "cell_type": "code",
   "execution_count": 73,
   "id": "f70b63ea-a095-4fd3-806c-cbb66a7cf4e7",
   "metadata": {},
   "outputs": [],
   "source": [
    "results_A = pd.DataFrame({'drafted': drafted_probability_poly})"
   ]
  },
  {
   "cell_type": "code",
   "execution_count": 75,
   "id": "c1738f7c-64e5-470f-aa7c-b9f40fca6621",
   "metadata": {},
   "outputs": [
    {
     "name": "stdout",
     "output_type": "stream",
     "text": [
      "                                 player_id       drafted\n",
      "0     cf302b4d-84f7-4124-a25d-a75eed31978b  8.940124e-06\n",
      "1     f91837cd-4f49-4b70-963d-aeb82c6ce3da  3.103699e-09\n",
      "2     53ec2a29-1e7d-4c6d-86d7-d60d02af8916  1.559228e-04\n",
      "3     32402798-471c-4a54-8cb4-29cd95199014  2.349645e-03\n",
      "4     73b960f9-27b8-4431-9d23-a760e9bbc360  8.587857e-04\n",
      "...                                    ...           ...\n",
      "4965  a25ee55f-02a3-4f8e-8194-a5f427e14e7c  6.526613e-04\n",
      "4966  d0d9f45e-7b01-44b3-8d40-514ec338611d  4.454578e-15\n",
      "4967  f8df22c4-1602-4fab-896d-8820951aae2f  2.920054e-15\n",
      "4968  b791c69a-f769-4163-afda-051a6fd20a9d  5.298693e-15\n",
      "4969  18b51f5d-4746-4121-88fd-c8d0a1399130  9.441007e-04\n",
      "\n",
      "[4970 rows x 2 columns]\n"
     ]
    }
   ],
   "source": [
    "results_A['player_id'] = test['player_id']\n",
    "results_A = results_A[['player_id', 'drafted']]\n",
    "print(results_A)"
   ]
  },
  {
   "cell_type": "code",
   "execution_count": 76,
   "id": "f8a2e625-60b5-4504-89b5-0f43a8e5f953",
   "metadata": {},
   "outputs": [],
   "source": [
    "results_A.to_csv('../data/processed/results_A.csv', index=False)"
   ]
  },
  {
   "cell_type": "markdown",
   "id": "da47951a-6f2b-48d8-9edc-85fd65586d0d",
   "metadata": {},
   "source": [
    "## 8. References"
   ]
  },
  {
   "cell_type": "markdown",
   "id": "5e3c0980-3197-4139-9b0f-8828441c9133",
   "metadata": {},
   "source": [
    "So, A. (2023). _36120_AdvMLA-Lab1_Exercise2-Solutions.ipynb_. https://colab.research.google.com/drive/15OZMUMwUBoAmtrfuzJaEhF1Ta8XkCmQZ?authuser=1#scrollTo=Pw_LqGuGC9Oz"
   ]
  },
  {
   "cell_type": "markdown",
   "id": "f740fd1a-3719-4ed9-9506-a9c8705c911a",
   "metadata": {},
   "source": [
    "So, A. (2023). _36120_AdvMLA-Lab1_Exercise3-Solutions.ipynb_. https://colab.research.google.com/drive/1sHbkg8n7cU_GSm4AB7oKKIzFjJvobBxK?authuser=1#scrollTo=Bc10AnKyW23U"
   ]
  },
  {
   "cell_type": "code",
   "execution_count": null,
   "id": "ea76b632-85f0-42db-8489-cf200a836bc1",
   "metadata": {},
   "outputs": [],
   "source": []
  }
 ],
 "metadata": {
  "kernelspec": {
   "display_name": "Python 3 (ipykernel)",
   "language": "python",
   "name": "python3"
  },
  "language_info": {
   "codemirror_mode": {
    "name": "ipython",
    "version": 3
   },
   "file_extension": ".py",
   "mimetype": "text/x-python",
   "name": "python",
   "nbconvert_exporter": "python",
   "pygments_lexer": "ipython3",
   "version": "3.10.9"
  }
 },
 "nbformat": 4,
 "nbformat_minor": 5
}
